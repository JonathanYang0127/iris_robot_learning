{
 "cells": [
  {
   "cell_type": "code",
   "execution_count": 1,
   "metadata": {
    "collapsed": false
   },
   "outputs": [],
   "source": [
    "import tensorflow as tf\n",
    "\n",
    "from algos.convex_naf import ConvexNAFAlgorithm\n",
    "from algos.ddpg import DDPG as MyDDPG\n",
    "from qfunctions.convex_naf_qfunction import ConcaveNAF\n",
    "from qfunctions.nn_qfunction import FeedForwardCritic\n",
    "from qfunctions.quadratic_naf_qfunction import QuadraticNAF\n",
    "from qfunctions.quadratic_qf import QuadraticQF\n",
    "from policies.nn_policy import FeedForwardPolicy\n",
    "from rllab.exploration_strategies.ou_strategy import OUStrategy\n",
    "\n",
    "from rllab.envs.box2d.cartpole_env import CartpoleEnv\n",
    "from rllab.envs.normalized_env import normalize\n",
    "\n",
    "import matplotlib.pyplot as plt\n",
    "import numpy as np"
   ]
  },
  {
   "cell_type": "code",
   "execution_count": 2,
   "metadata": {
    "collapsed": true
   },
   "outputs": [],
   "source": [
    "BATCH_SIZE = 128\n",
    "N_EPOCHS = 10\n",
    "EPOCH_LENGTH = 100\n",
    "EVAL_SAMPLES = 100\n",
    "DISCOUNT = 0.99\n",
    "QF_LEARNING_RATE = 1e-3\n",
    "POLICY_LEARNING_RATE = 1e-4\n",
    "BATCH_LEARNING_RATE = 1e-2\n",
    "SOFT_TARGET_TAU = 1e-2\n",
    "REPLAY_POOL_SIZE = 1000000\n",
    "MIN_POOL_SIZE = 256\n",
    "SCALE_REWARD = 1.0\n",
    "QF_WEIGHT_DECAY = 0.01\n",
    "MAX_PATH_LENGTH = 1000\n",
    "N_UPDATES_PER_TIME_STEP = 5\n",
    "\n",
    "QF_TYPE = ''"
   ]
  },
  {
   "cell_type": "code",
   "execution_count": 3,
   "metadata": {
    "collapsed": false
   },
   "outputs": [
    {
     "ename": "AttributeError",
     "evalue": "'ArgmaxPolicy' object has no attribute 'qf'",
     "output_type": "error",
     "traceback": [
      "\u001b[0;31m---------------------------------------------------------------------------\u001b[0m",
      "\u001b[0;31mAttributeError\u001b[0m                            Traceback (most recent call last)",
      "\u001b[0;32m<ipython-input-3-4adeaed95f2c>\u001b[0m in \u001b[0;36m<module>\u001b[0;34m()\u001b[0m\n\u001b[1;32m     53\u001b[0m     \u001b[0mes\u001b[0m\u001b[0;34m,\u001b[0m\u001b[0;34m\u001b[0m\u001b[0m\n\u001b[1;32m     54\u001b[0m     \u001b[0mqf\u001b[0m\u001b[0;34m,\u001b[0m\u001b[0;34m\u001b[0m\u001b[0m\n\u001b[0;32m---> 55\u001b[0;31m     \u001b[0;34m**\u001b[0m\u001b[0malgo_params\u001b[0m\u001b[0;34m\u001b[0m\u001b[0m\n\u001b[0m\u001b[1;32m     56\u001b[0m )\n",
      "\u001b[0;32m/Users/vitchyr/git/rail-rl/algos/naf.py\u001b[0m in \u001b[0;36m__init__\u001b[0;34m(self, env, exploration_strategy, naf_qfunction, qf_learning_rate, qf_weight_decay, **kwargs)\u001b[0m\n\u001b[1;32m     48\u001b[0m             \u001b[0mpolicy\u001b[0m\u001b[0;34m=\u001b[0m\u001b[0;32mNone\u001b[0m\u001b[0;34m,\u001b[0m\u001b[0;34m\u001b[0m\u001b[0m\n\u001b[1;32m     49\u001b[0m             \u001b[0mexploration_strategy\u001b[0m\u001b[0;34m=\u001b[0m\u001b[0mexploration_strategy\u001b[0m\u001b[0;34m,\u001b[0m\u001b[0;34m\u001b[0m\u001b[0m\n\u001b[0;32m---> 50\u001b[0;31m             **kwargs)\n\u001b[0m\u001b[1;32m     51\u001b[0m \u001b[0;34m\u001b[0m\u001b[0m\n\u001b[1;32m     52\u001b[0m     \u001b[0;34m@\u001b[0m\u001b[0moverrides\u001b[0m\u001b[0;34m\u001b[0m\u001b[0m\n",
      "\u001b[0;32m/Users/vitchyr/git/rail-rl/algos/online_algorithm.py\u001b[0m in \u001b[0;36m__init__\u001b[0;34m(self, env, policy, exploration_strategy, batch_size, n_epochs, epoch_length, min_pool_size, replay_pool_size, discount, soft_target_tau, max_path_length, eval_samples, scale_reward, render, n_updates_per_time_step)\u001b[0m\n\u001b[1;32m     91\u001b[0m         \u001b[0mself\u001b[0m\u001b[0;34m.\u001b[0m\u001b[0msess\u001b[0m \u001b[0;34m=\u001b[0m \u001b[0mtf\u001b[0m\u001b[0;34m.\u001b[0m\u001b[0mget_default_session\u001b[0m\u001b[0;34m(\u001b[0m\u001b[0;34m)\u001b[0m \u001b[0;32mor\u001b[0m \u001b[0mtf\u001b[0m\u001b[0;34m.\u001b[0m\u001b[0mSession\u001b[0m\u001b[0;34m(\u001b[0m\u001b[0;34m)\u001b[0m\u001b[0;34m\u001b[0m\u001b[0m\n\u001b[1;32m     92\u001b[0m         \u001b[0;32mwith\u001b[0m \u001b[0mself\u001b[0m\u001b[0;34m.\u001b[0m\u001b[0msess\u001b[0m\u001b[0;34m.\u001b[0m\u001b[0mas_default\u001b[0m\u001b[0;34m(\u001b[0m\u001b[0;34m)\u001b[0m\u001b[0;34m:\u001b[0m\u001b[0;34m\u001b[0m\u001b[0m\n\u001b[0;32m---> 93\u001b[0;31m             \u001b[0mself\u001b[0m\u001b[0;34m.\u001b[0m\u001b[0m_init_tensorflow_ops\u001b[0m\u001b[0;34m(\u001b[0m\u001b[0;34m)\u001b[0m\u001b[0;34m\u001b[0m\u001b[0m\n\u001b[0m\u001b[1;32m     94\u001b[0m         \u001b[0mself\u001b[0m\u001b[0;34m.\u001b[0m\u001b[0mes_path_returns\u001b[0m \u001b[0;34m=\u001b[0m \u001b[0;34m[\u001b[0m\u001b[0;34m]\u001b[0m\u001b[0;34m\u001b[0m\u001b[0m\n\u001b[1;32m     95\u001b[0m \u001b[0;34m\u001b[0m\u001b[0m\n",
      "\u001b[0;32m/Users/vitchyr/git/rail-rl/algos/convex_naf.py\u001b[0m in \u001b[0;36m_init_tensorflow_ops\u001b[0;34m(self)\u001b[0m\n\u001b[1;32m     21\u001b[0m     \u001b[0;34m@\u001b[0m\u001b[0moverrides\u001b[0m\u001b[0;34m\u001b[0m\u001b[0m\n\u001b[1;32m     22\u001b[0m     \u001b[0;32mdef\u001b[0m \u001b[0m_init_tensorflow_ops\u001b[0m\u001b[0;34m(\u001b[0m\u001b[0mself\u001b[0m\u001b[0;34m)\u001b[0m\u001b[0;34m:\u001b[0m\u001b[0;34m\u001b[0m\u001b[0m\n\u001b[0;32m---> 23\u001b[0;31m         \u001b[0msuper\u001b[0m\u001b[0;34m(\u001b[0m\u001b[0;34m)\u001b[0m\u001b[0;34m.\u001b[0m\u001b[0m_init_tensorflow_ops\u001b[0m\u001b[0;34m(\u001b[0m\u001b[0;34m)\u001b[0m\u001b[0;34m\u001b[0m\u001b[0m\n\u001b[0m\u001b[1;32m     24\u001b[0m         \u001b[0mself\u001b[0m\u001b[0;34m.\u001b[0m\u001b[0m_af\u001b[0m \u001b[0;34m=\u001b[0m \u001b[0mself\u001b[0m\u001b[0;34m.\u001b[0m\u001b[0mqf\u001b[0m\u001b[0;34m.\u001b[0m\u001b[0madvantage_function\u001b[0m\u001b[0;34m\u001b[0m\u001b[0m\n\u001b[1;32m     25\u001b[0m         self._clip_weight_ops = [v.assign(tf.maximum(v, 0)) for v in\n",
      "\u001b[0;32m/Users/vitchyr/git/rail-rl/algos/naf.py\u001b[0m in \u001b[0;36m_init_tensorflow_ops\u001b[0;34m(self)\u001b[0m\n\u001b[1;32m     62\u001b[0m         )\n\u001b[1;32m     63\u001b[0m         \u001b[0mself\u001b[0m\u001b[0;34m.\u001b[0m\u001b[0mqf\u001b[0m\u001b[0;34m.\u001b[0m\u001b[0msess\u001b[0m \u001b[0;34m=\u001b[0m \u001b[0mself\u001b[0m\u001b[0;34m.\u001b[0m\u001b[0msess\u001b[0m\u001b[0;34m\u001b[0m\u001b[0m\n\u001b[0;32m---> 64\u001b[0;31m         \u001b[0mself\u001b[0m\u001b[0;34m.\u001b[0m\u001b[0mpolicy\u001b[0m \u001b[0;34m=\u001b[0m \u001b[0mself\u001b[0m\u001b[0;34m.\u001b[0m\u001b[0mqf\u001b[0m\u001b[0;34m.\u001b[0m\u001b[0mimplicit_policy\u001b[0m\u001b[0;34m\u001b[0m\u001b[0m\n\u001b[0m\u001b[1;32m     65\u001b[0m         \u001b[0mself\u001b[0m\u001b[0;34m.\u001b[0m\u001b[0mtarget_vf\u001b[0m\u001b[0;34m.\u001b[0m\u001b[0msess\u001b[0m \u001b[0;34m=\u001b[0m \u001b[0mself\u001b[0m\u001b[0;34m.\u001b[0m\u001b[0msess\u001b[0m\u001b[0;34m\u001b[0m\u001b[0m\n\u001b[1;32m     66\u001b[0m         \u001b[0mself\u001b[0m\u001b[0;34m.\u001b[0m\u001b[0m_init_qf_ops\u001b[0m\u001b[0;34m(\u001b[0m\u001b[0;34m)\u001b[0m\u001b[0;34m\u001b[0m\u001b[0m\n",
      "\u001b[0;32m/Users/vitchyr/git/rail-rl/qfunctions/convex_naf_qfunction.py\u001b[0m in \u001b[0;36mimplicit_policy\u001b[0;34m(self)\u001b[0m\n\u001b[1;32m     95\u001b[0m     \u001b[0;34m@\u001b[0m\u001b[0mproperty\u001b[0m\u001b[0;34m\u001b[0m\u001b[0m\n\u001b[1;32m     96\u001b[0m     \u001b[0;32mdef\u001b[0m \u001b[0mimplicit_policy\u001b[0m\u001b[0;34m(\u001b[0m\u001b[0mself\u001b[0m\u001b[0;34m)\u001b[0m\u001b[0;34m:\u001b[0m\u001b[0;34m\u001b[0m\u001b[0m\n\u001b[0;32m---> 97\u001b[0;31m         \u001b[0;32mreturn\u001b[0m \u001b[0mself\u001b[0m\u001b[0;34m.\u001b[0m\u001b[0madvantage_function\u001b[0m\u001b[0;34m.\u001b[0m\u001b[0mimplicit_policy\u001b[0m\u001b[0;34m\u001b[0m\u001b[0m\n\u001b[0m\u001b[1;32m     98\u001b[0m \u001b[0;34m\u001b[0m\u001b[0m\n\u001b[1;32m     99\u001b[0m     \u001b[0;34m@\u001b[0m\u001b[0mproperty\u001b[0m\u001b[0;34m\u001b[0m\u001b[0m\n",
      "\u001b[0;32m/Users/vitchyr/git/rail-rl/qfunctions/action_concave_qfunction.py\u001b[0m in \u001b[0;36mimplicit_policy\u001b[0;34m(self)\u001b[0m\n\u001b[1;32m    112\u001b[0m             self._sgd_policy = ArgmaxPolicy(\n\u001b[1;32m    113\u001b[0m                 \u001b[0mname_or_scope\u001b[0m\u001b[0;34m=\u001b[0m\u001b[0;34m\"argmax_policy\"\u001b[0m\u001b[0;34m,\u001b[0m\u001b[0;34m\u001b[0m\u001b[0m\n\u001b[0;32m--> 114\u001b[0;31m                 \u001b[0mqfunction\u001b[0m\u001b[0;34m=\u001b[0m\u001b[0mself\u001b[0m\u001b[0;34m,\u001b[0m\u001b[0;34m\u001b[0m\u001b[0m\n\u001b[0m\u001b[1;32m    115\u001b[0m             )\n\u001b[1;32m    116\u001b[0m             self._bundle_policy = BundleEntropyArgmaxPolicy(\n",
      "\u001b[0;32m/Users/vitchyr/git/rail-rl/policies/argmax_policy.py\u001b[0m in \u001b[0;36m__init__\u001b[0;34m(self, name_or_scope, qfunction, learning_rate, n_update_steps, **kwargs)\u001b[0m\n\u001b[1;32m     71\u001b[0m                     var_list=[self.proposed_action])\n\u001b[1;32m     72\u001b[0m                 \u001b[0;31m# self.clipped_action = tf.clip_by_value(self.proposed_action, -1, 1)\u001b[0m\u001b[0;34m\u001b[0m\u001b[0;34m\u001b[0m\u001b[0m\n\u001b[0;32m---> 73\u001b[0;31m                 self.process_action = self.qf.action_input_preprocess(\n\u001b[0m\u001b[1;32m     74\u001b[0m                     \u001b[0mself\u001b[0m\u001b[0;34m.\u001b[0m\u001b[0mproposed_action\u001b[0m\u001b[0;34m,\u001b[0m\u001b[0;34m\u001b[0m\u001b[0m\n\u001b[1;32m     75\u001b[0m                 )\n",
      "\u001b[0;31mAttributeError\u001b[0m: 'ArgmaxPolicy' object has no attribute 'qf'"
     ]
    }
   ],
   "source": [
    "env = normalize(CartpoleEnv())\n",
    "policy_params = dict(\n",
    "    observation_hidden_sizes=(100, 100),\n",
    "    hidden_nonlinearity=tf.nn.relu,\n",
    "    output_nonlinearity=tf.nn.tanh,\n",
    ")\n",
    "algo_params = dict(\n",
    "    batch_size=BATCH_SIZE,\n",
    "    n_epochs=N_EPOCHS,\n",
    "    epoch_length=EPOCH_LENGTH,\n",
    "    eval_samples=EVAL_SAMPLES,\n",
    "    discount=DISCOUNT,\n",
    "#     policy_learning_rate=POLICY_LEARNING_RATE,\n",
    "    qf_learning_rate=QF_LEARNING_RATE,\n",
    "    soft_target_tau=SOFT_TARGET_TAU,\n",
    "    replay_pool_size=REPLAY_POOL_SIZE,\n",
    "    min_pool_size=MIN_POOL_SIZE,\n",
    "    scale_reward=SCALE_REWARD,\n",
    "    max_path_length=MAX_PATH_LENGTH,\n",
    "    qf_weight_decay=QF_WEIGHT_DECAY,\n",
    ")\n",
    "\n",
    "es = OUStrategy(env_spec=env.spec)\n",
    "# policy = FeedForwardPolicy(\n",
    "#     name_or_scope=\"policy\",\n",
    "#     env_spec=env.spec,\n",
    "#     **policy_params\n",
    "# )\n",
    "# qf = QuadraticNAF(\n",
    "#     name_or_scope=\"quadratic_qfunction\",\n",
    "#     env_spec=env.spec,\n",
    "# )\n",
    "# qf = FeedForwardCritic(\n",
    "#     name_or_scope=\"feed_forward_qfunction\",\n",
    "#     env_spec=env.spec,\n",
    "# )\n",
    "# algorithm = MyDDPG(\n",
    "#     env,\n",
    "#     es,\n",
    "#     policy,\n",
    "#     qf,\n",
    "#     **algo_params\n",
    "# )\n",
    "\n",
    "optimizer_type = 'sgd'\n",
    "qf = ConcaveNAF(\n",
    "    name_or_scope=\"qf\",\n",
    "    env_spec=env.spec,\n",
    "    optimizer_type=optimizer_type,\n",
    ")\n",
    "algorithm = ConvexNAFAlgorithm(\n",
    "    env,\n",
    "    es,\n",
    "    qf,\n",
    "    **algo_params\n",
    ")\n"
   ]
  },
  {
   "cell_type": "code",
   "execution_count": 10,
   "metadata": {
    "collapsed": true
   },
   "outputs": [],
   "source": [
    "policy = qf.implicit_policy"
   ]
  },
  {
   "cell_type": "code",
   "execution_count": 4,
   "metadata": {
    "collapsed": false
   },
   "outputs": [
    {
     "name": "stdout",
     "output_type": "stream",
     "text": [
      "2016-12-16 06:11:27.392939 PST | Populating workers...\n",
      "2016-12-16 06:11:27.394848 PST | Populated\n",
      "2016-12-16 06:11:27.396694 PST | Epoch #0 | Training started\n",
      "2016-12-16 06:11:32.748808 PST | Epoch #0 | Training finished. Time: 5.350584030151367\n",
      "2016-12-16 06:11:32.750002 PST | Epoch #1 | Training started\n",
      "2016-12-16 06:11:38.340984 PST | Epoch #1 | Training finished. Time: 5.589614152908325\n",
      "2016-12-16 06:11:38.342405 PST | Epoch #1 | Collecting samples for evaluation\n"
     ]
    },
    {
     "name": "stderr",
     "output_type": "stream",
     "text": [
      "0%                          100%\n",
      "[##############################] | ETA: 00:00:00\n",
      "Total time elapsed: 00:00:05\n"
     ]
    },
    {
     "name": "stdout",
     "output_type": "stream",
     "text": [
      "2016-12-16 06:11:50.439447 PST | Epoch #1 | Eval time: 12.097042083740234\n",
      "2016-12-16 06:11:50.442927 PST | ---------------------  -------------\n",
      "2016-12-16 06:11:50.444591 PST | Epoch                    1\n",
      "2016-12-16 06:11:50.445967 PST | AverageReturn           77.4438\n",
      "2016-12-16 06:11:50.447553 PST | QfLoss                  88.0462\n",
      "2016-12-16 06:11:50.449389 PST | YsMean                   8.85029\n",
      "2016-12-16 06:11:50.450570 PST | YsStd                    3.17912\n",
      "2016-12-16 06:11:50.452936 PST | YsMax                    9.99881\n",
      "2016-12-16 06:11:50.454689 PST | YsMin                    0\n",
      "2016-12-16 06:11:50.457363 PST | QfOutputMean             0.0240481\n",
      "2016-12-16 06:11:50.463803 PST | QfOutputStd              0.0087723\n",
      "2016-12-16 06:11:50.467639 PST | QfOutputMax              0.0478853\n",
      "2016-12-16 06:11:50.472722 PST | QfOutputMin              0.0117025\n",
      "2016-12-16 06:11:50.479398 PST | TargetVfOutputMean      -0.000516322\n",
      "2016-12-16 06:11:50.482022 PST | TargetVfOutputStd        0.000262916\n",
      "2016-12-16 06:11:50.485485 PST | TargetVfOutputMax        0.000186769\n",
      "2016-12-16 06:11:50.491728 PST | TargetVfOutputMin       -0.000891475\n",
      "2016-12-16 06:11:50.498146 PST | RewardsMean              8.85072\n",
      "2016-12-16 06:11:50.504385 PST | RewardsStd               3.17928\n",
      "2016-12-16 06:11:50.508577 PST | RewardsMax               9.9996\n",
      "2016-12-16 06:11:50.513662 PST | RewardsMin               0\n",
      "2016-12-16 06:11:50.514643 PST | ReturnsMean             77.4438\n",
      "2016-12-16 06:11:50.517307 PST | ReturnsStd              25.855\n",
      "2016-12-16 06:11:50.519313 PST | ReturnsMax             139.931\n",
      "2016-12-16 06:11:50.522104 PST | ReturnsMin              39.9648\n",
      "2016-12-16 06:11:50.523219 PST | DiscountedReturnsMean   74.5701\n",
      "2016-12-16 06:11:50.525500 PST | DiscountedReturnsStd    23.7937\n",
      "2016-12-16 06:11:50.527009 PST | DiscountedReturnsMax   131.192\n",
      "2016-12-16 06:11:50.528683 PST | DiscountedReturnsMin    39.3695\n",
      "2016-12-16 06:11:50.530111 PST | PolicyOutputMean         0\n",
      "2016-12-16 06:11:50.531437 PST | PolicyOutputStd          0\n",
      "2016-12-16 06:11:50.532969 PST | PolicyOutputMax          0\n",
      "2016-12-16 06:11:50.534349 PST | PolicyOutputMin          0\n",
      "2016-12-16 06:11:50.535956 PST | TrainingReturnsMean     23.3731\n",
      "2016-12-16 06:11:50.537244 PST | TrainingReturnsStd      12.4301\n",
      "2016-12-16 06:11:50.538284 PST | TrainingReturnsMax      59.964\n",
      "2016-12-16 06:11:50.539774 PST | TrainingReturnsMin       0\n",
      "2016-12-16 06:11:50.542005 PST | ---------------------  -------------\n",
      "2016-12-16 06:11:50.543678 PST | Epoch #2 | Training started\n",
      "2016-12-16 06:11:57.388970 PST | Epoch #2 | Training finished. Time: 6.844283103942871\n",
      "2016-12-16 06:11:57.391216 PST | Epoch #2 | Collecting samples for evaluation\n"
     ]
    },
    {
     "name": "stderr",
     "output_type": "stream",
     "text": [
      "0%                          100%\n",
      "[##############################] | ETA: 00:00:00\n",
      "Total time elapsed: 00:00:07\n"
     ]
    },
    {
     "name": "stdout",
     "output_type": "stream",
     "text": [
      "2016-12-16 06:12:12.855256 PST | Epoch #2 | Eval time: 15.464191913604736\n",
      "2016-12-16 06:12:12.858948 PST | ---------------------  ----------\n",
      "2016-12-16 06:12:12.860839 PST | Epoch                    2\n",
      "2016-12-16 06:12:12.862474 PST | AverageReturn           90.8576\n",
      "2016-12-16 06:12:12.863831 PST | QfLoss                  14.8066\n",
      "2016-12-16 06:12:12.865442 PST | YsMean                  10.3635\n",
      "2016-12-16 06:12:12.866986 PST | YsStd                    3.45878\n",
      "2016-12-16 06:12:12.868756 PST | YsMax                   12.6864\n",
      "2016-12-16 06:12:12.871941 PST | YsMin                    0\n",
      "2016-12-16 06:12:12.878457 PST | QfOutputMean            11.0058\n",
      "2016-12-16 06:12:12.880005 PST | QfOutputStd              1.25896\n",
      "2016-12-16 06:12:12.881543 PST | QfOutputMax             13.5204\n",
      "2016-12-16 06:12:12.883046 PST | QfOutputMin              8.07924\n",
      "2016-12-16 06:12:12.884469 PST | TargetVfOutputMean       1.48352\n",
      "2016-12-16 06:12:12.886052 PST | TargetVfOutputStd        0.411799\n",
      "2016-12-16 06:12:12.887213 PST | TargetVfOutputMax        2.73209\n",
      "2016-12-16 06:12:12.889041 PST | TargetVfOutputMin        1.00934\n",
      "2016-12-16 06:12:12.890807 PST | RewardsMean              9.00391\n",
      "2016-12-16 06:12:12.892126 PST | RewardsStd               2.98626\n",
      "2016-12-16 06:12:12.893417 PST | RewardsMax              10\n",
      "2016-12-16 06:12:12.894675 PST | RewardsMin               0\n",
      "2016-12-16 06:12:12.896448 PST | ReturnsMean             90.8576\n",
      "2016-12-16 06:12:12.898406 PST | ReturnsStd              51.6017\n",
      "2016-12-16 06:12:12.904311 PST | ReturnsMax             179.954\n",
      "2016-12-16 06:12:12.910717 PST | ReturnsMin              29.9498\n",
      "2016-12-16 06:12:12.915915 PST | DiscountedReturnsMean   86.0517\n",
      "2016-12-16 06:12:12.921384 PST | DiscountedReturnsStd    46.7547\n",
      "2016-12-16 06:12:12.928851 PST | DiscountedReturnsMax   165.447\n",
      "2016-12-16 06:12:12.931295 PST | DiscountedReturnsMin    29.6514\n",
      "2016-12-16 06:12:12.934048 PST | PolicyOutputMean         0\n",
      "2016-12-16 06:12:12.935502 PST | PolicyOutputStd          0\n",
      "2016-12-16 06:12:12.936894 PST | PolicyOutputMax          0\n",
      "2016-12-16 06:12:12.939203 PST | PolicyOutputMin          0\n",
      "2016-12-16 06:12:12.940840 PST | TrainingReturnsMean     63.5339\n",
      "2016-12-16 06:12:12.943287 PST | TrainingReturnsStd      45.904\n",
      "2016-12-16 06:12:12.944413 PST | TrainingReturnsMax     159.889\n",
      "2016-12-16 06:12:12.946850 PST | TrainingReturnsMin       9.98682\n",
      "2016-12-16 06:12:12.948954 PST | ---------------------  ----------\n",
      "2016-12-16 06:12:12.951415 PST | Epoch #3 | Training started\n",
      "2016-12-16 06:12:21.319901 PST | Epoch #3 | Training finished. Time: 8.366887092590332\n",
      "2016-12-16 06:12:21.321386 PST | Epoch #3 | Collecting samples for evaluation\n"
     ]
    },
    {
     "name": "stderr",
     "output_type": "stream",
     "text": [
      "0%                          100%\n",
      "[##############################] | ETA: 00:00:00\n",
      "Total time elapsed: 00:00:08\n"
     ]
    },
    {
     "name": "stdout",
     "output_type": "stream",
     "text": [
      "2016-12-16 06:12:39.644959 PST | Epoch #3 | Eval time: 18.323570013046265\n",
      "2016-12-16 06:12:39.648191 PST | ---------------------  ----------\n",
      "2016-12-16 06:12:39.649528 PST | Epoch                    3\n",
      "2016-12-16 06:12:39.651133 PST | AverageReturn           74.941\n",
      "2016-12-16 06:12:39.652556 PST | QfLoss                  23.0473\n",
      "2016-12-16 06:12:39.654074 PST | YsMean                  14.4688\n",
      "2016-12-16 06:12:39.655474 PST | YsStd                    5.3666\n",
      "2016-12-16 06:12:39.656948 PST | YsMax                   18.2828\n",
      "2016-12-16 06:12:39.658241 PST | YsMin                    0\n",
      "2016-12-16 06:12:39.659639 PST | QfOutputMean            14.8163\n",
      "2016-12-16 06:12:39.660923 PST | QfOutputStd              1.76612\n",
      "2016-12-16 06:12:39.662420 PST | QfOutputMax             17.5553\n",
      "2016-12-16 06:12:39.663784 PST | QfOutputMin              9.4017\n",
      "2016-12-16 06:12:39.666543 PST | TargetVfOutputMean       6.47759\n",
      "2016-12-16 06:12:39.670246 PST | TargetVfOutputStd        0.951351\n",
      "2016-12-16 06:12:39.675280 PST | TargetVfOutputMax        8.38525\n",
      "2016-12-16 06:12:39.679842 PST | TargetVfOutputMin        4.40385\n",
      "2016-12-16 06:12:39.686077 PST | RewardsMean              8.81659\n",
      "2016-12-16 06:12:39.696722 PST | RewardsStd               3.21937\n",
      "2016-12-16 06:12:39.702417 PST | RewardsMax               9.99975\n",
      "2016-12-16 06:12:39.708430 PST | RewardsMin               0\n",
      "2016-12-16 06:12:39.713026 PST | ReturnsMean             74.941\n",
      "2016-12-16 06:12:39.734100 PST | ReturnsStd              29.8543\n",
      "2016-12-16 06:12:39.735479 PST | ReturnsMax             129.946\n",
      "2016-12-16 06:12:39.736711 PST | ReturnsMin              19.9633\n",
      "2016-12-16 06:12:39.737964 PST | DiscountedReturnsMean   72.1327\n",
      "2016-12-16 06:12:39.740897 PST | DiscountedReturnsStd    27.8409\n",
      "2016-12-16 06:12:39.743599 PST | DiscountedReturnsMax   122.43\n",
      "2016-12-16 06:12:39.745745 PST | DiscountedReturnsMin    19.8635\n",
      "2016-12-16 06:12:39.747189 PST | PolicyOutputMean         0\n",
      "2016-12-16 06:12:39.748546 PST | PolicyOutputStd          0\n",
      "2016-12-16 06:12:39.749974 PST | PolicyOutputMax          0\n",
      "2016-12-16 06:12:39.752144 PST | PolicyOutputMin          0\n",
      "2016-12-16 06:12:39.753001 PST | TrainingReturnsMean     55.2968\n",
      "2016-12-16 06:12:39.754170 PST | TrainingReturnsStd      35.5459\n",
      "2016-12-16 06:12:39.755643 PST | TrainingReturnsMax     149.905\n",
      "2016-12-16 06:12:39.756824 PST | TrainingReturnsMin       9.98127\n",
      "2016-12-16 06:12:39.758216 PST | ---------------------  ----------\n",
      "2016-12-16 06:12:39.759651 PST | Epoch #4 | Training started\n",
      "2016-12-16 06:12:49.167275 PST | Epoch #4 | Training finished. Time: 9.406564950942993\n",
      "2016-12-16 06:12:49.168592 PST | Epoch #4 | Collecting samples for evaluation\n"
     ]
    },
    {
     "name": "stderr",
     "output_type": "stream",
     "text": [
      "0%                          100%\n",
      "[##############################] | ETA: 00:00:00\n",
      "Total time elapsed: 00:00:09\n"
     ]
    },
    {
     "name": "stdout",
     "output_type": "stream",
     "text": [
      "2016-12-16 06:13:07.612561 PST | Epoch #4 | Eval time: 18.443989992141724\n",
      "2016-12-16 06:13:07.614523 PST | ---------------------  ---------\n",
      "2016-12-16 06:13:07.616170 PST | Epoch                    4\n",
      "2016-12-16 06:13:07.617735 PST | AverageReturn           73.2742\n",
      "2016-12-16 06:13:07.619117 PST | QfLoss                  33.7721\n",
      "2016-12-16 06:13:07.621236 PST | YsMean                  19.1322\n",
      "2016-12-16 06:13:07.622540 PST | YsStd                    7.19284\n",
      "2016-12-16 06:13:07.623913 PST | YsMax                   24.9877\n",
      "2016-12-16 06:13:07.625354 PST | YsMin                    0\n",
      "2016-12-16 06:13:07.626881 PST | QfOutputMean            17.4873\n",
      "2016-12-16 06:13:07.628432 PST | QfOutputStd              2.96536\n",
      "2016-12-16 06:13:07.629956 PST | QfOutputMax             23.329\n",
      "2016-12-16 06:13:07.631390 PST | QfOutputMin              9.40126\n",
      "2016-12-16 06:13:07.632966 PST | TargetVfOutputMean      12.0274\n",
      "2016-12-16 06:13:07.634105 PST | TargetVfOutputStd        1.42804\n",
      "2016-12-16 06:13:07.635496 PST | TargetVfOutputMax       15.1512\n",
      "2016-12-16 06:13:07.637035 PST | TargetVfOutputMin        7.20712\n",
      "2016-12-16 06:13:07.638955 PST | RewardsMean              8.79291\n",
      "2016-12-16 06:13:07.640593 PST | RewardsStd               3.247\n",
      "2016-12-16 06:13:07.642786 PST | RewardsMax               9.99966\n",
      "2016-12-16 06:13:07.644179 PST | RewardsMin               0\n",
      "2016-12-16 06:13:07.645541 PST | ReturnsMean             73.2742\n",
      "2016-12-16 06:13:07.648286 PST | ReturnsStd              36.1264\n",
      "2016-12-16 06:13:07.649652 PST | ReturnsMax             129.939\n",
      "2016-12-16 06:13:07.651232 PST | ReturnsMin              19.9662\n",
      "2016-12-16 06:13:07.652770 PST | DiscountedReturnsMean   70.3852\n",
      "2016-12-16 06:13:07.654435 PST | DiscountedReturnsStd    33.5501\n",
      "2016-12-16 06:13:07.656042 PST | DiscountedReturnsMax   122.423\n",
      "2016-12-16 06:13:07.658368 PST | DiscountedReturnsMin    19.8664\n",
      "2016-12-16 06:13:07.659836 PST | PolicyOutputMean         0\n",
      "2016-12-16 06:13:07.661358 PST | PolicyOutputStd          0\n",
      "2016-12-16 06:13:07.663028 PST | PolicyOutputMax          0\n",
      "2016-12-16 06:13:07.664570 PST | PolicyOutputMin          0\n",
      "2016-12-16 06:13:07.665831 PST | TrainingReturnsMean     55.2993\n",
      "2016-12-16 06:13:07.667195 PST | TrainingReturnsStd      40.2959\n",
      "2016-12-16 06:13:07.668435 PST | TrainingReturnsMax     179.921\n",
      "2016-12-16 06:13:07.670440 PST | TrainingReturnsMin      19.9704\n",
      "2016-12-16 06:13:07.672309 PST | ---------------------  ---------\n",
      "2016-12-16 06:13:07.673792 PST | Epoch #5 | Training started\n",
      "2016-12-16 06:13:17.585622 PST | Epoch #5 | Training finished. Time: 9.910341024398804\n",
      "2016-12-16 06:13:17.586787 PST | Epoch #5 | Collecting samples for evaluation\n"
     ]
    },
    {
     "name": "stderr",
     "output_type": "stream",
     "text": [
      "0%                          100%\n",
      "[##############################] | ETA: 00:00:00\n",
      "Total time elapsed: 00:00:09\n"
     ]
    },
    {
     "name": "stdout",
     "output_type": "stream",
     "text": [
      "2016-12-16 06:13:38.817934 PST | Epoch #5 | Eval time: 21.23113489151001\n",
      "2016-12-16 06:13:38.820722 PST | ---------------------  ---------\n",
      "2016-12-16 06:13:38.822156 PST | Epoch                    5\n",
      "2016-12-16 06:13:38.823518 PST | AverageReturn          101.055\n",
      "2016-12-16 06:13:38.824662 PST | QfLoss                  28.2077\n",
      "2016-12-16 06:13:38.825800 PST | YsMean                  24.2602\n",
      "2016-12-16 06:13:38.826944 PST | YsStd                    8.18322\n",
      "2016-12-16 06:13:38.828220 PST | YsMax                   31.4696\n",
      "2016-12-16 06:13:38.829416 PST | YsMin                    0\n",
      "2016-12-16 06:13:38.830698 PST | QfOutputMean            21.7205\n",
      "2016-12-16 06:13:38.831877 PST | QfOutputStd              5.40554\n",
      "2016-12-16 06:13:38.833061 PST | QfOutputMax             28.6864\n",
      "2016-12-16 06:13:38.834251 PST | QfOutputMin              8.70546\n",
      "2016-12-16 06:13:38.835485 PST | TargetVfOutputMean      17.1014\n",
      "2016-12-16 06:13:38.836767 PST | TargetVfOutputStd        3.10451\n",
      "2016-12-16 06:13:38.838000 PST | TargetVfOutputMax       21.6983\n",
      "2016-12-16 06:13:38.839197 PST | TargetVfOutputMin        8.72667\n",
      "2016-12-16 06:13:38.840402 PST | RewardsMean              9.09499\n",
      "2016-12-16 06:13:38.841896 PST | RewardsStd               2.86025\n",
      "2016-12-16 06:13:38.843295 PST | RewardsMax              10\n",
      "2016-12-16 06:13:38.844878 PST | RewardsMin               0\n",
      "2016-12-16 06:13:38.846533 PST | ReturnsMean            101.055\n",
      "2016-12-16 06:13:38.848003 PST | ReturnsStd              51.9497\n",
      "2016-12-16 06:13:38.849443 PST | ReturnsMax             209.953\n",
      "2016-12-16 06:13:38.850958 PST | ReturnsMin              39.9454\n",
      "2016-12-16 06:13:38.852458 PST | DiscountedReturnsMean   95.3619\n",
      "2016-12-16 06:13:38.853750 PST | DiscountedReturnsStd    46.1683\n",
      "2016-12-16 06:13:38.855280 PST | DiscountedReturnsMax   190.233\n",
      "2016-12-16 06:13:38.856813 PST | DiscountedReturnsMin    39.3503\n",
      "2016-12-16 06:13:38.858296 PST | PolicyOutputMean         0\n",
      "2016-12-16 06:13:38.859586 PST | PolicyOutputStd          0\n",
      "2016-12-16 06:13:38.861019 PST | PolicyOutputMax          0\n",
      "2016-12-16 06:13:38.862611 PST | PolicyOutputMin          0\n",
      "2016-12-16 06:13:38.864254 PST | TrainingReturnsMean     80.8643\n",
      "2016-12-16 06:13:38.865847 PST | TrainingReturnsStd      21.5071\n",
      "2016-12-16 06:13:38.867112 PST | TrainingReturnsMax     109.96\n",
      "2016-12-16 06:13:38.868514 PST | TrainingReturnsMin      39.9643\n",
      "2016-12-16 06:13:38.869798 PST | ---------------------  ---------\n",
      "2016-12-16 06:13:38.871013 PST | Epoch #6 | Training started\n",
      "2016-12-16 06:13:51.867628 PST | Epoch #6 | Training finished. Time: 12.994948863983154\n",
      "2016-12-16 06:13:51.869062 PST | Epoch #6 | Collecting samples for evaluation\n"
     ]
    },
    {
     "name": "stderr",
     "output_type": "stream",
     "text": [
      "0%                          100%\n",
      "[##############################] | ETA: 00:00:00\n",
      "Total time elapsed: 00:00:15\n"
     ]
    },
    {
     "name": "stdout",
     "output_type": "stream",
     "text": [
      "2016-12-16 06:14:19.626079 PST | Epoch #6 | Eval time: 27.75701379776001\n",
      "2016-12-16 06:14:19.627816 PST | ---------------------  ---------\n",
      "2016-12-16 06:14:19.631290 PST | Epoch                    6\n",
      "2016-12-16 06:14:19.632754 PST | AverageReturn          105.501\n",
      "2016-12-16 06:14:19.635057 PST | QfLoss                  31.1713\n",
      "2016-12-16 06:14:19.636499 PST | YsMean                  27.5951\n",
      "2016-12-16 06:14:19.639670 PST | YsStd                    9.73921\n",
      "2016-12-16 06:14:19.641138 PST | YsMax                   37.4868\n",
      "2016-12-16 06:14:19.642944 PST | YsMin                    0\n",
      "2016-12-16 06:14:19.644776 PST | QfOutputMean            23.9919\n",
      "2016-12-16 06:14:19.647702 PST | QfOutputStd              7.4655\n",
      "2016-12-16 06:14:19.649939 PST | QfOutputMax             35.4622\n",
      "2016-12-16 06:14:19.651384 PST | QfOutputMin              4.83256\n",
      "2016-12-16 06:14:19.653031 PST | TargetVfOutputMean      20.9031\n",
      "2016-12-16 06:14:19.662303 PST | TargetVfOutputStd        5.06059\n",
      "2016-12-16 06:14:19.664202 PST | TargetVfOutputMax       27.7701\n",
      "2016-12-16 06:14:19.665311 PST | TargetVfOutputMin        6.58371\n",
      "2016-12-16 06:14:19.667178 PST | RewardsMean              9.1299\n",
      "2016-12-16 06:14:19.668797 PST | RewardsStd               2.81013\n",
      "2016-12-16 06:14:19.670071 PST | RewardsMax              10\n",
      "2016-12-16 06:14:19.671495 PST | RewardsMin               0\n",
      "2016-12-16 06:14:19.672812 PST | ReturnsMean            105.501\n",
      "2016-12-16 06:14:19.675190 PST | ReturnsStd              59.8379\n",
      "2016-12-16 06:14:19.676872 PST | ReturnsMax             259.955\n",
      "2016-12-16 06:14:19.678244 PST | ReturnsMin              29.9523\n",
      "2016-12-16 06:14:19.679997 PST | DiscountedReturnsMean   99.0284\n",
      "2016-12-16 06:14:19.681822 PST | DiscountedReturnsStd    51.5694\n",
      "2016-12-16 06:14:19.683203 PST | DiscountedReturnsMax   229.92\n",
      "2016-12-16 06:14:19.685947 PST | DiscountedReturnsMin    29.6538\n",
      "2016-12-16 06:14:19.695592 PST | PolicyOutputMean         0\n",
      "2016-12-16 06:14:19.698650 PST | PolicyOutputStd          0\n",
      "2016-12-16 06:14:19.700151 PST | PolicyOutputMax          0\n",
      "2016-12-16 06:14:19.701375 PST | PolicyOutputMin          0\n",
      "2016-12-16 06:14:19.703878 PST | TrainingReturnsMean     54.9635\n",
      "2016-12-16 06:14:19.705161 PST | TrainingReturnsStd      50.4562\n",
      "2016-12-16 06:14:19.706920 PST | TrainingReturnsMax     239.802\n",
      "2016-12-16 06:14:19.708147 PST | TrainingReturnsMin      19.9763\n",
      "2016-12-16 06:14:19.709771 PST | ---------------------  ---------\n",
      "2016-12-16 06:14:19.711961 PST | Epoch #7 | Training started\n",
      "2016-12-16 06:14:31.551535 PST | Epoch #7 | Training finished. Time: 11.838194131851196\n",
      "2016-12-16 06:14:31.552765 PST | Epoch #7 | Collecting samples for evaluation\n"
     ]
    },
    {
     "name": "stderr",
     "output_type": "stream",
     "text": [
      "0%                          100%\n",
      "[##############################] | ETA: 00:00:00\n",
      "Total time elapsed: 00:00:14\n"
     ]
    },
    {
     "name": "stdout",
     "output_type": "stream",
     "text": [
      "2016-12-16 06:15:05.371421 PST | Epoch #7 | Eval time: 33.81864881515503\n",
      "2016-12-16 06:15:05.385115 PST | ---------------------  ---------\n",
      "2016-12-16 06:15:05.388362 PST | Epoch                    7\n",
      "2016-12-16 06:15:05.399726 PST | AverageReturn           90.9442\n",
      "2016-12-16 06:15:05.404328 PST | QfLoss                  31.7837\n",
      "2016-12-16 06:15:05.406730 PST | YsMean                  29.7737\n",
      "2016-12-16 06:15:05.419769 PST | YsStd                   12.1055\n",
      "2016-12-16 06:15:05.421201 PST | YsMax                   43.6175\n",
      "2016-12-16 06:15:05.422931 PST | YsMin                    0\n",
      "2016-12-16 06:15:05.429811 PST | QfOutputMean            26.028\n",
      "2016-12-16 06:15:05.432989 PST | QfOutputStd              9.41728\n",
      "2016-12-16 06:15:05.436206 PST | QfOutputMax             39.2785\n",
      "2016-12-16 06:15:05.437553 PST | QfOutputMin              5.65145\n",
      "2016-12-16 06:15:05.439086 PST | TargetVfOutputMean      24.0674\n",
      "2016-12-16 06:15:05.440821 PST | TargetVfOutputStd        7.45987\n",
      "2016-12-16 06:15:05.444942 PST | TargetVfOutputMax       33.969\n",
      "2016-12-16 06:15:05.447740 PST | TargetVfOutputMin        6.64471\n",
      "2016-12-16 06:15:05.450123 PST | RewardsMean              9.00438\n",
      "2016-12-16 06:15:05.451600 PST | RewardsStd               2.98493\n",
      "2016-12-16 06:15:05.453314 PST | RewardsMax              10\n",
      "2016-12-16 06:15:05.455099 PST | RewardsMin               0\n",
      "2016-12-16 06:15:05.456533 PST | ReturnsMean             90.9442\n",
      "2016-12-16 06:15:05.458005 PST | ReturnsStd              35.3407\n",
      "2016-12-16 06:15:05.463505 PST | ReturnsMax             159.95\n",
      "2016-12-16 06:15:05.466149 PST | ReturnsMin              49.9312\n",
      "2016-12-16 06:15:05.469070 PST | DiscountedReturnsMean   86.7759\n",
      "2016-12-16 06:15:05.470606 PST | DiscountedReturnsStd    32.1049\n",
      "2016-12-16 06:15:05.473379 PST | DiscountedReturnsMax   148.499\n",
      "2016-12-16 06:15:05.476845 PST | DiscountedReturnsMin    48.9427\n",
      "2016-12-16 06:15:05.480458 PST | PolicyOutputMean         0\n",
      "2016-12-16 06:15:05.483436 PST | PolicyOutputStd          0\n",
      "2016-12-16 06:15:05.486337 PST | PolicyOutputMax          0\n",
      "2016-12-16 06:15:05.487963 PST | PolicyOutputMin          0\n",
      "2016-12-16 06:15:05.489719 PST | TrainingReturnsMean     49.3394\n",
      "2016-12-16 06:15:05.492585 PST | TrainingReturnsStd      25.6042\n",
      "2016-12-16 06:15:05.494926 PST | TrainingReturnsMax      99.9563\n",
      "2016-12-16 06:15:05.498895 PST | TrainingReturnsMin       9.98168\n",
      "2016-12-16 06:15:05.501906 PST | ---------------------  ---------\n",
      "2016-12-16 06:15:05.503585 PST | Epoch #8 | Training started\n",
      "2016-12-16 06:15:21.520942 PST | Epoch #8 | Training finished. Time: 16.01496386528015\n",
      "2016-12-16 06:15:21.522211 PST | Epoch #8 | Collecting samples for evaluation\n"
     ]
    },
    {
     "name": "stderr",
     "output_type": "stream",
     "text": [
      "0%                          100%\n",
      "[##############################] | ETA: 00:00:00\n",
      "Total time elapsed: 00:00:13\n"
     ]
    },
    {
     "name": "stdout",
     "output_type": "stream",
     "text": [
      "2016-12-16 06:15:50.739205 PST | Epoch #8 | Eval time: 29.216986894607544\n",
      "2016-12-16 06:15:50.741683 PST | ---------------------  ---------\n",
      "2016-12-16 06:15:50.743384 PST | Epoch                    8\n",
      "2016-12-16 06:15:50.745040 PST | AverageReturn          133.704\n",
      "2016-12-16 06:15:50.746618 PST | QfLoss                  39.3503\n",
      "2016-12-16 06:15:50.748020 PST | YsMean                  34.8683\n",
      "2016-12-16 06:15:50.749800 PST | YsStd                   12.6825\n",
      "2016-12-16 06:15:50.751252 PST | YsMax                   47.2845\n",
      "2016-12-16 06:15:50.752838 PST | YsMin                    0\n",
      "2016-12-16 06:15:50.754522 PST | QfOutputMean            30.2659\n",
      "2016-12-16 06:15:50.756276 PST | QfOutputStd             10.3148\n",
      "2016-12-16 06:15:50.758115 PST | QfOutputMax             43.612\n",
      "2016-12-16 06:15:50.759686 PST | QfOutputMin              0.40583\n",
      "2016-12-16 06:15:50.761096 PST | TargetVfOutputMean      28.2784\n",
      "2016-12-16 06:15:50.763678 PST | TargetVfOutputStd        8.65616\n",
      "2016-12-16 06:15:50.764983 PST | TargetVfOutputMax       37.6618\n",
      "2016-12-16 06:15:50.766572 PST | TargetVfOutputMin        3.20989\n",
      "2016-12-16 06:15:50.769444 PST | RewardsMean              9.30117\n",
      "2016-12-16 06:15:50.770587 PST | RewardsStd               2.54326\n",
      "2016-12-16 06:15:50.771911 PST | RewardsMax              10\n",
      "2016-12-16 06:15:50.773664 PST | RewardsMin               0\n",
      "2016-12-16 06:15:50.775241 PST | ReturnsMean            133.704\n",
      "2016-12-16 06:15:50.777648 PST | ReturnsStd             128.049\n",
      "2016-12-16 06:15:50.779635 PST | ReturnsMax             409.949\n",
      "2016-12-16 06:15:50.780753 PST | ReturnsMin              19.9662\n",
      "2016-12-16 06:15:50.782225 PST | DiscountedReturnsMean  118.801\n",
      "2016-12-16 06:15:50.783789 PST | DiscountedReturnsStd   105.872\n",
      "2016-12-16 06:15:50.785259 PST | DiscountedReturnsMax   337.683\n",
      "2016-12-16 06:15:50.786725 PST | DiscountedReturnsMin    19.8664\n",
      "2016-12-16 06:15:50.788411 PST | PolicyOutputMean         0\n",
      "2016-12-16 06:15:50.790345 PST | PolicyOutputStd          0\n",
      "2016-12-16 06:15:50.791555 PST | PolicyOutputMax          0\n",
      "2016-12-16 06:15:50.793102 PST | PolicyOutputMin          0\n",
      "2016-12-16 06:15:50.794576 PST | TrainingReturnsMean     53.0968\n",
      "2016-12-16 06:15:50.795980 PST | TrainingReturnsStd      38.8412\n",
      "2016-12-16 06:15:50.797328 PST | TrainingReturnsMax     179.968\n",
      "2016-12-16 06:15:50.799089 PST | TrainingReturnsMin       9.98588\n",
      "2016-12-16 06:15:50.801088 PST | ---------------------  ---------\n",
      "2016-12-16 06:15:50.802421 PST | Epoch #9 | Training started\n",
      "2016-12-16 06:16:05.645239 PST | Epoch #9 | Training finished. Time: 14.841318130493164\n",
      "2016-12-16 06:16:05.646653 PST | Epoch #9 | Collecting samples for evaluation\n"
     ]
    },
    {
     "name": "stderr",
     "output_type": "stream",
     "text": [
      "0%                          100%\n",
      "[##############################] | ETA: 00:00:00\n",
      "Total time elapsed: 00:00:12\n"
     ]
    },
    {
     "name": "stdout",
     "output_type": "stream",
     "text": [
      "2016-12-16 06:16:33.334374 PST | Epoch #9 | Eval time: 27.687718152999878\n",
      "2016-12-16 06:16:33.338241 PST | ---------------------  ---------\n",
      "2016-12-16 06:16:33.341057 PST | Epoch                    9\n",
      "2016-12-16 06:16:33.343761 PST | AverageReturn           81.7581\n",
      "2016-12-16 06:16:33.348045 PST | QfLoss                  34.1521\n",
      "2016-12-16 06:16:33.353612 PST | YsMean                  32.5291\n",
      "2016-12-16 06:16:33.355210 PST | YsStd                   14.8821\n",
      "2016-12-16 06:16:33.360120 PST | YsMax                   54.0139\n",
      "2016-12-16 06:16:33.362620 PST | YsMin                    0\n",
      "2016-12-16 06:16:33.366119 PST | QfOutputMean            30.5457\n",
      "2016-12-16 06:16:33.368745 PST | QfOutputStd             11.4248\n",
      "2016-12-16 06:16:33.369931 PST | QfOutputMax             50.3273\n",
      "2016-12-16 06:16:33.371703 PST | QfOutputMin              2.44546\n",
      "2016-12-16 06:16:33.373093 PST | TargetVfOutputMean      28.0573\n",
      "2016-12-16 06:16:33.374287 PST | TargetVfOutputStd       10.3584\n",
      "2016-12-16 06:16:33.375771 PST | TargetVfOutputMax       44.467\n",
      "2016-12-16 06:16:33.377389 PST | TargetVfOutputMin        1.38436\n",
      "2016-12-16 06:16:33.379040 PST | RewardsMean              8.90434\n",
      "2016-12-16 06:16:33.380241 PST | RewardsStd               3.11299\n",
      "2016-12-16 06:16:33.382401 PST | RewardsMax               9.99959\n",
      "2016-12-16 06:16:33.384857 PST | RewardsMin               0\n",
      "2016-12-16 06:16:33.386177 PST | ReturnsMean             81.7581\n",
      "2016-12-16 06:16:33.387395 PST | ReturnsStd              47.6368\n",
      "2016-12-16 06:16:33.389285 PST | ReturnsMax             219.938\n",
      "2016-12-16 06:16:33.390710 PST | ReturnsMin              39.9451\n",
      "2016-12-16 06:16:33.392888 PST | DiscountedReturnsMean   77.8612\n",
      "2016-12-16 06:16:33.394818 PST | DiscountedReturnsStd    42.0007\n",
      "2016-12-16 06:16:33.396330 PST | DiscountedReturnsMax   198.316\n",
      "2016-12-16 06:16:33.397599 PST | DiscountedReturnsMin    39.35\n",
      "2016-12-16 06:16:33.398899 PST | PolicyOutputMean         0\n",
      "2016-12-16 06:16:33.400358 PST | PolicyOutputStd          0\n",
      "2016-12-16 06:16:33.401825 PST | PolicyOutputMax          0\n",
      "2016-12-16 06:16:33.403161 PST | PolicyOutputMin          0\n",
      "2016-12-16 06:16:33.404358 PST | TrainingReturnsMean     55.9728\n",
      "2016-12-16 06:16:33.406066 PST | TrainingReturnsStd      38.6039\n",
      "2016-12-16 06:16:33.407756 PST | TrainingReturnsMax     139.981\n",
      "2016-12-16 06:16:33.409848 PST | TrainingReturnsMin       9.98066\n",
      "2016-12-16 06:16:33.412070 PST | ---------------------  ---------\n"
     ]
    }
   ],
   "source": [
    "algorithm.train()"
   ]
  },
  {
   "cell_type": "code",
   "execution_count": 5,
   "metadata": {
    "collapsed": false
   },
   "outputs": [
    {
     "name": "stdout",
     "output_type": "stream",
     "text": [
      "1\n",
      "4\n",
      "1.0\n",
      "-1.0\n"
     ]
    }
   ],
   "source": [
    "a_dim = qf.action_dim\n",
    "o_dim = qf.observation_dim\n",
    "o_high = env.spec.action_space.high[0]\n",
    "o_low = env.spec.action_space.low[0]\n",
    "print(a_dim)\n",
    "print(o_dim)\n",
    "print(o_high)\n",
    "print(o_low)"
   ]
  },
  {
   "cell_type": "markdown",
   "metadata": {},
   "source": [
    "# Plot QF"
   ]
  },
  {
   "cell_type": "code",
   "execution_count": 6,
   "metadata": {
    "collapsed": false
   },
   "outputs": [
    {
     "data": {
      "image/png": "[encoded data removed]",
      "text/plain": [
       "<matplotlib.figure.Figure at 0x127bdb908>"
      ]
     },
     "metadata": {},
     "output_type": "display_data"
    }
   ],
   "source": [
    "num_actions = 10000\n",
    "\n",
    "actions = np.linspace(-1, 1, num_actions)\n",
    "actions = np.expand_dims(actions, axis=1)\n",
    "random_state_single = np.random.rand(1, o_dim)\n",
    "random_state = np.vstack([random_state_single for _ in range(num_actions)])\n",
    "\n",
    "feed_dict = {\n",
    "    qf.action_input: actions,\n",
    "    qf.observation_input: random_state,\n",
    "}\n",
    "qf_output = qf.sess.run(\n",
    "    qf.output,\n",
    "    feed_dict=feed_dict\n",
    ")\n",
    "\n",
    "plt.plot(actions, qf_output)\n",
    "plt.xlabel('Action')\n",
    "plt.ylabel('QF output')\n",
    "plt.show()"
   ]
  },
  {
   "cell_type": "markdown",
   "metadata": {},
   "source": [
    "# Inspect correctness of this quadratic function"
   ]
  },
  {
   "cell_type": "code",
   "execution_count": 8,
   "metadata": {
    "collapsed": false,
    "scrolled": true
   },
   "outputs": [
    {
     "ename": "AttributeError",
     "evalue": "'FeedForwardCritic' object has no attribute '_internal_qf'",
     "output_type": "error",
     "traceback": [
      "\u001b[0;31m---------------------------------------------------------------------------\u001b[0m",
      "\u001b[0;31mAttributeError\u001b[0m                            Traceback (most recent call last)",
      "\u001b[0;32m<ipython-input-8-43633fd3b850>\u001b[0m in \u001b[0;36m<module>\u001b[0;34m()\u001b[0m\n\u001b[1;32m      4\u001b[0m }\n\u001b[1;32m      5\u001b[0m L_params, L, implicit_policy_output = qf.sess.run(\n\u001b[0;32m----> 6\u001b[0;31m     \u001b[0;34m[\u001b[0m\u001b[0mqf\u001b[0m\u001b[0;34m.\u001b[0m\u001b[0m_internal_qf\u001b[0m\u001b[0;34m.\u001b[0m\u001b[0mL_params\u001b[0m\u001b[0;34m.\u001b[0m\u001b[0moutput\u001b[0m\u001b[0;34m,\u001b[0m \u001b[0mqf\u001b[0m\u001b[0;34m.\u001b[0m\u001b[0m_internal_qf\u001b[0m\u001b[0;34m.\u001b[0m\u001b[0mL\u001b[0m\u001b[0;34m,\u001b[0m \u001b[0mqf\u001b[0m\u001b[0;34m.\u001b[0m\u001b[0mimplicit_policy\u001b[0m\u001b[0;34m.\u001b[0m\u001b[0moutput\u001b[0m\u001b[0;34m]\u001b[0m\u001b[0;34m,\u001b[0m\u001b[0;34m\u001b[0m\u001b[0m\n\u001b[0m\u001b[1;32m      7\u001b[0m     \u001b[0mfeed_dict\u001b[0m\u001b[0;34m=\u001b[0m\u001b[0mfeed_dict\u001b[0m\u001b[0;34m\u001b[0m\u001b[0m\n\u001b[1;32m      8\u001b[0m )\n",
      "\u001b[0;31mAttributeError\u001b[0m: 'FeedForwardCritic' object has no attribute '_internal_qf'"
     ]
    }
   ],
   "source": [
    "feed_dict = {\n",
    "    qf.action_input: actions,\n",
    "    qf.observation_input: random_state,\n",
    "}\n",
    "L_params, L, implicit_policy_output = qf.sess.run(\n",
    "    [qf._internal_qf.L_params.output, qf._internal_qf.L, qf.implicit_policy.output],\n",
    "    feed_dict=feed_dict\n",
    ")\n",
    "\n",
    "expected_values = -0.5 * ((actions - implicit_policy_output) * L[0][0][0])**2\n",
    "plt.plot(actions, expected_values)\n",
    "plt.xlabel('Action')\n",
    "plt.ylabel('Expected QF output')\n",
    "plt.show()"
   ]
  },
  {
   "cell_type": "code",
   "execution_count": 9,
   "metadata": {
    "collapsed": false
   },
   "outputs": [
    {
     "ename": "NameError",
     "evalue": "name 'expected_values' is not defined",
     "output_type": "error",
     "traceback": [
      "\u001b[0;31m---------------------------------------------------------------------------\u001b[0m",
      "\u001b[0;31mNameError\u001b[0m                                 Traceback (most recent call last)",
      "\u001b[0;32m<ipython-input-9-361c34a666b1>\u001b[0m in \u001b[0;36m<module>\u001b[0;34m()\u001b[0m\n\u001b[0;32m----> 1\u001b[0;31m \u001b[0mplt\u001b[0m\u001b[0;34m.\u001b[0m\u001b[0mplot\u001b[0m\u001b[0;34m(\u001b[0m\u001b[0mactions\u001b[0m\u001b[0;34m,\u001b[0m \u001b[0mnp\u001b[0m\u001b[0;34m.\u001b[0m\u001b[0mabs\u001b[0m\u001b[0;34m(\u001b[0m\u001b[0mexpected_values\u001b[0m \u001b[0;34m-\u001b[0m \u001b[0mqf_output\u001b[0m\u001b[0;34m)\u001b[0m\u001b[0;34m)\u001b[0m\u001b[0;34m\u001b[0m\u001b[0m\n\u001b[0m\u001b[1;32m      2\u001b[0m \u001b[0mplt\u001b[0m\u001b[0;34m.\u001b[0m\u001b[0mxlabel\u001b[0m\u001b[0;34m(\u001b[0m\u001b[0;34m'Action'\u001b[0m\u001b[0;34m)\u001b[0m\u001b[0;34m\u001b[0m\u001b[0m\n\u001b[1;32m      3\u001b[0m \u001b[0mplt\u001b[0m\u001b[0;34m.\u001b[0m\u001b[0mylabel\u001b[0m\u001b[0;34m(\u001b[0m\u001b[0;34m'QF output error'\u001b[0m\u001b[0;34m)\u001b[0m\u001b[0;34m\u001b[0m\u001b[0m\n\u001b[1;32m      4\u001b[0m \u001b[0mplt\u001b[0m\u001b[0;34m.\u001b[0m\u001b[0mshow\u001b[0m\u001b[0;34m(\u001b[0m\u001b[0;34m)\u001b[0m\u001b[0;34m\u001b[0m\u001b[0m\n",
      "\u001b[0;31mNameError\u001b[0m: name 'expected_values' is not defined"
     ]
    }
   ],
   "source": [
    "plt.plot(actions, np.abs(expected_values - qf_output))\n",
    "plt.xlabel('Action')\n",
    "plt.ylabel('QF output error')\n",
    "plt.show()"
   ]
  },
  {
   "cell_type": "markdown",
   "metadata": {},
   "source": [
    "Make sure diagonal values are exponentiated corrected"
   ]
  },
  {
   "cell_type": "code",
   "execution_count": 10,
   "metadata": {
    "collapsed": false
   },
   "outputs": [
    {
     "ename": "NameError",
     "evalue": "name 'L' is not defined",
     "output_type": "error",
     "traceback": [
      "\u001b[0;31m---------------------------------------------------------------------------\u001b[0m",
      "\u001b[0;31mNameError\u001b[0m                                 Traceback (most recent call last)",
      "\u001b[0;32m<ipython-input-10-c358e95d9fb2>\u001b[0m in \u001b[0;36m<module>\u001b[0;34m()\u001b[0m\n\u001b[0;32m----> 1\u001b[0;31m \u001b[0mprint\u001b[0m\u001b[0;34m(\u001b[0m\u001b[0mL\u001b[0m\u001b[0;34m[\u001b[0m\u001b[0;36m0\u001b[0m\u001b[0;34m]\u001b[0m\u001b[0;34m)\u001b[0m\u001b[0;34m\u001b[0m\u001b[0m\n\u001b[0m\u001b[1;32m      2\u001b[0m \u001b[0mprint\u001b[0m\u001b[0;34m(\u001b[0m\u001b[0mnp\u001b[0m\u001b[0;34m.\u001b[0m\u001b[0mexp\u001b[0m\u001b[0;34m(\u001b[0m\u001b[0mL_params\u001b[0m\u001b[0;34m[\u001b[0m\u001b[0;36m0\u001b[0m\u001b[0;34m]\u001b[0m\u001b[0;34m)\u001b[0m\u001b[0;34m)\u001b[0m\u001b[0;34m\u001b[0m\u001b[0m\n",
      "\u001b[0;31mNameError\u001b[0m: name 'L' is not defined"
     ]
    }
   ],
   "source": [
    "print(L[0])\n",
    "print(np.exp(L_params[0]))"
   ]
  },
  {
   "cell_type": "markdown",
   "metadata": {},
   "source": [
    "Make sure max action is the one taken by the implicit policy"
   ]
  },
  {
   "cell_type": "code",
   "execution_count": 8,
   "metadata": {
    "collapsed": false
   },
   "outputs": [
    {
     "name": "stdout",
     "output_type": "stream",
     "text": [
      "[[-1.]]\n"
     ]
    },
    {
     "ename": "NameError",
     "evalue": "name 'implicit_policy_output' is not defined",
     "output_type": "error",
     "traceback": [
      "\u001b[0;31m---------------------------------------------------------------------------\u001b[0m",
      "\u001b[0;31mNameError\u001b[0m                                 Traceback (most recent call last)",
      "\u001b[0;32m<ipython-input-8-422ba298e2aa>\u001b[0m in \u001b[0;36m<module>\u001b[0;34m()\u001b[0m\n\u001b[1;32m      1\u001b[0m \u001b[0mmax_index\u001b[0m \u001b[0;34m=\u001b[0m \u001b[0mnp\u001b[0m\u001b[0;34m.\u001b[0m\u001b[0margmax\u001b[0m\u001b[0;34m(\u001b[0m\u001b[0mqf_output\u001b[0m\u001b[0;34m,\u001b[0m \u001b[0maxis\u001b[0m\u001b[0;34m=\u001b[0m\u001b[0;36m0\u001b[0m\u001b[0;34m)\u001b[0m\u001b[0;34m\u001b[0m\u001b[0m\n\u001b[1;32m      2\u001b[0m \u001b[0mprint\u001b[0m\u001b[0;34m(\u001b[0m\u001b[0mactions\u001b[0m\u001b[0;34m[\u001b[0m\u001b[0mmax_index\u001b[0m\u001b[0;34m]\u001b[0m\u001b[0;34m)\u001b[0m\u001b[0;34m\u001b[0m\u001b[0m\n\u001b[0;32m----> 3\u001b[0;31m \u001b[0mprint\u001b[0m\u001b[0;34m(\u001b[0m\u001b[0mimplicit_policy_output\u001b[0m\u001b[0;34m[\u001b[0m\u001b[0;36m0\u001b[0m\u001b[0;34m]\u001b[0m\u001b[0;34m)\u001b[0m\u001b[0;34m\u001b[0m\u001b[0m\n\u001b[0m",
      "\u001b[0;31mNameError\u001b[0m: name 'implicit_policy_output' is not defined"
     ]
    }
   ],
   "source": [
    "max_index = np.argmax(qf_output, axis=0)\n",
    "print(actions[max_index])\n",
    "print(implicit_policy_output[0])"
   ]
  },
  {
   "cell_type": "markdown",
   "metadata": {},
   "source": [
    "# Plot implicit policy"
   ]
  },
  {
   "cell_type": "code",
   "execution_count": 11,
   "metadata": {
    "collapsed": false
   },
   "outputs": [
    {
     "name": "stdout",
     "output_type": "stream",
     "text": [
      "[[-1.          0.43246771  0.84345072 -0.56658289]\n",
      " [-0.997998    0.43246771  0.84345072 -0.56658289]\n",
      " [-0.995996    0.43246771  0.84345072 -0.56658289]\n",
      " ..., \n",
      " [ 0.995996    0.43246771  0.84345072 -0.56658289]\n",
      " [ 0.997998    0.43246771  0.84345072 -0.56658289]\n",
      " [ 1.          0.43246771  0.84345072 -0.56658289]]\n"
     ]
    },
    {
     "data": {
      "image/png": "[encoded data removed]",
      "text/plain": [
       "<matplotlib.figure.Figure at 0x11c232908>"
      ]
     },
     "metadata": {},
     "output_type": "display_data"
    },
    {
     "name": "stdout",
     "output_type": "stream",
     "text": [
      "[[ 0.17991664 -1.          0.8455713  -0.51282439]\n",
      " [ 0.17991664 -0.997998    0.8455713  -0.51282439]\n",
      " [ 0.17991664 -0.995996    0.8455713  -0.51282439]\n",
      " ..., \n",
      " [ 0.17991664  0.995996    0.8455713  -0.51282439]\n",
      " [ 0.17991664  0.997998    0.8455713  -0.51282439]\n",
      " [ 0.17991664  1.          0.8455713  -0.51282439]]\n"
     ]
    },
    {
     "data": {
      "image/png": "[encoded data removed]",
      "text/plain": [
       "<matplotlib.figure.Figure at 0x12d662e48>"
      ]
     },
     "metadata": {},
     "output_type": "display_data"
    },
    {
     "name": "stdout",
     "output_type": "stream",
     "text": [
      "[[-0.45446781  0.81143553 -1.         -0.65910281]\n",
      " [-0.45446781  0.81143553 -0.997998   -0.65910281]\n",
      " [-0.45446781  0.81143553 -0.995996   -0.65910281]\n",
      " ..., \n",
      " [-0.45446781  0.81143553  0.995996   -0.65910281]\n",
      " [-0.45446781  0.81143553  0.997998   -0.65910281]\n",
      " [-0.45446781  0.81143553  1.         -0.65910281]]\n"
     ]
    },
    {
     "ename": "KeyboardInterrupt",
     "evalue": "",
     "output_type": "error",
     "traceback": [
      "\u001b[0;31m---------------------------------------------------------------------------\u001b[0m",
      "\u001b[0;31mKeyboardInterrupt\u001b[0m                         Traceback (most recent call last)",
      "\u001b[0;32m<ipython-input-11-8891e07e406c>\u001b[0m in \u001b[0;36m<module>\u001b[0;34m()\u001b[0m\n\u001b[1;32m      8\u001b[0m     \u001b[0mprint\u001b[0m\u001b[0;34m(\u001b[0m\u001b[0mlinear_states\u001b[0m\u001b[0;34m)\u001b[0m\u001b[0;34m\u001b[0m\u001b[0m\n\u001b[1;32m      9\u001b[0m \u001b[0;34m\u001b[0m\u001b[0m\n\u001b[0;32m---> 10\u001b[0;31m     \u001b[0mpolicy_output\u001b[0m \u001b[0;34m=\u001b[0m \u001b[0mnp\u001b[0m\u001b[0;34m.\u001b[0m\u001b[0mvstack\u001b[0m\u001b[0;34m(\u001b[0m\u001b[0;34m[\u001b[0m\u001b[0mpolicy\u001b[0m\u001b[0;34m.\u001b[0m\u001b[0mget_action\u001b[0m\u001b[0;34m(\u001b[0m\u001b[0mstate\u001b[0m\u001b[0;34m)\u001b[0m\u001b[0;34m[\u001b[0m\u001b[0;36m0\u001b[0m\u001b[0;34m]\u001b[0m \u001b[0;32mfor\u001b[0m \u001b[0mstate\u001b[0m \u001b[0;32min\u001b[0m \u001b[0mlinear_states\u001b[0m\u001b[0;34m]\u001b[0m\u001b[0;34m)\u001b[0m\u001b[0;34m\u001b[0m\u001b[0m\n\u001b[0m\u001b[1;32m     11\u001b[0m \u001b[0;34m\u001b[0m\u001b[0m\n\u001b[1;32m     12\u001b[0m     \u001b[0mplt\u001b[0m\u001b[0;34m.\u001b[0m\u001b[0mplot\u001b[0m\u001b[0;34m(\u001b[0m\u001b[0mlinear_states\u001b[0m\u001b[0;34m[\u001b[0m\u001b[0;34m:\u001b[0m\u001b[0;34m,\u001b[0m \u001b[0mdim_changing\u001b[0m\u001b[0;34m]\u001b[0m\u001b[0;34m,\u001b[0m \u001b[0mpolicy_output\u001b[0m\u001b[0;34m)\u001b[0m\u001b[0;34m\u001b[0m\u001b[0m\n",
      "\u001b[0;32m<ipython-input-11-8891e07e406c>\u001b[0m in \u001b[0;36m<listcomp>\u001b[0;34m(.0)\u001b[0m\n\u001b[1;32m      8\u001b[0m     \u001b[0mprint\u001b[0m\u001b[0;34m(\u001b[0m\u001b[0mlinear_states\u001b[0m\u001b[0;34m)\u001b[0m\u001b[0;34m\u001b[0m\u001b[0m\n\u001b[1;32m      9\u001b[0m \u001b[0;34m\u001b[0m\u001b[0m\n\u001b[0;32m---> 10\u001b[0;31m     \u001b[0mpolicy_output\u001b[0m \u001b[0;34m=\u001b[0m \u001b[0mnp\u001b[0m\u001b[0;34m.\u001b[0m\u001b[0mvstack\u001b[0m\u001b[0;34m(\u001b[0m\u001b[0;34m[\u001b[0m\u001b[0mpolicy\u001b[0m\u001b[0;34m.\u001b[0m\u001b[0mget_action\u001b[0m\u001b[0;34m(\u001b[0m\u001b[0mstate\u001b[0m\u001b[0;34m)\u001b[0m\u001b[0;34m[\u001b[0m\u001b[0;36m0\u001b[0m\u001b[0;34m]\u001b[0m \u001b[0;32mfor\u001b[0m \u001b[0mstate\u001b[0m \u001b[0;32min\u001b[0m \u001b[0mlinear_states\u001b[0m\u001b[0;34m]\u001b[0m\u001b[0;34m)\u001b[0m\u001b[0;34m\u001b[0m\u001b[0m\n\u001b[0m\u001b[1;32m     11\u001b[0m \u001b[0;34m\u001b[0m\u001b[0m\n\u001b[1;32m     12\u001b[0m     \u001b[0mplt\u001b[0m\u001b[0;34m.\u001b[0m\u001b[0mplot\u001b[0m\u001b[0;34m(\u001b[0m\u001b[0mlinear_states\u001b[0m\u001b[0;34m[\u001b[0m\u001b[0;34m:\u001b[0m\u001b[0;34m,\u001b[0m \u001b[0mdim_changing\u001b[0m\u001b[0;34m]\u001b[0m\u001b[0;34m,\u001b[0m \u001b[0mpolicy_output\u001b[0m\u001b[0;34m)\u001b[0m\u001b[0;34m\u001b[0m\u001b[0m\n",
      "\u001b[0;32m/Users/vitchyr/git/rail-rl/policies/argmax_policy.py\u001b[0m in \u001b[0;36mget_action\u001b[0;34m(self, observation)\u001b[0m\n\u001b[1;32m     88\u001b[0m         \u001b[0;32mif\u001b[0m \u001b[0mlen\u001b[0m\u001b[0;34m(\u001b[0m\u001b[0mobservation\u001b[0m\u001b[0;34m.\u001b[0m\u001b[0mshape\u001b[0m\u001b[0;34m)\u001b[0m \u001b[0;34m>\u001b[0m \u001b[0;36m1\u001b[0m\u001b[0;34m:\u001b[0m\u001b[0;34m\u001b[0m\u001b[0m\n\u001b[1;32m     89\u001b[0m             \u001b[0;32massert\u001b[0m \u001b[0mobservation\u001b[0m\u001b[0;34m.\u001b[0m\u001b[0mshape\u001b[0m\u001b[0;34m[\u001b[0m\u001b[0;36m1\u001b[0m\u001b[0;34m]\u001b[0m \u001b[0;34m==\u001b[0m \u001b[0;36m1\u001b[0m\u001b[0;34m\u001b[0m\u001b[0m\n\u001b[0;32m---> 90\u001b[0;31m             \u001b[0mobservation\u001b[0m \u001b[0;34m=\u001b[0m \u001b[0mobservation\u001b[0m\u001b[0;34m.\u001b[0m\u001b[0mflatten\u001b[0m\u001b[0;34m(\u001b[0m\u001b[0;34m)\u001b[0m\u001b[0;34m\u001b[0m\u001b[0m\n\u001b[0m\u001b[1;32m     91\u001b[0m         \u001b[0;31m# Clear adam variables\u001b[0m\u001b[0;34m\u001b[0m\u001b[0;34m\u001b[0m\u001b[0m\n\u001b[1;32m     92\u001b[0m         self.sess.run(tf.initialize_variables(\n",
      "\u001b[0;32m/Users/vitchyr/anaconda/envs/rllab3/lib/python3.5/site-packages/tensorflow/python/client/session.py\u001b[0m in \u001b[0;36mrun\u001b[0;34m(self, fetches, feed_dict, options, run_metadata)\u001b[0m\n\u001b[1;32m    380\u001b[0m     \u001b[0;32mtry\u001b[0m\u001b[0;34m:\u001b[0m\u001b[0;34m\u001b[0m\u001b[0m\n\u001b[1;32m    381\u001b[0m       result = self._run(None, fetches, feed_dict, options_ptr,\n\u001b[0;32m--> 382\u001b[0;31m                          run_metadata_ptr)\n\u001b[0m\u001b[1;32m    383\u001b[0m       \u001b[0;32mif\u001b[0m \u001b[0mrun_metadata\u001b[0m\u001b[0;34m:\u001b[0m\u001b[0;34m\u001b[0m\u001b[0m\n\u001b[1;32m    384\u001b[0m         \u001b[0mproto_data\u001b[0m \u001b[0;34m=\u001b[0m \u001b[0mtf_session\u001b[0m\u001b[0;34m.\u001b[0m\u001b[0mTF_GetBuffer\u001b[0m\u001b[0;34m(\u001b[0m\u001b[0mrun_metadata_ptr\u001b[0m\u001b[0;34m)\u001b[0m\u001b[0;34m\u001b[0m\u001b[0m\n",
      "\u001b[0;32m/Users/vitchyr/anaconda/envs/rllab3/lib/python3.5/site-packages/tensorflow/python/client/session.py\u001b[0m in \u001b[0;36m_run\u001b[0;34m(self, handle, fetches, feed_dict, options, run_metadata)\u001b[0m\n\u001b[1;32m    653\u001b[0m     \u001b[0mmovers\u001b[0m \u001b[0;34m=\u001b[0m \u001b[0mself\u001b[0m\u001b[0;34m.\u001b[0m\u001b[0m_update_with_movers\u001b[0m\u001b[0;34m(\u001b[0m\u001b[0mfeed_dict_string\u001b[0m\u001b[0;34m,\u001b[0m \u001b[0mfeed_map\u001b[0m\u001b[0;34m)\u001b[0m\u001b[0;34m\u001b[0m\u001b[0m\n\u001b[1;32m    654\u001b[0m     results = self._do_run(handle, target_list, unique_fetches,\n\u001b[0;32m--> 655\u001b[0;31m                            feed_dict_string, options, run_metadata)\n\u001b[0m\u001b[1;32m    656\u001b[0m \u001b[0;34m\u001b[0m\u001b[0m\n\u001b[1;32m    657\u001b[0m     \u001b[0;31m# User may have fetched the same tensor multiple times, but we\u001b[0m\u001b[0;34m\u001b[0m\u001b[0;34m\u001b[0m\u001b[0m\n",
      "\u001b[0;32m/Users/vitchyr/anaconda/envs/rllab3/lib/python3.5/site-packages/tensorflow/python/client/session.py\u001b[0m in \u001b[0;36m_do_run\u001b[0;34m(self, handle, target_list, fetch_list, feed_dict, options, run_metadata)\u001b[0m\n\u001b[1;32m    721\u001b[0m     \u001b[0;32mif\u001b[0m \u001b[0mhandle\u001b[0m \u001b[0;32mis\u001b[0m \u001b[0;32mNone\u001b[0m\u001b[0;34m:\u001b[0m\u001b[0;34m\u001b[0m\u001b[0m\n\u001b[1;32m    722\u001b[0m       return self._do_call(_run_fn, self._session, feed_dict, fetch_list,\n\u001b[0;32m--> 723\u001b[0;31m                            target_list, options, run_metadata)\n\u001b[0m\u001b[1;32m    724\u001b[0m     \u001b[0;32melse\u001b[0m\u001b[0;34m:\u001b[0m\u001b[0;34m\u001b[0m\u001b[0m\n\u001b[1;32m    725\u001b[0m       return self._do_call(_prun_fn, self._session, handle, feed_dict,\n",
      "\u001b[0;32m/Users/vitchyr/anaconda/envs/rllab3/lib/python3.5/site-packages/tensorflow/python/client/session.py\u001b[0m in \u001b[0;36m_do_call\u001b[0;34m(self, fn, *args)\u001b[0m\n\u001b[1;32m    728\u001b[0m   \u001b[0;32mdef\u001b[0m \u001b[0m_do_call\u001b[0m\u001b[0;34m(\u001b[0m\u001b[0mself\u001b[0m\u001b[0;34m,\u001b[0m \u001b[0mfn\u001b[0m\u001b[0;34m,\u001b[0m \u001b[0;34m*\u001b[0m\u001b[0margs\u001b[0m\u001b[0;34m)\u001b[0m\u001b[0;34m:\u001b[0m\u001b[0;34m\u001b[0m\u001b[0m\n\u001b[1;32m    729\u001b[0m     \u001b[0;32mtry\u001b[0m\u001b[0;34m:\u001b[0m\u001b[0;34m\u001b[0m\u001b[0m\n\u001b[0;32m--> 730\u001b[0;31m       \u001b[0;32mreturn\u001b[0m \u001b[0mfn\u001b[0m\u001b[0;34m(\u001b[0m\u001b[0;34m*\u001b[0m\u001b[0margs\u001b[0m\u001b[0;34m)\u001b[0m\u001b[0;34m\u001b[0m\u001b[0m\n\u001b[0m\u001b[1;32m    731\u001b[0m     \u001b[0;32mexcept\u001b[0m \u001b[0merrors\u001b[0m\u001b[0;34m.\u001b[0m\u001b[0mOpError\u001b[0m \u001b[0;32mas\u001b[0m \u001b[0me\u001b[0m\u001b[0;34m:\u001b[0m\u001b[0;34m\u001b[0m\u001b[0m\n\u001b[1;32m    732\u001b[0m       \u001b[0mmessage\u001b[0m \u001b[0;34m=\u001b[0m \u001b[0mcompat\u001b[0m\u001b[0;34m.\u001b[0m\u001b[0mas_text\u001b[0m\u001b[0;34m(\u001b[0m\u001b[0me\u001b[0m\u001b[0;34m.\u001b[0m\u001b[0mmessage\u001b[0m\u001b[0;34m)\u001b[0m\u001b[0;34m\u001b[0m\u001b[0m\n",
      "\u001b[0;32m/Users/vitchyr/anaconda/envs/rllab3/lib/python3.5/site-packages/tensorflow/python/client/session.py\u001b[0m in \u001b[0;36m_run_fn\u001b[0;34m(session, feed_dict, fetch_list, target_list, options, run_metadata)\u001b[0m\n\u001b[1;32m    706\u001b[0m                 run_metadata):\n\u001b[1;32m    707\u001b[0m       \u001b[0;31m# Ensure any changes to the graph are reflected in the runtime.\u001b[0m\u001b[0;34m\u001b[0m\u001b[0;34m\u001b[0m\u001b[0m\n\u001b[0;32m--> 708\u001b[0;31m       \u001b[0mself\u001b[0m\u001b[0;34m.\u001b[0m\u001b[0m_extend_graph\u001b[0m\u001b[0;34m(\u001b[0m\u001b[0;34m)\u001b[0m\u001b[0;34m\u001b[0m\u001b[0m\n\u001b[0m\u001b[1;32m    709\u001b[0m       \u001b[0;32mwith\u001b[0m \u001b[0merrors\u001b[0m\u001b[0;34m.\u001b[0m\u001b[0mraise_exception_on_not_ok_status\u001b[0m\u001b[0;34m(\u001b[0m\u001b[0;34m)\u001b[0m \u001b[0;32mas\u001b[0m \u001b[0mstatus\u001b[0m\u001b[0;34m:\u001b[0m\u001b[0;34m\u001b[0m\u001b[0m\n\u001b[1;32m    710\u001b[0m         return tf_session.TF_Run(session, options,\n",
      "\u001b[0;32m/Users/vitchyr/anaconda/envs/rllab3/lib/python3.5/site-packages/tensorflow/python/client/session.py\u001b[0m in \u001b[0;36m_extend_graph\u001b[0;34m(self)\u001b[0m\n\u001b[1;32m    755\u001b[0m         \u001b[0;32mwith\u001b[0m \u001b[0merrors\u001b[0m\u001b[0;34m.\u001b[0m\u001b[0mraise_exception_on_not_ok_status\u001b[0m\u001b[0;34m(\u001b[0m\u001b[0;34m)\u001b[0m \u001b[0;32mas\u001b[0m \u001b[0mstatus\u001b[0m\u001b[0;34m:\u001b[0m\u001b[0;34m\u001b[0m\u001b[0m\n\u001b[1;32m    756\u001b[0m           tf_session.TF_ExtendGraph(\n\u001b[0;32m--> 757\u001b[0;31m               self._session, graph_def.SerializeToString(), status)\n\u001b[0m\u001b[1;32m    758\u001b[0m         \u001b[0mself\u001b[0m\u001b[0;34m.\u001b[0m\u001b[0m_opened\u001b[0m \u001b[0;34m=\u001b[0m \u001b[0;32mTrue\u001b[0m\u001b[0;34m\u001b[0m\u001b[0m\n\u001b[1;32m    759\u001b[0m \u001b[0;34m\u001b[0m\u001b[0m\n",
      "\u001b[0;31mKeyboardInterrupt\u001b[0m: "
     ]
    }
   ],
   "source": [
    "o_delta = o_high - o_low\n",
    "for dim_changing in range(4):\n",
    "    num_states = 1000\n",
    "    base_state = np.random.rand(1, o_dim) * o_delta + o_low\n",
    "#     base_state = np.zeros((1, o_dim))\n",
    "    linear_states = np.vstack([base_state for _ in range(num_states)])\n",
    "    linear_states[:, dim_changing] = np.linspace(o_low, o_high, num_states)\n",
    "    print(linear_states)\n",
    "    \n",
    "    policy_output = np.vstack([policy.get_action(state)[0] for state in linear_states])\n",
    "    \n",
    "    plt.plot(linear_states[:, dim_changing], policy_output)\n",
    "    plt.xlabel('State {0} dimension'.format(dim_changing))\n",
    "    plt.ylabel('Policy Output')\n",
    "    plt.show()"
   ]
  },
  {
   "cell_type": "code",
   "execution_count": null,
   "metadata": {
    "collapsed": true
   },
   "outputs": [],
   "source": []
  }
 ],
 "metadata": {
  "kernelspec": {
   "display_name": "Python 3",
   "language": "python",
   "name": "python3"
  },
  "language_info": {
   "codemirror_mode": {
    "name": "ipython",
    "version": 3
   },
   "file_extension": ".py",
   "mimetype": "text/x-python",
   "name": "python",
   "nbconvert_exporter": "python",
   "pygments_lexer": "ipython3",
   "version": "3.5.2"
  },
  "widgets": {
   "state": {},
   "version": "1.1.2"
  }
 },
 "nbformat": 4,
 "nbformat_minor": 2
}
