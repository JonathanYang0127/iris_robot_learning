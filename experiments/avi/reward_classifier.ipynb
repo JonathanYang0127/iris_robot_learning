{
 "cells": [
  {
   "cell_type": "code",
   "execution_count": 1,
   "metadata": {},
   "outputs": [],
   "source": [
    "import numpy as np\n",
    "import torch\n",
    "import torch.optim as optim\n",
    "from rlkit.torch.networks.cnn import CNN, ConcatCNN\n",
    "from rlkit.data_management.obs_dict_replay_buffer import ObsDictReplayBuffer\n",
    "from rlkit.misc.wx250_utils import add_data_to_buffer_real_robot, DummyEnv\n",
    "from matplotlib.pyplot import imshow\n",
    "import rlkit.data_management.images as image_np\n",
    "import rlkit.torch.pytorch_util as ptu\n",
    "import os\n",
    "gpu_id = 0\n",
    "os.environ[\"CUDA_DEVICE_ORDER\"]=\"PCI_BUS_ID\"\n",
    "os.environ[\"CUDA_VISIBLE_DEVICES\"] = str(gpu_id)\n",
    "ptu.set_gpu_mode(True)"
   ]
  },
  {
   "cell_type": "code",
   "execution_count": 2,
   "metadata": {},
   "outputs": [],
   "source": [
    "variant = dict()\n",
    "variant['buffer'] = '/nfs/kun1/users/albert/realrobot_datasets/combined_2021-05-20_21_53_31.pkl'\n",
    "variant['cnn_params'] = dict(\n",
    "        input_width=64,\n",
    "        input_height=64,\n",
    "        input_channels=3,\n",
    "        kernel_sizes=[3, 3, 3],\n",
    "        n_channels=[16, 16, 16],\n",
    "        strides=[1, 1, 1],\n",
    "        hidden_sizes=[1024, 512, 256],\n",
    "        paddings=[1, 1, 1],\n",
    "        pool_type='max2d',\n",
    "        pool_sizes=[2, 2, 1],  # the one at the end means no pool\n",
    "        pool_strides=[2, 2, 1],\n",
    "        pool_paddings=[0, 0, 0],\n",
    "        image_augmentation=True,\n",
    "        image_augmentation_padding=4,\n",
    "        output_size = 1,\n",
    "    )"
   ]
  },
  {
   "cell_type": "code",
   "execution_count": 3,
   "metadata": {},
   "outputs": [],
   "source": [
    "eval_env = DummyEnv(image_size=variant['cnn_params']['input_width'])\n",
    "expl_env = eval_env\n",
    "\n",
    "replay_buffer = ObsDictReplayBuffer(\n",
    "    int(1E6),\n",
    "    expl_env,\n",
    "    observation_keys=['image', 'state']\n",
    ")"
   ]
  },
  {
   "cell_type": "code",
   "execution_count": 4,
   "metadata": {},
   "outputs": [],
   "source": [
    "add_data_to_buffer_real_robot(variant['buffer'], replay_buffer,\n",
    "                       validation_replay_buffer=None,\n",
    "                       validation_fraction=0.8)"
   ]
  },
  {
   "cell_type": "code",
   "execution_count": 5,
   "metadata": {},
   "outputs": [],
   "source": [
    "image_dims_transposed = (variant['cnn_params']['input_channels'], \n",
    "                       variant['cnn_params']['input_width'],\n",
    "                       variant['cnn_params']['input_height'])\n",
    "images = replay_buffer._obs['image'][:replay_buffer._size].reshape((-1, *image_dims_transposed))\n",
    "flat_size = np.prod(image_dims_transposed)\n",
    "rewards = replay_buffer._rewards[:replay_buffer._size]\n",
    "\n",
    "\n",
    "positive_images = np.array([images[i] for i in range(images.shape[0]) if rewards[i] > 0])\n",
    "negative_images = np.array([images[i] for i in range(images.shape[0]) if rewards[i] == 0])"
   ]
  },
  {
   "cell_type": "code",
   "execution_count": 6,
   "metadata": {},
   "outputs": [
    {
     "data": {
      "text/plain": [
       "<matplotlib.image.AxesImage at 0x7f3e864aef60>"
      ]
     },
     "execution_count": 6,
     "metadata": {},
     "output_type": "execute_result"
    },
    {
     "data": {
      "image/png": "[encoded data removed]",
      "text/plain": [
       "<matplotlib.figure.Figure at 0x7f3e864b4c88>"
      ]
     },
     "metadata": {},
     "output_type": "display_data"
    }
   ],
   "source": [
    "imshow(images[0].transpose(1, 2, 0))"
   ]
  },
  {
   "cell_type": "code",
   "execution_count": 9,
   "metadata": {},
   "outputs": [],
   "source": [
    "classifier = ConcatCNN(**variant['cnn_params'])\n",
    "classifier = classifier.to(ptu.device)"
   ]
  },
  {
   "cell_type": "code",
   "execution_count": 8,
   "metadata": {},
   "outputs": [
    {
     "data": {
      "text/plain": [
       "TutorialNet(\n",
       "  (conv1): Conv2d(3, 6, kernel_size=(5, 5), stride=(1, 1))\n",
       "  (pool): MaxPool2d(kernel_size=2, stride=2, padding=0, dilation=1, ceil_mode=False)\n",
       "  (conv2): Conv2d(6, 16, kernel_size=(5, 5), stride=(1, 1))\n",
       "  (fc1): Linear(in_features=2704, out_features=120, bias=True)\n",
       "  (fc2): Linear(in_features=120, out_features=84, bias=True)\n",
       "  (fc3): Linear(in_features=84, out_features=1, bias=True)\n",
       ")"
      ]
     },
     "execution_count": 8,
     "metadata": {},
     "output_type": "execute_result"
    }
   ],
   "source": [
    "import torch.nn as nn\n",
    "import torch.nn.functional as F\n",
    "class TutorialNet(nn.Module):\n",
    "    # https://pytorch.org/tutorials/beginner/blitz/cifar10_tutorial.html\n",
    "    def __init__(self):\n",
    "        super().__init__()\n",
    "        self.fc_input_size = 16 * 13 * 13\n",
    "        self.conv1 = nn.Conv2d(3, 6, 5)\n",
    "        self.pool = nn.MaxPool2d(2, 2)\n",
    "        self.conv2 = nn.Conv2d(6, 16, 5)\n",
    "        self.fc1 = nn.Linear(self.fc_input_size, 120)\n",
    "        self.fc2 = nn.Linear(120, 84)\n",
    "        self.fc3 = nn.Linear(84, 1)\n",
    "\n",
    "    def forward(self, x):\n",
    "        x = self.pool(F.relu(self.conv1(x)))\n",
    "        x = self.pool(F.relu(self.conv2(x)))\n",
    "        x = x.view(-1, self.fc_input_size)\n",
    "        x = F.relu(self.fc1(x))\n",
    "        x = F.relu(self.fc2(x))\n",
    "        x = self.fc3(x)\n",
    "        return x\n",
    "classifier = TutorialNet()\n",
    "classifier.to(ptu.device)"
   ]
  },
  {
   "cell_type": "code",
   "execution_count": 23,
   "metadata": {},
   "outputs": [],
   "source": [
    "ERROR_THRESH = 0.015\n",
    "NUM_EPOCHS = 200\n",
    "BATCH_SIZE = 128\n",
    "TRAIN_SPLIT = 0.9\n",
    "POSITIVE_CLASS_SPLIT = 0.5\n",
    "NUM_TRAINING = 400\n",
    "\n",
    "criterion = torch.nn.BCEWithLogitsLoss()\n",
    "optimizer = optim.Adam(classifier.parameters(), lr=1e-4)\n",
    "\n",
    "num_updates_per_epoch = int(images.shape[0]/BATCH_SIZE)\n",
    "eval_frequency = 1"
   ]
  },
  {
   "cell_type": "code",
   "execution_count": 26,
   "metadata": {},
   "outputs": [
    {
     "name": "stdout",
     "output_type": "stream",
     "text": [
      "3067\n"
     ]
    },
    {
     "ename": "RuntimeError",
     "evalue": "CUDA out of memory. Tried to allocate 144.00 MiB (GPU 0; 10.92 GiB total capacity; 6.67 GiB already allocated; 3.50 MiB free; 628.84 MiB cached)",
     "output_type": "error",
     "traceback": [
      "\u001b[0;31m---------------------------------------------------------------------------\u001b[0m",
      "\u001b[0;31mRuntimeError\u001b[0m                              Traceback (most recent call last)",
      "\u001b[0;32m<ipython-input-26-54daf1e25682>\u001b[0m in \u001b[0;36m<module>\u001b[0;34m()\u001b[0m\n\u001b[1;32m     13\u001b[0m \u001b[0mtest_labels\u001b[0m \u001b[0;34m=\u001b[0m \u001b[0mnp\u001b[0m\u001b[0;34m.\u001b[0m\u001b[0mconcatenate\u001b[0m\u001b[0;34m(\u001b[0m\u001b[0;34m(\u001b[0m\u001b[0mpositive_test_labels\u001b[0m\u001b[0;34m,\u001b[0m \u001b[0mnegative_test_labels\u001b[0m\u001b[0;34m)\u001b[0m\u001b[0;34m)\u001b[0m\u001b[0;34m\u001b[0m\u001b[0m\n\u001b[1;32m     14\u001b[0m \u001b[0mprint\u001b[0m\u001b[0;34m(\u001b[0m\u001b[0mlen\u001b[0m\u001b[0;34m(\u001b[0m\u001b[0mtest_labels\u001b[0m\u001b[0;34m)\u001b[0m\u001b[0;34m)\u001b[0m\u001b[0;34m\u001b[0m\u001b[0m\n\u001b[0;32m---> 15\u001b[0;31m \u001b[0mtest_images_tensor\u001b[0m \u001b[0;34m=\u001b[0m \u001b[0mptu\u001b[0m\u001b[0;34m.\u001b[0m\u001b[0mfrom_numpy\u001b[0m\u001b[0;34m(\u001b[0m\u001b[0mtest_images\u001b[0m\u001b[0;34m)\u001b[0m\u001b[0;34m\u001b[0m\u001b[0m\n\u001b[0m\u001b[1;32m     16\u001b[0m \u001b[0;34m\u001b[0m\u001b[0m\n\u001b[1;32m     17\u001b[0m \u001b[0;32mdef\u001b[0m \u001b[0mget_batch\u001b[0m\u001b[0;34m(\u001b[0m\u001b[0mpositive_training_images\u001b[0m\u001b[0;34m,\u001b[0m \u001b[0mnegative_training_images\u001b[0m\u001b[0;34m)\u001b[0m\u001b[0;34m:\u001b[0m\u001b[0;34m\u001b[0m\u001b[0m\n",
      "\u001b[0;32m~/railrl-private/rlkit/torch/pytorch_util.py\u001b[0m in \u001b[0;36mfrom_numpy\u001b[0;34m(*args, **kwargs)\u001b[0m\n\u001b[1;32m    252\u001b[0m \u001b[0;34m\u001b[0m\u001b[0m\n\u001b[1;32m    253\u001b[0m \u001b[0;32mdef\u001b[0m \u001b[0mfrom_numpy\u001b[0m\u001b[0;34m(\u001b[0m\u001b[0;34m*\u001b[0m\u001b[0margs\u001b[0m\u001b[0;34m,\u001b[0m \u001b[0;34m**\u001b[0m\u001b[0mkwargs\u001b[0m\u001b[0;34m)\u001b[0m\u001b[0;34m:\u001b[0m\u001b[0;34m\u001b[0m\u001b[0m\n\u001b[0;32m--> 254\u001b[0;31m     \u001b[0;32mreturn\u001b[0m \u001b[0mtorch\u001b[0m\u001b[0;34m.\u001b[0m\u001b[0mfrom_numpy\u001b[0m\u001b[0;34m(\u001b[0m\u001b[0;34m*\u001b[0m\u001b[0margs\u001b[0m\u001b[0;34m,\u001b[0m \u001b[0;34m**\u001b[0m\u001b[0mkwargs\u001b[0m\u001b[0;34m)\u001b[0m\u001b[0;34m.\u001b[0m\u001b[0mfloat\u001b[0m\u001b[0;34m(\u001b[0m\u001b[0;34m)\u001b[0m\u001b[0;34m.\u001b[0m\u001b[0mto\u001b[0m\u001b[0;34m(\u001b[0m\u001b[0mdevice\u001b[0m\u001b[0;34m)\u001b[0m\u001b[0;34m\u001b[0m\u001b[0m\n\u001b[0m\u001b[1;32m    255\u001b[0m \u001b[0;34m\u001b[0m\u001b[0m\n\u001b[1;32m    256\u001b[0m \u001b[0;34m\u001b[0m\u001b[0m\n",
      "\u001b[0;31mRuntimeError\u001b[0m: CUDA out of memory. Tried to allocate 144.00 MiB (GPU 0; 10.92 GiB total capacity; 6.67 GiB already allocated; 3.50 MiB free; 628.84 MiB cached)"
     ]
    }
   ],
   "source": [
    "positive_training_images = positive_images[:int(TRAIN_SPLIT * positive_images.shape[0])].reshape(-1, flat_size)\n",
    "negative_training_images = negative_images[:int(TRAIN_SPLIT * negative_images.shape[0])].reshape(-1, flat_size)\n",
    "positive_test_images = positive_images[int(TRAIN_SPLIT * positive_images.shape[0]):].reshape(-1, flat_size)\n",
    "negative_test_images = negative_images[int(TRAIN_SPLIT * negative_images.shape[0]):].reshape(-1, flat_size)\n",
    "\n",
    "positive_training_images = positive_training_images[np.random.randint(\\\n",
    "        positive_training_images.shape[0], size=NUM_TRAINING // 2)]\n",
    "negative_training_images = negative_training_images[np.random.randint(\\\n",
    "        negative_training_images.shape[0], size=NUM_TRAINING // 2)]\n",
    "\n",
    "\n",
    "test_images = np.concatenate((positive_test_images, negative_test_images))\n",
    "positive_test_labels = np.ones((positive_test_images.shape[0], 1))\n",
    "negative_test_labels = np.zeros((negative_test_images.shape[0], 1))\n",
    "test_labels = np.concatenate((positive_test_labels, negative_test_labels))\n",
    "print(len(test_labels))\n",
    "test_images_tensor = ptu.from_numpy(test_images)\n",
    "\n",
    "def get_batch(positive_training_images, negative_training_images):\n",
    "    positive_batch_size = int(BATCH_SIZE * POSITIVE_CLASS_SPLIT)\n",
    "    negative_batch_size = BATCH_SIZE - positive_batch_size\n",
    "\n",
    "    positive_indices = np.random.randint(positive_training_images.shape[0], size=positive_batch_size)\n",
    "    negative_indices = np.random.randint(negative_training_images.shape[0], size=negative_batch_size)\n",
    "    \n",
    "    positive_batch_images = positive_training_images[positive_indices]\n",
    "    negative_batch_images = negative_training_images[negative_indices]\n",
    "    positive_batch_labels = np.ones((positive_batch_size, 1))\n",
    "    negative_batch_labels = np.zeros((negative_batch_size, 1))\n",
    "    \n",
    "    \n",
    "    images = ptu.from_numpy(np.concatenate((positive_batch_images, negative_batch_images)))\n",
    "    labels = ptu.from_numpy(np.concatenate((positive_batch_labels, negative_batch_labels)))\n",
    "    #labels = labels.type(torch.LongTensor)\n",
    "    return images, labels"
   ]
  },
  {
   "cell_type": "code",
   "execution_count": 27,
   "metadata": {},
   "outputs": [
    {
     "ename": "RuntimeError",
     "evalue": "CUDA out of memory. Tried to allocate 2.00 MiB (GPU 0; 10.92 GiB total capacity; 6.77 GiB already allocated; 3.50 MiB free; 535.78 MiB cached)",
     "output_type": "error",
     "traceback": [
      "\u001b[0;31m---------------------------------------------------------------------------\u001b[0m",
      "\u001b[0;31mRuntimeError\u001b[0m                              Traceback (most recent call last)",
      "\u001b[0;32m<ipython-input-27-39575a927124>\u001b[0m in \u001b[0;36m<module>\u001b[0;34m()\u001b[0m\n\u001b[1;32m     11\u001b[0m         \u001b[0mrunning_loss\u001b[0m \u001b[0;34m+=\u001b[0m \u001b[0mloss\u001b[0m\u001b[0;34m.\u001b[0m\u001b[0mitem\u001b[0m\u001b[0;34m(\u001b[0m\u001b[0;34m)\u001b[0m\u001b[0;34m\u001b[0m\u001b[0m\n\u001b[1;32m     12\u001b[0m \u001b[0;34m\u001b[0m\u001b[0m\n\u001b[0;32m---> 13\u001b[0;31m         \u001b[0mloss\u001b[0m\u001b[0;34m.\u001b[0m\u001b[0mbackward\u001b[0m\u001b[0;34m(\u001b[0m\u001b[0;34m)\u001b[0m\u001b[0;34m\u001b[0m\u001b[0m\n\u001b[0m\u001b[1;32m     14\u001b[0m         \u001b[0moptimizer\u001b[0m\u001b[0;34m.\u001b[0m\u001b[0mstep\u001b[0m\u001b[0;34m(\u001b[0m\u001b[0;34m)\u001b[0m\u001b[0;34m\u001b[0m\u001b[0m\n\u001b[1;32m     15\u001b[0m \u001b[0;34m\u001b[0m\u001b[0m\n",
      "\u001b[0;32m~/anaconda3/envs/railrl-env/lib/python3.6/site-packages/torch/tensor.py\u001b[0m in \u001b[0;36mbackward\u001b[0;34m(self, gradient, retain_graph, create_graph)\u001b[0m\n\u001b[1;32m    148\u001b[0m                 \u001b[0mproducts\u001b[0m\u001b[0;34m.\u001b[0m \u001b[0mDefaults\u001b[0m \u001b[0mto\u001b[0m\u001b[0;31m \u001b[0m\u001b[0;31m`\u001b[0m\u001b[0;31m`\u001b[0m\u001b[0;32mFalse\u001b[0m\u001b[0;31m`\u001b[0m\u001b[0;31m`\u001b[0m\u001b[0;34m.\u001b[0m\u001b[0;34m\u001b[0m\u001b[0m\n\u001b[1;32m    149\u001b[0m         \"\"\"\n\u001b[0;32m--> 150\u001b[0;31m         \u001b[0mtorch\u001b[0m\u001b[0;34m.\u001b[0m\u001b[0mautograd\u001b[0m\u001b[0;34m.\u001b[0m\u001b[0mbackward\u001b[0m\u001b[0;34m(\u001b[0m\u001b[0mself\u001b[0m\u001b[0;34m,\u001b[0m \u001b[0mgradient\u001b[0m\u001b[0;34m,\u001b[0m \u001b[0mretain_graph\u001b[0m\u001b[0;34m,\u001b[0m \u001b[0mcreate_graph\u001b[0m\u001b[0;34m)\u001b[0m\u001b[0;34m\u001b[0m\u001b[0m\n\u001b[0m\u001b[1;32m    151\u001b[0m \u001b[0;34m\u001b[0m\u001b[0m\n\u001b[1;32m    152\u001b[0m     \u001b[0;32mdef\u001b[0m \u001b[0mregister_hook\u001b[0m\u001b[0;34m(\u001b[0m\u001b[0mself\u001b[0m\u001b[0;34m,\u001b[0m \u001b[0mhook\u001b[0m\u001b[0;34m)\u001b[0m\u001b[0;34m:\u001b[0m\u001b[0;34m\u001b[0m\u001b[0m\n",
      "\u001b[0;32m~/anaconda3/envs/railrl-env/lib/python3.6/site-packages/torch/autograd/__init__.py\u001b[0m in \u001b[0;36mbackward\u001b[0;34m(tensors, grad_tensors, retain_graph, create_graph, grad_variables)\u001b[0m\n\u001b[1;32m     97\u001b[0m     Variable._execution_engine.run_backward(\n\u001b[1;32m     98\u001b[0m         \u001b[0mtensors\u001b[0m\u001b[0;34m,\u001b[0m \u001b[0mgrad_tensors\u001b[0m\u001b[0;34m,\u001b[0m \u001b[0mretain_graph\u001b[0m\u001b[0;34m,\u001b[0m \u001b[0mcreate_graph\u001b[0m\u001b[0;34m,\u001b[0m\u001b[0;34m\u001b[0m\u001b[0m\n\u001b[0;32m---> 99\u001b[0;31m         allow_unreachable=True)  # allow_unreachable flag\n\u001b[0m\u001b[1;32m    100\u001b[0m \u001b[0;34m\u001b[0m\u001b[0m\n\u001b[1;32m    101\u001b[0m \u001b[0;34m\u001b[0m\u001b[0m\n",
      "\u001b[0;31mRuntimeError\u001b[0m: CUDA out of memory. Tried to allocate 2.00 MiB (GPU 0; 10.92 GiB total capacity; 6.77 GiB already allocated; 3.50 MiB free; 535.78 MiB cached)"
     ]
    }
   ],
   "source": [
    "for epoch in range(NUM_EPOCHS):  # loop over the dataset multiple times\n",
    "    running_loss = 0.0\n",
    "    classifier.train()\n",
    "    for i in range(num_updates_per_epoch):\n",
    "        inputs, labels = get_batch(positive_training_images, negative_training_images)\n",
    "\n",
    "        optimizer.zero_grad()\n",
    "\n",
    "        outputs = classifier(inputs)\n",
    "        loss = criterion(outputs, labels)\n",
    "        running_loss += loss.item()\n",
    "\n",
    "        loss.backward()\n",
    "        optimizer.step()\n",
    "\n",
    "    # print('training loss: {}'.format(running_loss))\n",
    "    # if epoch % eval_frequency == 0:\n",
    "    classifier.eval()\n",
    "    test_predictions = torch.round(torch.sigmoid(classifier(test_images_tensor)))\n",
    "    test_predictions_np = ptu.get_numpy(test_predictions).astype(np.int)\n",
    "\n",
    "    # import IPython; IPython.embed()\n",
    "    error = np.linalg.norm(test_predictions_np - test_labels, axis=1)\n",
    "    error_mean = error.mean()\n",
    "    print('Epoch {}: {}'.format(epoch, error_mean))\n",
    "    # test_loss = get_numpy(criterion(test_predictions, test_labels_tensor))\n",
    "\n",
    "print('epoch {} test set error: {}'.format(epoch, error_mean))\n",
    "print('num erroneous: {} out of {}'.format(np.sum(error > ERROR_THRESH),\n",
    "                                                   len(test_labels)))"
   ]
  },
  {
   "cell_type": "code",
   "execution_count": 28,
   "metadata": {},
   "outputs": [
    {
     "ename": "IndexError",
     "evalue": "index 200 is out of bounds for axis 0 with size 200",
     "output_type": "error",
     "traceback": [
      "\u001b[0;31m---------------------------------------------------------------------------\u001b[0m",
      "\u001b[0;31mIndexError\u001b[0m                                Traceback (most recent call last)",
      "\u001b[0;32m<ipython-input-28-e0a896af6808>\u001b[0m in \u001b[0;36m<module>\u001b[0;34m()\u001b[0m\n\u001b[0;32m----> 1\u001b[0;31m \u001b[0mimshow\u001b[0m\u001b[0;34m(\u001b[0m\u001b[0mnegative_training_images\u001b[0m\u001b[0;34m[\u001b[0m\u001b[0;36m200\u001b[0m\u001b[0;34m]\u001b[0m\u001b[0;34m.\u001b[0m\u001b[0mreshape\u001b[0m\u001b[0;34m(\u001b[0m\u001b[0;36m3\u001b[0m\u001b[0;34m,\u001b[0m \u001b[0;36m64\u001b[0m\u001b[0;34m,\u001b[0m \u001b[0;36m64\u001b[0m\u001b[0;34m)\u001b[0m\u001b[0;34m.\u001b[0m\u001b[0mtranspose\u001b[0m\u001b[0;34m(\u001b[0m\u001b[0;36m1\u001b[0m\u001b[0;34m,\u001b[0m \u001b[0;36m2\u001b[0m\u001b[0;34m,\u001b[0m \u001b[0;36m0\u001b[0m\u001b[0;34m)\u001b[0m\u001b[0;34m)\u001b[0m\u001b[0;34m\u001b[0m\u001b[0m\n\u001b[0m",
      "\u001b[0;31mIndexError\u001b[0m: index 200 is out of bounds for axis 0 with size 200"
     ]
    }
   ],
   "source": [
    "imshow(negative_training_images[200].reshape(3, 64, 64).transpose(1, 2, 0))"
   ]
  },
  {
   "cell_type": "code",
   "execution_count": 248,
   "metadata": {},
   "outputs": [
    {
     "name": "stdout",
     "output_type": "stream",
     "text": [
      "tensor([[0.]], device='cuda:0', grad_fn=<RoundBackward>)\n"
     ]
    }
   ],
   "source": [
    "print(torch.round(torch.sigmoid(classifier(ptu.from_numpy(negative_training_images[50][None])))))"
   ]
  },
  {
   "cell_type": "code",
   "execution_count": 249,
   "metadata": {},
   "outputs": [
    {
     "name": "stdout",
     "output_type": "stream",
     "text": [
      "tensor([[1.]], device='cuda:0', grad_fn=<RoundBackward>)\n"
     ]
    }
   ],
   "source": [
    "print(torch.round(torch.sigmoid(classifier(ptu.from_numpy(positive_training_images[50][None])))))"
   ]
  },
  {
   "cell_type": "code",
   "execution_count": 16,
   "metadata": {},
   "outputs": [],
   "source": [
    "positive_test_images_tensor = ptu.from_numpy(positive_test_images)\n",
    "positive_test_predictions = torch.round(torch.sigmoid(classifier(positive_test_images_tensor)))\n",
    "positive_test_predictions_np = ptu.get_numpy(positive_test_predictions).astype(np.int)\n",
    "\n",
    "# import IPython; IPython.embed()\n",
    "true_positives = np.sum(positive_test_predictions_np)\n",
    "positives = len(positive_test_labels)"
   ]
  },
  {
   "cell_type": "code",
   "execution_count": 17,
   "metadata": {},
   "outputs": [],
   "source": [
    "negative_test_images_tensor = ptu.from_numpy(negative_test_images)\n",
    "negative_test_predictions = torch.round(torch.sigmoid(classifier(negative_test_images_tensor)))\n",
    "negative_test_predictions_np = ptu.get_numpy(negative_test_predictions).astype(np.int)\n",
    "\n",
    "# import IPython; IPython.embed()\n",
    "false_negatives = np.sum(negative_test_predictions_np)\n",
    "negatives = len(negative_test_labels)"
   ]
  },
  {
   "cell_type": "code",
   "execution_count": 19,
   "metadata": {},
   "outputs": [
    {
     "name": "stdout",
     "output_type": "stream",
     "text": [
      "Precision:  0.8320512820512821\n",
      "Recall:  0.9833333333333333\n",
      "3067\n"
     ]
    }
   ],
   "source": [
    "print('Precision: ', true_positives / (true_positives + false_negatives))\n",
    "print('Recall: ', true_positives / positives)\n",
    "print(positives + negatives)"
   ]
  },
  {
   "cell_type": "code",
   "execution_count": 255,
   "metadata": {},
   "outputs": [
    {
     "name": "stderr",
     "output_type": "stream",
     "text": [
      "/home/jonathan/anaconda3/envs/railrl-env/lib/python3.6/site-packages/torch/serialization.py:292: UserWarning: Couldn't retrieve source code for container of type ConcatCNN. It won't be checked for correctness upon loading.\n",
      "  \"type \" + obj.__name__ + \". It won't be checked \"\n",
      "/home/jonathan/anaconda3/envs/railrl-env/lib/python3.6/site-packages/torch/serialization.py:292: UserWarning: Couldn't retrieve source code for container of type ReLU. It won't be checked for correctness upon loading.\n",
      "  \"type \" + obj.__name__ + \". It won't be checked \"\n",
      "/home/jonathan/anaconda3/envs/railrl-env/lib/python3.6/site-packages/torch/serialization.py:292: UserWarning: Couldn't retrieve source code for container of type ModuleList. It won't be checked for correctness upon loading.\n",
      "  \"type \" + obj.__name__ + \". It won't be checked \"\n",
      "/home/jonathan/anaconda3/envs/railrl-env/lib/python3.6/site-packages/torch/serialization.py:292: UserWarning: Couldn't retrieve source code for container of type Conv2d. It won't be checked for correctness upon loading.\n",
      "  \"type \" + obj.__name__ + \". It won't be checked \"\n",
      "/home/jonathan/anaconda3/envs/railrl-env/lib/python3.6/site-packages/torch/serialization.py:292: UserWarning: Couldn't retrieve source code for container of type MaxPool2d. It won't be checked for correctness upon loading.\n",
      "  \"type \" + obj.__name__ + \". It won't be checked \"\n",
      "/home/jonathan/anaconda3/envs/railrl-env/lib/python3.6/site-packages/torch/serialization.py:292: UserWarning: Couldn't retrieve source code for container of type Linear. It won't be checked for correctness upon loading.\n",
      "  \"type \" + obj.__name__ + \". It won't be checked \"\n"
     ]
    }
   ],
   "source": [
    "torch.save(classifier, 'reward_classifier.pth')"
   ]
  },
  {
   "cell_type": "code",
   "execution_count": null,
   "metadata": {},
   "outputs": [],
   "source": []
  }
 ],
 "metadata": {
  "kernelspec": {
   "display_name": "Python 3",
   "language": "python",
   "name": "python3"
  },
  "language_info": {
   "codemirror_mode": {
    "name": "ipython",
    "version": 3
   },
   "file_extension": ".py",
   "mimetype": "text/x-python",
   "name": "python",
   "nbconvert_exporter": "python",
   "pygments_lexer": "ipython3",
   "version": "3.6.5"
  }
 },
 "nbformat": 4,
 "nbformat_minor": 4
}
