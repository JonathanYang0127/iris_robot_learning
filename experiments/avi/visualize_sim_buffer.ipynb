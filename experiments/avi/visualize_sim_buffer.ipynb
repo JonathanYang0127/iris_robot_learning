{
 "cells": [
  {
   "cell_type": "code",
   "execution_count": 3,
   "metadata": {},
   "outputs": [],
   "source": [
    "BUFFER = \"/nfs/kun1/users/avi/scripted_sim_datasets/june30_Widow250PickPlaceMetaTrainMultiObjectMultiContainer-v0_16K_save_all_noise_0.1_2021-06-30T15-51-55/june30_Widow250PickPlaceMetaTrainMultiObjectMultiContainer-v0_16K_save_all_noise_0.1_2021-06-30T15-51-55_16384.npy\""
   ]
  },
  {
   "cell_type": "code",
   "execution_count": 4,
   "metadata": {},
   "outputs": [],
   "source": [
    "import numpy as np\n",
    "import matplotlib\n",
    "with open(BUFFER, 'rb') as fl:\n",
    "    data = np.load(fl, allow_pickle=True)"
   ]
  },
  {
   "cell_type": "code",
   "execution_count": 33,
   "metadata": {},
   "outputs": [
    {
     "name": "stdout",
     "output_type": "stream",
     "text": [
      "[[[255 255 255]\n",
      "  [255 255 255]\n",
      "  [255 255 255]\n",
      "  ...\n",
      "  [255 255 255]\n",
      "  [255 255 255]\n",
      "  [255 255 255]]\n",
      "\n",
      " [[255 255 255]\n",
      "  [255 255 255]\n",
      "  [188 162 130]\n",
      "  ...\n",
      "  [255 255 255]\n",
      "  [255 255 255]\n",
      "  [255 255 255]]\n",
      "\n",
      " [[189 164 135]\n",
      "  [187 164 131]\n",
      "  [188 167 136]\n",
      "  ...\n",
      "  [255 255 255]\n",
      "  [255 255 255]\n",
      "  [255 255 255]]\n",
      "\n",
      " ...\n",
      "\n",
      " [[179 158 129]\n",
      "  [179 156 127]\n",
      "  [178 157 129]\n",
      "  ...\n",
      "  [158 134 108]\n",
      "  [158 135 108]\n",
      "  [158 134 108]]\n",
      "\n",
      " [[176 154 126]\n",
      "  [176 156 128]\n",
      "  [176 155 126]\n",
      "  ...\n",
      "  [158 135 108]\n",
      "  [156 130 105]\n",
      "  [158 135 108]]\n",
      "\n",
      " [[176 157 127]\n",
      "  [175 155 126]\n",
      "  [173 153 124]\n",
      "  ...\n",
      "  [157 133 108]\n",
      "  [159 134 110]\n",
      "  [158 135 110]]]\n"
     ]
    }
   ],
   "source": [
    "print(data[0]['next_observations'][0]['image'])"
   ]
  },
  {
   "cell_type": "code",
   "execution_count": 8,
   "metadata": {},
   "outputs": [
    {
     "name": "stdout",
     "output_type": "stream",
     "text": [
      "26\n",
      "30\n"
     ]
    },
    {
     "data": {
      "image/png": "[encoded data removed]",
      "text/plain": [
       "<matplotlib.figure.Figure at 0x7f417c3d19b0>"
      ]
     },
     "metadata": {},
     "output_type": "display_data"
    }
   ],
   "source": [
    "import matplotlib.pyplot as plt\n",
    "idx = 4000\n",
    "timestep = 29\n",
    "plt.imshow(data[idx]['next_observations'][timestep]['image'])\n",
    "print(data[idx]['env_infos'][timestep]['task_idx'])\n",
    "print(len(data[100]['actions']))"
   ]
  },
  {
   "cell_type": "code",
   "execution_count": null,
   "metadata": {},
   "outputs": [],
   "source": []
  },
  {
   "cell_type": "code",
   "execution_count": null,
   "metadata": {},
   "outputs": [],
   "source": []
  }
 ],
 "metadata": {
  "kernelspec": {
   "display_name": "Python 3",
   "language": "python",
   "name": "python3"
  },
  "language_info": {
   "codemirror_mode": {
    "name": "ipython",
    "version": 3
   },
   "file_extension": ".py",
   "mimetype": "text/x-python",
   "name": "python",
   "nbconvert_exporter": "python",
   "pygments_lexer": "ipython3",
   "version": "3.6.5"
  }
 },
 "nbformat": 4,
 "nbformat_minor": 4
}
