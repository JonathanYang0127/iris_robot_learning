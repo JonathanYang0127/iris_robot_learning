{
 "cells": [
  {
   "cell_type": "code",
   "execution_count": 1,
   "metadata": {
    "collapsed": false
   },
   "outputs": [],
   "source": [
    "import tensorflow as tf\n",
    "\n",
    "from algos.convex_naf import ConvexNAFAlgorithm\n",
    "from algos.ddpg import DDPG as MyDDPG\n",
    "from qfunctions.convex_naf_qfunction import ConcaveNAF\n",
    "from qfunctions.nn_qfunction import FeedForwardCritic\n",
    "from qfunctions.quadratic_naf_qfunction import QuadraticNAF\n",
    "from qfunctions.quadratic_qf import QuadraticQF\n",
    "from policies.nn_policy import FeedForwardPolicy\n",
    "from rllab.exploration_strategies.ou_strategy import OUStrategy\n",
    "\n",
    "from rllab.envs.box2d.cartpole_env import CartpoleEnv\n",
    "from rllab.envs.normalized_env import normalize\n",
    "\n",
    "import matplotlib.pyplot as plt\n",
    "import numpy as np"
   ]
  },
  {
   "cell_type": "code",
   "execution_count": 2,
   "metadata": {
    "collapsed": true
   },
   "outputs": [],
   "source": [
    "BATCH_SIZE = 128\n",
    "N_EPOCHS = 50\n",
    "EPOCH_LENGTH = 100\n",
    "EVAL_SAMPLES = 100\n",
    "DISCOUNT = 0.99\n",
    "QF_LEARNING_RATE = 1e-3\n",
    "POLICY_LEARNING_RATE = 1e-4\n",
    "BATCH_LEARNING_RATE = 1e-2\n",
    "SOFT_TARGET_TAU = 1e-2\n",
    "REPLAY_POOL_SIZE = 1000000\n",
    "MIN_POOL_SIZE = 256\n",
    "SCALE_REWARD = 1.0\n",
    "QF_WEIGHT_DECAY = 0.01\n",
    "MAX_PATH_LENGTH = 1000\n",
    "N_UPDATES_PER_TIME_STEP = 5\n",
    "\n",
    "QF_TYPE = ''"
   ]
  },
  {
   "cell_type": "code",
   "execution_count": 3,
   "metadata": {
    "collapsed": false
   },
   "outputs": [
    {
     "name": "stdout",
     "output_type": "stream",
     "text": [
      "Making SGD optimizer\n",
      "/Users/vitchyr/git/rail-rl/algos/naf.py\n",
      "qf params =\n",
      "['qf/advantage_function/observation_mlp/hidden0/weights:0', 'qf/advantage_function/observation_mlp/hidden0/bias:0', 'qf/advantage_function/observation_mlp/hidden1/weights:0', 'qf/advantage_function/observation_mlp/hidden1/bias:0', 'qf/advantage_function/fusion_mlp/hidden0/weights:0', 'qf/advantage_function/fusion_mlp/hidden0/bias:0', 'qf/advantage_function/fusion_mlp/hidden1/weights:0', 'qf/advantage_function/fusion_mlp/hidden1/bias:0', 'qf/advantage_function/fusion_mlp/output_linear/weights:0', 'qf/advantage_function/fusion_mlp/output_linear/bias:0', 'qf/V_function/hidden0/weights:0', 'qf/V_function/hidden0/bias:0', 'qf/V_function/hidden1/weights:0', 'qf/V_function/hidden1/bias:0', 'qf/V_function/weights:0', 'qf/V_function/bias:0']\n"
     ]
    }
   ],
   "source": [
    "env = normalize(CartpoleEnv())\n",
    "policy_params = dict(\n",
    "    observation_hidden_sizes=(100, 100),\n",
    "    hidden_nonlinearity=tf.nn.relu,\n",
    "    output_nonlinearity=tf.nn.tanh,\n",
    ")\n",
    "algo_params = dict(\n",
    "    batch_size=BATCH_SIZE,\n",
    "    n_epochs=N_EPOCHS,\n",
    "    epoch_length=EPOCH_LENGTH,\n",
    "    eval_samples=EVAL_SAMPLES,\n",
    "    discount=DISCOUNT,\n",
    "#     policy_learning_rate=POLICY_LEARNING_RATE,\n",
    "    qf_learning_rate=QF_LEARNING_RATE,\n",
    "    soft_target_tau=SOFT_TARGET_TAU,\n",
    "    replay_pool_size=REPLAY_POOL_SIZE,\n",
    "    min_pool_size=MIN_POOL_SIZE,\n",
    "    scale_reward=SCALE_REWARD,\n",
    "    max_path_length=MAX_PATH_LENGTH,\n",
    "    qf_weight_decay=QF_WEIGHT_DECAY,\n",
    ")\n",
    "\n",
    "es = OUStrategy(env_spec=env.spec)\n",
    "\n",
    "optimizer_type = 'sgd'\n",
    "qf = ConcaveNAF(\n",
    "    name_or_scope=\"qf\",\n",
    "    env_spec=env.spec,\n",
    "    optimizer_type=optimizer_type,\n",
    ")\n",
    "algorithm = ConvexNAFAlgorithm(\n",
    "    env,\n",
    "    es,\n",
    "    qf,\n",
    "    **algo_params\n",
    ")\n"
   ]
  },
  {
   "cell_type": "code",
   "execution_count": 4,
   "metadata": {
    "collapsed": true
   },
   "outputs": [],
   "source": [
    "policy = qf.implicit_policy"
   ]
  },
  {
   "cell_type": "code",
   "execution_count": 8,
   "metadata": {
    "collapsed": false
   },
   "outputs": [
    {
     "name": "stdout",
     "output_type": "stream",
     "text": [
      "2016-12-16 14:54:48.115318 PST | Populating workers...\n",
      "2016-12-16 14:54:48.117235 PST | Populated\n",
      "2016-12-16 14:54:48.119028 PST | Epoch #0 | Training started\n",
      "2016-12-16 14:54:59.668722 PST | Epoch #0 | Training finished. Time: 11.548182010650635\n",
      "2016-12-16 14:54:59.670187 PST | Epoch #1 | Training started\n",
      "2016-12-16 14:55:13.756191 PST | Epoch #1 | Training finished. Time: 14.08236813545227\n",
      "2016-12-16 14:55:13.757782 PST | Epoch #2 | Training started\n",
      "2016-12-16 14:55:33.327501 PST | Epoch #2 | Training finished. Time: 19.5682110786438\n",
      "2016-12-16 14:55:33.332441 PST | Epoch #2 | Collecting samples for evaluation\n"
     ]
    },
    {
     "name": "stderr",
     "output_type": "stream",
     "text": [
      "0%                          100%\n",
      "[##############################] | ETA: 00:00:00\n",
      "Total time elapsed: 00:00:14\n"
     ]
    },
    {
     "name": "stdout",
     "output_type": "stream",
     "text": [
      "2016-12-16 14:56:06.410186 PST | Epoch #2 | Eval time: 33.077747106552124\n",
      "2016-12-16 14:56:06.417072 PST | ---------------------  ----------\n",
      "2016-12-16 14:56:06.421595 PST | Epoch                    2\n",
      "2016-12-16 14:56:06.423059 PST | AverageReturn           89.9448\n",
      "2016-12-16 14:56:06.424423 PST | QfLoss                  17.6724\n",
      "2016-12-16 14:56:06.426926 PST | YsMean                   9.5543\n",
      "2016-12-16 14:56:06.428580 PST | YsStd                    3.1907\n",
      "2016-12-16 14:56:06.430040 PST | YsMax                   11.1195\n",
      "2016-12-16 14:56:06.431260 PST | YsMin                    0\n",
      "2016-12-16 14:56:06.432734 PST | QfOutputMean             7.58234\n",
      "2016-12-16 14:56:06.436189 PST | QfOutputStd              0.766202\n",
      "2016-12-16 14:56:06.437941 PST | QfOutputMax              9.8817\n",
      "2016-12-16 14:56:06.439363 PST | QfOutputMin              6.43683\n",
      "2016-12-16 14:56:06.440636 PST | TargetVfOutputMean       0.599884\n",
      "2016-12-16 14:56:06.442054 PST | TargetVfOutputStd        0.218116\n",
      "2016-12-16 14:56:06.443451 PST | TargetVfOutputMax        1.14978\n",
      "2016-12-16 14:56:06.444950 PST | TargetVfOutputMin        0.343389\n",
      "2016-12-16 14:56:06.446277 PST | RewardsMean              8.99448\n",
      "2016-12-16 14:56:06.447750 PST | RewardsStd               2.99816\n",
      "2016-12-16 14:56:06.449107 PST | RewardsMax               9.99999\n",
      "2016-12-16 14:56:06.450395 PST | RewardsMin               0\n",
      "2016-12-16 14:56:06.451782 PST | ReturnsMean             89.9448\n",
      "2016-12-16 14:56:06.453405 PST | ReturnsStd              35.7688\n",
      "2016-12-16 14:56:06.454781 PST | ReturnsMax             149.938\n",
      "2016-12-16 14:56:06.456197 PST | ReturnsMin              29.9643\n",
      "2016-12-16 14:56:06.458017 PST | DiscountedReturnsMean   85.839\n",
      "2016-12-16 14:56:06.459393 PST | DiscountedReturnsStd    32.9621\n",
      "2016-12-16 14:56:06.460919 PST | DiscountedReturnsMax   139.886\n",
      "2016-12-16 14:56:06.462182 PST | DiscountedReturnsMin    29.6657\n",
      "2016-12-16 14:56:06.463805 PST | PolicyOutputMean         0\n",
      "2016-12-16 14:56:06.465206 PST | PolicyOutputStd          0\n",
      "2016-12-16 14:56:06.466616 PST | PolicyOutputMax          0\n",
      "2016-12-16 14:56:06.468162 PST | PolicyOutputMin          0\n",
      "2016-12-16 14:56:06.469832 PST | TrainingReturnsMean     63.1309\n",
      "2016-12-16 14:56:06.470982 PST | TrainingReturnsStd      41.9135\n",
      "2016-12-16 14:56:06.472429 PST | TrainingReturnsMax     199.841\n",
      "2016-12-16 14:56:06.473879 PST | TrainingReturnsMin       9.98501\n",
      "2016-12-16 14:56:06.475289 PST | ---------------------  ----------\n",
      "2016-12-16 14:56:06.476724 PST | Epoch #3 | Training started\n",
      "2016-12-16 14:56:23.731517 PST | Epoch #3 | Training finished. Time: 17.253359079360962\n",
      "2016-12-16 14:56:23.733214 PST | Epoch #3 | Collecting samples for evaluation\n"
     ]
    },
    {
     "name": "stderr",
     "output_type": "stream",
     "text": [
      "0%                          100%\n",
      "[##############################] | ETA: 00:00:00\n",
      "Total time elapsed: 00:00:27\n"
     ]
    },
    {
     "name": "stdout",
     "output_type": "stream",
     "text": [
      "2016-12-16 14:57:13.609910 PST | Epoch #3 | Eval time: 49.87669110298157\n",
      "2016-12-16 14:57:13.613446 PST | ---------------------  ----------\n",
      "2016-12-16 14:57:13.616534 PST | Epoch                    3\n",
      "2016-12-16 14:57:13.618583 PST | AverageReturn          108.837\n",
      "2016-12-16 14:57:13.620067 PST | QfLoss                  14.3364\n",
      "2016-12-16 14:57:13.621509 PST | YsMean                  13.6357\n",
      "2016-12-16 14:57:13.623242 PST | YsStd                    4.14499\n",
      "2016-12-16 14:57:13.625485 PST | YsMax                   16.3586\n",
      "2016-12-16 14:57:13.627711 PST | YsMin                    0\n",
      "2016-12-16 14:57:13.628937 PST | QfOutputMean            13.7147\n",
      "2016-12-16 14:57:13.630946 PST | QfOutputStd              0.996675\n",
      "2016-12-16 14:57:13.633453 PST | QfOutputMax             14.9707\n",
      "2016-12-16 14:57:13.634910 PST | QfOutputMin             10.2689\n",
      "2016-12-16 14:57:13.636588 PST | TargetVfOutputMean       4.93977\n",
      "2016-12-16 14:57:13.638561 PST | TargetVfOutputStd        0.33025\n",
      "2016-12-16 14:57:13.639827 PST | TargetVfOutputMax        6.4381\n",
      "2016-12-16 14:57:13.641581 PST | TargetVfOutputMin        4.3737\n",
      "2016-12-16 14:57:13.642987 PST | RewardsMean              9.15453\n",
      "2016-12-16 14:57:13.645244 PST | RewardsStd               2.77424\n",
      "2016-12-16 14:57:13.651526 PST | RewardsMax              10\n",
      "2016-12-16 14:57:13.653708 PST | RewardsMin               0\n",
      "2016-12-16 14:57:13.655597 PST | ReturnsMean            108.837\n",
      "2016-12-16 14:57:13.657490 PST | ReturnsStd              35.7287\n",
      "2016-12-16 14:57:13.659003 PST | ReturnsMax             159.954\n",
      "2016-12-16 14:57:13.661494 PST | ReturnsMin              39.9605\n",
      "2016-12-16 14:57:13.664674 PST | DiscountedReturnsMean  103.032\n",
      "2016-12-16 14:57:13.670190 PST | DiscountedReturnsStd    32.4619\n",
      "2016-12-16 14:57:13.671854 PST | DiscountedReturnsMax   148.501\n",
      "2016-12-16 14:57:13.673323 PST | DiscountedReturnsMin    39.3652\n",
      "2016-12-16 14:57:13.675084 PST | PolicyOutputMean         0\n",
      "2016-12-16 14:57:13.676830 PST | PolicyOutputStd          0\n",
      "2016-12-16 14:57:13.678822 PST | PolicyOutputMax          0\n",
      "2016-12-16 14:57:13.680592 PST | PolicyOutputMin          0\n",
      "2016-12-16 14:57:13.682250 PST | TrainingReturnsMean     60.6803\n",
      "2016-12-16 14:57:13.683601 PST | TrainingReturnsStd      38.8102\n",
      "2016-12-16 14:57:13.685169 PST | TrainingReturnsMax     159.968\n",
      "2016-12-16 14:57:13.686679 PST | TrainingReturnsMin      19.9651\n",
      "2016-12-16 14:57:13.688024 PST | ---------------------  ----------\n",
      "2016-12-16 14:57:13.689432 PST | Epoch #4 | Training started\n",
      "2016-12-16 14:57:35.967707 PST | Epoch #4 | Training finished. Time: 22.27699303627014\n",
      "2016-12-16 14:57:35.969255 PST | Epoch #4 | Collecting samples for evaluation\n"
     ]
    },
    {
     "name": "stderr",
     "output_type": "stream",
     "text": [
      "0%                          100%\n",
      "[##############################] | ETA: 00:00:00\n",
      "Total time elapsed: 00:00:19\n"
     ]
    },
    {
     "name": "stdout",
     "output_type": "stream",
     "text": [
      "2016-12-16 14:58:16.871440 PST | Epoch #4 | Eval time: 40.902178049087524\n",
      "2016-12-16 14:58:16.874882 PST | ---------------------  ---------\n",
      "2016-12-16 14:58:16.877844 PST | Epoch                    4\n",
      "2016-12-16 14:58:16.879851 PST | AverageReturn          121.197\n",
      "2016-12-16 14:58:16.882462 PST | QfLoss                  19.9468\n",
      "2016-12-16 14:58:16.884699 PST | YsMean                  19.5456\n",
      "2016-12-16 14:58:16.886775 PST | YsStd                    5.70316\n",
      "2016-12-16 14:58:16.888783 PST | YsMax                   22.6708\n",
      "2016-12-16 14:58:16.890823 PST | YsMin                    0\n",
      "2016-12-16 14:58:16.893298 PST | QfOutputMean            18.2222\n",
      "2016-12-16 14:58:16.895760 PST | QfOutputStd              2.7942\n",
      "2016-12-16 14:58:16.897613 PST | QfOutputMax             21.111\n",
      "2016-12-16 14:58:16.899410 PST | QfOutputMin              8.9485\n",
      "2016-12-16 14:58:16.901764 PST | TargetVfOutputMean      11.3371\n",
      "2016-12-16 14:58:16.903386 PST | TargetVfOutputStd        1.03992\n",
      "2016-12-16 14:58:16.905043 PST | TargetVfOutputMax       12.8174\n",
      "2016-12-16 14:58:16.906752 PST | TargetVfOutputMin        7.512\n",
      "2016-12-16 14:58:16.908414 PST | RewardsMean              9.23407\n",
      "2016-12-16 14:58:16.911413 PST | RewardsStd               2.65188\n",
      "2016-12-16 14:58:16.913144 PST | RewardsMax              10\n",
      "2016-12-16 14:58:16.915865 PST | RewardsMin               0\n",
      "2016-12-16 14:58:16.918094 PST | ReturnsMean            121.197\n",
      "2016-12-16 14:58:16.919344 PST | ReturnsStd              28.4807\n",
      "2016-12-16 14:58:16.920962 PST | ReturnsMax             159.954\n",
      "2016-12-16 14:58:16.922706 PST | ReturnsMin              69.9327\n",
      "2016-12-16 14:58:16.925358 PST | DiscountedReturnsMean  114.315\n",
      "2016-12-16 14:58:16.926743 PST | DiscountedReturnsStd    25.503\n",
      "2016-12-16 14:58:16.929226 PST | DiscountedReturnsMax   148.502\n",
      "2016-12-16 14:58:16.931063 PST | DiscountedReturnsMin    67.8697\n",
      "2016-12-16 14:58:16.933338 PST | PolicyOutputMean         0\n",
      "2016-12-16 14:58:16.935706 PST | PolicyOutputStd          0\n",
      "2016-12-16 14:58:16.937084 PST | PolicyOutputMax          0\n",
      "2016-12-16 14:58:16.938568 PST | PolicyOutputMin          0\n",
      "2016-12-16 14:58:16.940094 PST | TrainingReturnsMean     49.962\n",
      "2016-12-16 14:58:16.942103 PST | TrainingReturnsStd      20.9094\n",
      "2016-12-16 14:58:16.944802 PST | TrainingReturnsMax      79.9593\n",
      "2016-12-16 14:58:16.950050 PST | TrainingReturnsMin       9.98383\n",
      "2016-12-16 14:58:16.953498 PST | ---------------------  ---------\n",
      "2016-12-16 14:58:16.956812 PST | Epoch #5 | Training started\n",
      "2016-12-16 14:58:37.240303 PST | Epoch #5 | Training finished. Time: 20.27829384803772\n",
      "2016-12-16 14:58:37.243178 PST | Epoch #5 | Collecting samples for evaluation\n"
     ]
    },
    {
     "name": "stderr",
     "output_type": "stream",
     "text": [
      "0%                          100%\n",
      "[##############################] | ETA: 00:00:00\n",
      "Total time elapsed: 00:00:20\n"
     ]
    },
    {
     "name": "stdout",
     "output_type": "stream",
     "text": [
      "2016-12-16 14:59:17.341895 PST | Epoch #5 | Eval time: 40.09872007369995\n",
      "2016-12-16 14:59:17.345254 PST | ---------------------  ---------\n",
      "2016-12-16 14:59:17.346923 PST | Epoch                    5\n",
      "2016-12-16 14:59:17.349312 PST | AverageReturn           92.9459\n",
      "2016-12-16 14:59:17.351349 PST | QfLoss                  23.5678\n",
      "2016-12-16 14:59:17.353067 PST | YsMean                  23.7727\n",
      "2016-12-16 14:59:17.354530 PST | YsStd                    8.2798\n",
      "2016-12-16 14:59:17.356352 PST | YsMax                   30.1819\n",
      "2016-12-16 14:59:17.357796 PST | YsMin                    0\n",
      "2016-12-16 14:59:17.359230 PST | QfOutputMean            22.2902\n",
      "2016-12-16 14:59:17.360675 PST | QfOutputStd              5.83136\n",
      "2016-12-16 14:59:17.362240 PST | QfOutputMax             30.3118\n",
      "2016-12-16 14:59:17.363754 PST | QfOutputMin              7.86554\n",
      "2016-12-16 14:59:17.365177 PST | TargetVfOutputMean      16.8335\n",
      "2016-12-16 14:59:17.366809 PST | TargetVfOutputStd        2.99306\n",
      "2016-12-16 14:59:17.368389 PST | TargetVfOutputMax       20.3965\n",
      "2016-12-16 14:59:17.369783 PST | TargetVfOutputMin        9.26062\n",
      "2016-12-16 14:59:17.371115 PST | RewardsMean              9.02388\n",
      "2016-12-16 14:59:17.372641 PST | RewardsStd               2.95905\n",
      "2016-12-16 14:59:17.374135 PST | RewardsMax              10\n",
      "2016-12-16 14:59:17.375416 PST | RewardsMin               0\n",
      "2016-12-16 14:59:17.377997 PST | ReturnsMean             92.9459\n",
      "2016-12-16 14:59:17.379683 PST | ReturnsStd              40.2587\n",
      "2016-12-16 14:59:17.381907 PST | ReturnsMax             159.932\n",
      "2016-12-16 14:59:17.383337 PST | ReturnsMin              29.9609\n",
      "2016-12-16 14:59:17.385325 PST | DiscountedReturnsMean   88.4381\n",
      "2016-12-16 14:59:17.386892 PST | DiscountedReturnsStd    36.7447\n",
      "2016-12-16 14:59:17.388221 PST | DiscountedReturnsMax   148.481\n",
      "2016-12-16 14:59:17.389515 PST | DiscountedReturnsMin    29.6623\n",
      "2016-12-16 14:59:17.391209 PST | PolicyOutputMean         0\n",
      "2016-12-16 14:59:17.392674 PST | PolicyOutputStd          0\n",
      "2016-12-16 14:59:17.394074 PST | PolicyOutputMax          0\n",
      "2016-12-16 14:59:17.395337 PST | PolicyOutputMin          0\n",
      "2016-12-16 14:59:17.397057 PST | TrainingReturnsMean     49.9683\n",
      "2016-12-16 14:59:17.399074 PST | TrainingReturnsStd      41.5784\n",
      "2016-12-16 14:59:17.400497 PST | TrainingReturnsMax     199.954\n",
      "2016-12-16 14:59:17.401789 PST | TrainingReturnsMin       9.98007\n",
      "2016-12-16 14:59:17.403000 PST | ---------------------  ---------\n",
      "2016-12-16 14:59:17.404282 PST | Epoch #6 | Training started\n",
      "2016-12-16 14:59:41.301815 PST | Epoch #6 | Training finished. Time: 23.895966053009033\n",
      "2016-12-16 14:59:41.303270 PST | Epoch #6 | Collecting samples for evaluation\n"
     ]
    },
    {
     "name": "stderr",
     "output_type": "stream",
     "text": [
      "0%                          100%\n",
      "[##############################] | ETA: 00:00:00\n",
      "Total time elapsed: 00:00:21\n"
     ]
    },
    {
     "name": "stdout",
     "output_type": "stream",
     "text": [
      "2016-12-16 15:00:24.615404 PST | Epoch #6 | Eval time: 43.3121280670166\n",
      "2016-12-16 15:00:24.618982 PST | ---------------------  ---------\n",
      "2016-12-16 15:00:24.621173 PST | Epoch                    6\n",
      "2016-12-16 15:00:24.622543 PST | AverageReturn           80.8536\n",
      "2016-12-16 15:00:24.624478 PST | QfLoss                  26.7301\n",
      "2016-12-16 15:00:24.625940 PST | YsMean                  27.281\n",
      "2016-12-16 15:00:24.627444 PST | YsStd                   10.8891\n",
      "2016-12-16 15:00:24.629783 PST | YsMax                   38.7423\n",
      "2016-12-16 15:00:24.631123 PST | YsMin                    0\n",
      "2016-12-16 15:00:24.633779 PST | QfOutputMean            26.3587\n",
      "2016-12-16 15:00:24.635957 PST | QfOutputStd              8.268\n",
      "2016-12-16 15:00:24.637940 PST | QfOutputMax             38.1514\n",
      "2016-12-16 15:00:24.639748 PST | QfOutputMin              4.98993\n",
      "2016-12-16 15:00:24.641247 PST | TargetVfOutputMean      21.5906\n",
      "2016-12-16 15:00:24.643306 PST | TargetVfOutputStd        5.59566\n",
      "2016-12-16 15:00:24.645117 PST | TargetVfOutputMax       29.0454\n",
      "2016-12-16 15:00:24.646658 PST | TargetVfOutputMin        6.88387\n",
      "2016-12-16 15:00:24.648160 PST | RewardsMean              8.8939\n",
      "2016-12-16 15:00:24.649639 PST | RewardsStd               3.12676\n",
      "2016-12-16 15:00:24.650843 PST | RewardsMax               9.99982\n",
      "2016-12-16 15:00:24.652299 PST | RewardsMin               0\n",
      "2016-12-16 15:00:24.653767 PST | ReturnsMean             80.8536\n",
      "2016-12-16 15:00:24.655064 PST | ReturnsStd              27.4554\n",
      "2016-12-16 15:00:24.656253 PST | ReturnsMax             139.942\n",
      "2016-12-16 15:00:24.658053 PST | ReturnsMin              29.9528\n",
      "2016-12-16 15:00:24.659825 PST | DiscountedReturnsMean   77.6953\n",
      "2016-12-16 15:00:24.661258 PST | DiscountedReturnsStd    25.3403\n",
      "2016-12-16 15:00:24.664177 PST | DiscountedReturnsMax   131.201\n",
      "2016-12-16 15:00:24.666561 PST | DiscountedReturnsMin    29.6543\n",
      "2016-12-16 15:00:24.667896 PST | PolicyOutputMean         0\n",
      "2016-12-16 15:00:24.669355 PST | PolicyOutputStd          0\n",
      "2016-12-16 15:00:24.671334 PST | PolicyOutputMax          0\n",
      "2016-12-16 15:00:24.672773 PST | PolicyOutputMin          0\n",
      "2016-12-16 15:00:24.674213 PST | TrainingReturnsMean     51.8401\n",
      "2016-12-16 15:00:24.675737 PST | TrainingReturnsStd      30.8601\n",
      "2016-12-16 15:00:24.677244 PST | TrainingReturnsMax     119.982\n",
      "2016-12-16 15:00:24.678673 PST | TrainingReturnsMin      19.9751\n",
      "2016-12-16 15:00:24.680058 PST | ---------------------  ---------\n",
      "2016-12-16 15:00:24.681503 PST | Epoch #7 | Training started\n",
      "2016-12-16 15:00:52.300184 PST | Epoch #7 | Training finished. Time: 27.616335153579712\n",
      "2016-12-16 15:00:52.302454 PST | Epoch #7 | Collecting samples for evaluation\n"
     ]
    },
    {
     "name": "stderr",
     "output_type": "stream",
     "text": [
      "0%                          100%\n",
      "[##############################] | ETA: 00:00:00\n",
      "Total time elapsed: 00:00:23\n"
     ]
    },
    {
     "name": "stdout",
     "output_type": "stream",
     "text": [
      "2016-12-16 15:01:39.989373 PST | Epoch #7 | Eval time: 47.68776297569275\n",
      "2016-12-16 15:01:39.992710 PST | ---------------------  ---------\n",
      "2016-12-16 15:01:39.994347 PST | Epoch                    7\n",
      "2016-12-16 15:01:39.995987 PST | AverageReturn           85.3994\n",
      "2016-12-16 15:01:39.997464 PST | QfLoss                  27.7461\n",
      "2016-12-16 15:01:39.998865 PST | YsMean                  31.6032\n",
      "2016-12-16 15:01:40.003613 PST | YsStd                   13.0942\n",
      "2016-12-16 15:01:40.006037 PST | YsMax                   44.7054\n",
      "2016-12-16 15:01:40.007433 PST | YsMin                    0\n",
      "2016-12-16 15:01:40.009062 PST | QfOutputMean            29.5735\n",
      "2016-12-16 15:01:40.010660 PST | QfOutputStd             10.7081\n",
      "2016-12-16 15:01:40.012220 PST | QfOutputMax             41.6561\n",
      "2016-12-16 15:01:40.013787 PST | QfOutputMin              2.66947\n",
      "2016-12-16 15:01:40.015742 PST | TargetVfOutputMean      26.4521\n",
      "2016-12-16 15:01:40.017836 PST | TargetVfOutputStd        7.89769\n",
      "2016-12-16 15:01:40.019727 PST | TargetVfOutputMax       35.0613\n",
      "2016-12-16 15:01:40.021243 PST | TargetVfOutputMin        6.9555\n",
      "2016-12-16 15:01:40.022904 PST | RewardsMean              8.94661\n",
      "2016-12-16 15:01:40.026018 PST | RewardsStd               3.06049\n",
      "2016-12-16 15:01:40.028172 PST | RewardsMax               9.99985\n",
      "2016-12-16 15:01:40.029612 PST | RewardsMin               0\n",
      "2016-12-16 15:01:40.032833 PST | ReturnsMean             85.3994\n",
      "2016-12-16 15:01:40.034888 PST | ReturnsStd              36.5104\n",
      "2016-12-16 15:01:40.037489 PST | ReturnsMax             139.936\n",
      "2016-12-16 15:01:40.038985 PST | ReturnsMin               9.98306\n",
      "2016-12-16 15:01:40.040753 PST | DiscountedReturnsMean   81.6244\n",
      "2016-12-16 15:01:40.042854 PST | DiscountedReturnsStd    34.127\n",
      "2016-12-16 15:01:40.044308 PST | DiscountedReturnsMax   131.196\n",
      "2016-12-16 15:01:40.046998 PST | DiscountedReturnsMin     9.98306\n",
      "2016-12-16 15:01:40.049589 PST | PolicyOutputMean         0\n",
      "2016-12-16 15:01:40.053058 PST | PolicyOutputStd          0\n",
      "2016-12-16 15:01:40.054684 PST | PolicyOutputMax          0\n",
      "2016-12-16 15:01:40.056355 PST | PolicyOutputMin          0\n",
      "2016-12-16 15:01:40.058665 PST | TrainingReturnsMean     62.8252\n",
      "2016-12-16 15:01:40.061126 PST | TrainingReturnsStd      27.3596\n",
      "2016-12-16 15:01:40.062688 PST | TrainingReturnsMax     119.959\n",
      "2016-12-16 15:01:40.064093 PST | TrainingReturnsMin      29.9679\n",
      "2016-12-16 15:01:40.065930 PST | ---------------------  ---------\n",
      "2016-12-16 15:01:40.069591 PST | Epoch #8 | Training started\n",
      "2016-12-16 15:02:03.073132 PST | Epoch #8 | Training finished. Time: 22.99535298347473\n",
      "2016-12-16 15:02:03.078914 PST | Epoch #8 | Collecting samples for evaluation\n"
     ]
    },
    {
     "name": "stderr",
     "output_type": "stream",
     "text": [
      "0%                          100%\n",
      "[##############################] | ETA: 00:00:00\n",
      "Total time elapsed: 00:00:27\n"
     ]
    },
    {
     "name": "stdout",
     "output_type": "stream",
     "text": [
      "2016-12-16 15:02:55.873338 PST | Epoch #8 | Eval time: 52.794421911239624\n",
      "2016-12-16 15:02:55.876884 PST | ---------------------  ---------\n",
      "2016-12-16 15:02:55.881370 PST | Epoch                    8\n",
      "2016-12-16 15:02:55.882927 PST | AverageReturn           68.4139\n",
      "2016-12-16 15:02:55.890577 PST | QfLoss                  28.2709\n",
      "2016-12-16 15:02:55.893677 PST | YsMean                  31.7169\n",
      "2016-12-16 15:02:55.895882 PST | YsStd                   15.3989\n",
      "2016-12-16 15:02:55.897275 PST | YsMax                   50.8051\n",
      "2016-12-16 15:02:55.898521 PST | YsMin                    0\n",
      "2016-12-16 15:02:55.901155 PST | QfOutputMean            31.0287\n",
      "2016-12-16 15:02:55.903434 PST | QfOutputStd             12.6009\n",
      "2016-12-16 15:02:55.905827 PST | QfOutputMax             46.4017\n",
      "2016-12-16 15:02:55.908132 PST | QfOutputMin              2.7153\n",
      "2016-12-16 15:02:55.916165 PST | TargetVfOutputMean      28.3044\n",
      "2016-12-16 15:02:55.917537 PST | TargetVfOutputStd       10.5494\n",
      "2016-12-16 15:02:55.919749 PST | TargetVfOutputMax       41.2288\n",
      "2016-12-16 15:02:55.923042 PST | TargetVfOutputMin        3.60315\n",
      "2016-12-16 15:02:55.925650 PST | RewardsMean              8.71942\n",
      "2016-12-16 15:02:55.927131 PST | RewardsStd               3.33246\n",
      "2016-12-16 15:02:55.929531 PST | RewardsMax              10\n",
      "2016-12-16 15:02:55.931422 PST | RewardsMin               0\n",
      "2016-12-16 15:02:55.935085 PST | ReturnsMean             68.4139\n",
      "2016-12-16 15:02:55.937452 PST | ReturnsStd              48.3302\n",
      "2016-12-16 15:02:55.940142 PST | ReturnsMax             209.955\n",
      "2016-12-16 15:02:55.941598 PST | ReturnsMin              19.964\n",
      "2016-12-16 15:02:55.943785 PST | DiscountedReturnsMean   65.3746\n",
      "2016-12-16 15:02:55.945517 PST | DiscountedReturnsStd    43.5959\n",
      "2016-12-16 15:02:55.947138 PST | DiscountedReturnsMax   190.235\n",
      "2016-12-16 15:02:55.950247 PST | DiscountedReturnsMin    19.8642\n",
      "2016-12-16 15:02:55.951573 PST | PolicyOutputMean         0\n",
      "2016-12-16 15:02:55.954101 PST | PolicyOutputStd          0\n",
      "2016-12-16 15:02:55.955442 PST | PolicyOutputMax          0\n",
      "2016-12-16 15:02:55.957572 PST | PolicyOutputMin          0\n",
      "2016-12-16 15:02:55.959107 PST | TrainingReturnsMean     64.5846\n",
      "2016-12-16 15:02:55.960398 PST | TrainingReturnsStd      19.0551\n",
      "2016-12-16 15:02:55.962908 PST | TrainingReturnsMax     109.966\n",
      "2016-12-16 15:02:55.964545 PST | TrainingReturnsMin      39.9773\n",
      "2016-12-16 15:02:55.967901 PST | ---------------------  ---------\n",
      "2016-12-16 15:02:55.969652 PST | Epoch #9 | Training started\n",
      "2016-12-16 15:03:23.998072 PST | Epoch #9 | Training finished. Time: 28.027148962020874\n",
      "2016-12-16 15:03:23.999335 PST | Epoch #9 | Collecting samples for evaluation\n"
     ]
    },
    {
     "name": "stderr",
     "output_type": "stream",
     "text": [
      "0%                          100%\n",
      "[##############################] | ETA: 00:00:00\n",
      "Total time elapsed: 00:00:25\n"
     ]
    },
    {
     "name": "stdout",
     "output_type": "stream",
     "text": [
      "2016-12-16 15:04:16.735704 PST | Epoch #9 | Eval time: 52.736371994018555\n",
      "2016-12-16 15:04:16.739900 PST | ---------------------  ---------\n",
      "2016-12-16 15:04:16.741149 PST | Epoch                    9\n",
      "2016-12-16 15:04:16.742625 PST | AverageReturn           74.1078\n",
      "2016-12-16 15:04:16.744136 PST | QfLoss                  27.8862\n",
      "2016-12-16 15:04:16.745507 PST | YsMean                  35.2925\n",
      "2016-12-16 15:04:16.747377 PST | YsStd                   16.9683\n",
      "2016-12-16 15:04:16.750116 PST | YsMax                   56.2428\n",
      "2016-12-16 15:04:16.751895 PST | YsMin                    0\n",
      "2016-12-16 15:04:16.753465 PST | QfOutputMean            34.8484\n",
      "2016-12-16 15:04:16.755855 PST | QfOutputStd             13.4486\n",
      "2016-12-16 15:04:16.758647 PST | QfOutputMax             52.0194\n",
      "2016-12-16 15:04:16.760378 PST | QfOutputMin              4.357\n",
      "2016-12-16 15:04:16.762294 PST | TargetVfOutputMean      32.033\n",
      "2016-12-16 15:04:16.764356 PST | TargetVfOutputStd       11.96\n",
      "2016-12-16 15:04:16.767177 PST | TargetVfOutputMax       46.7216\n",
      "2016-12-16 15:04:16.768531 PST | TargetVfOutputMin        3.8115\n",
      "2016-12-16 15:04:16.770639 PST | RewardsMean              8.80489\n",
      "2016-12-16 15:04:16.772677 PST | RewardsStd               3.23311\n",
      "2016-12-16 15:04:16.774572 PST | RewardsMax               9.99944\n",
      "2016-12-16 15:04:16.776357 PST | RewardsMin               0\n",
      "2016-12-16 15:04:16.778251 PST | ReturnsMean             74.1078\n",
      "2016-12-16 15:04:16.781142 PST | ReturnsStd              27.2207\n",
      "2016-12-16 15:04:16.782643 PST | ReturnsMax             129.94\n",
      "2016-12-16 15:04:16.784848 PST | ReturnsMin              29.9513\n",
      "2016-12-16 15:04:16.786583 PST | DiscountedReturnsMean   71.4274\n",
      "2016-12-16 15:04:16.789853 PST | DiscountedReturnsStd    25.2309\n",
      "2016-12-16 15:04:16.791445 PST | DiscountedReturnsMax   122.423\n",
      "2016-12-16 15:04:16.794379 PST | DiscountedReturnsMin    29.6529\n",
      "2016-12-16 15:04:16.796270 PST | PolicyOutputMean         0\n",
      "2016-12-16 15:04:16.798087 PST | PolicyOutputStd          0\n",
      "2016-12-16 15:04:16.799441 PST | PolicyOutputMax          0\n",
      "2016-12-16 15:04:16.801401 PST | PolicyOutputMin          0\n",
      "2016-12-16 15:04:16.803342 PST | TrainingReturnsMean     57.294\n",
      "2016-12-16 15:04:16.805484 PST | TrainingReturnsStd      32.1355\n",
      "2016-12-16 15:04:16.807577 PST | TrainingReturnsMax     139.956\n",
      "2016-12-16 15:04:16.809277 PST | TrainingReturnsMin      19.9701\n",
      "2016-12-16 15:04:16.812450 PST | ---------------------  ---------\n",
      "2016-12-16 15:04:16.814723 PST | Epoch #10 | Training started\n",
      "2016-12-16 15:04:47.777746 PST | Epoch #10 | Training finished. Time: 30.961166858673096\n",
      "2016-12-16 15:04:47.780071 PST | Epoch #10 | Collecting samples for evaluation\n"
     ]
    },
    {
     "name": "stderr",
     "output_type": "stream",
     "text": [
      "0%                          100%\n",
      "[##############################] | ETA: 00:00:00\n",
      "Total time elapsed: 00:00:34\n"
     ]
    },
    {
     "name": "stdout",
     "output_type": "stream",
     "text": [
      "2016-12-16 15:05:59.984500 PST | Epoch #10 | Eval time: 72.20453691482544\n",
      "2016-12-16 15:05:59.989924 PST | ---------------------  ----------\n",
      "2016-12-16 15:05:59.991723 PST | Epoch                   10\n",
      "2016-12-16 15:05:59.993346 PST | AverageReturn           82.4488\n",
      "2016-12-16 15:05:59.995852 PST | QfLoss                  34.104\n",
      "2016-12-16 15:05:59.998021 PST | YsMean                  36.7775\n",
      "2016-12-16 15:05:59.999607 PST | YsStd                   18.4941\n",
      "2016-12-16 15:06:00.002332 PST | YsMax                   57.9662\n",
      "2016-12-16 15:06:00.004359 PST | YsMin                    0\n",
      "2016-12-16 15:06:00.006821 PST | QfOutputMean            33.8665\n",
      "2016-12-16 15:06:00.009234 PST | QfOutputStd             15.7577\n",
      "2016-12-16 15:06:00.012003 PST | QfOutputMax             51.5453\n",
      "2016-12-16 15:06:00.013703 PST | QfOutputMin              0.897776\n",
      "2016-12-16 15:06:00.016322 PST | TargetVfOutputMean      33.351\n",
      "2016-12-16 15:06:00.017603 PST | TargetVfOutputStd       14.4262\n",
      "2016-12-16 15:06:00.019002 PST | TargetVfOutputMax       48.4541\n",
      "2016-12-16 15:06:00.021284 PST | TargetVfOutputMin        2.35786\n",
      "2016-12-16 15:06:00.023070 PST | RewardsMean              8.91338\n",
      "2016-12-16 15:06:00.025750 PST | RewardsStd               3.10325\n",
      "2016-12-16 15:06:00.027268 PST | RewardsMax              10\n",
      "2016-12-16 15:06:00.029219 PST | RewardsMin               0\n",
      "2016-12-16 15:06:00.031064 PST | ReturnsMean             82.4488\n",
      "2016-12-16 15:06:00.032736 PST | ReturnsStd              60.8427\n",
      "2016-12-16 15:06:00.036203 PST | ReturnsMax             249.95\n",
      "2016-12-16 15:06:00.037877 PST | ReturnsMin              29.9528\n",
      "2016-12-16 15:06:00.039622 PST | DiscountedReturnsMean   77.8536\n",
      "2016-12-16 15:06:00.042056 PST | DiscountedReturnsStd    53.8127\n",
      "2016-12-16 15:06:00.044352 PST | DiscountedReturnsMax   222.139\n",
      "2016-12-16 15:06:00.045739 PST | DiscountedReturnsMin    29.6543\n",
      "2016-12-16 15:06:00.047416 PST | PolicyOutputMean         0\n",
      "2016-12-16 15:06:00.048950 PST | PolicyOutputStd          0\n",
      "2016-12-16 15:06:00.050965 PST | PolicyOutputMax          0\n",
      "2016-12-16 15:06:00.052884 PST | PolicyOutputMin          0\n",
      "2016-12-16 15:06:00.054315 PST | TrainingReturnsMean     61.3862\n",
      "2016-12-16 15:06:00.055666 PST | TrainingReturnsStd      22.9164\n",
      "2016-12-16 15:06:00.057014 PST | TrainingReturnsMax     109.898\n",
      "2016-12-16 15:06:00.058391 PST | TrainingReturnsMin      29.9639\n",
      "2016-12-16 15:06:00.059717 PST | ---------------------  ----------\n",
      "2016-12-16 15:06:00.060993 PST | Epoch #11 | Training started\n",
      "2016-12-16 15:06:39.369471 PST | Epoch #11 | Training finished. Time: 39.30711603164673\n",
      "2016-12-16 15:06:39.372929 PST | Epoch #11 | Collecting samples for evaluation\n"
     ]
    },
    {
     "name": "stderr",
     "output_type": "stream",
     "text": [
      "0%                          100%\n",
      "[##############################] | ETA: 00:00:00\n",
      "Total time elapsed: 00:00:30\n"
     ]
    },
    {
     "name": "stdout",
     "output_type": "stream",
     "text": [
      "2016-12-16 15:07:34.209257 PST | Epoch #11 | Eval time: 54.8363299369812\n",
      "2016-12-16 15:07:34.212018 PST | ---------------------  ----------\n",
      "2016-12-16 15:07:34.213346 PST | Epoch                   11\n",
      "2016-12-16 15:07:34.215063 PST | AverageReturn           89.9515\n",
      "2016-12-16 15:07:34.216338 PST | QfLoss                  21.3873\n",
      "2016-12-16 15:07:34.217865 PST | YsMean                  37.1807\n",
      "2016-12-16 15:07:34.218911 PST | YsStd                   18.8698\n",
      "2016-12-16 15:07:34.220714 PST | YsMax                   60.2397\n",
      "2016-12-16 15:07:34.222389 PST | YsMin                    0\n",
      "2016-12-16 15:07:34.224177 PST | QfOutputMean            34.4917\n",
      "2016-12-16 15:07:34.225727 PST | QfOutputStd             16.2906\n",
      "2016-12-16 15:07:34.227798 PST | QfOutputMax             53.5883\n",
      "2016-12-16 15:07:34.229159 PST | QfOutputMin             -0.790391\n",
      "2016-12-16 15:07:34.230730 PST | TargetVfOutputMean      33.5548\n",
      "2016-12-16 15:07:34.232136 PST | TargetVfOutputStd       15.4812\n",
      "2016-12-16 15:07:34.233585 PST | TargetVfOutputMax       50.8453\n",
      "2016-12-16 15:07:34.235020 PST | TargetVfOutputMin       -0.222521\n",
      "2016-12-16 15:07:34.236484 PST | RewardsMean              8.99515\n",
      "2016-12-16 15:07:34.239376 PST | RewardsStd               2.99839\n",
      "2016-12-16 15:07:34.241298 PST | RewardsMax              10\n",
      "2016-12-16 15:07:34.243212 PST | RewardsMin               0\n",
      "2016-12-16 15:07:34.244617 PST | ReturnsMean             89.9515\n",
      "2016-12-16 15:07:34.245704 PST | ReturnsStd              53.2916\n",
      "2016-12-16 15:07:34.246927 PST | ReturnsMax             229.95\n",
      "2016-12-16 15:07:34.248173 PST | ReturnsMin              39.9543\n",
      "2016-12-16 15:07:34.249537 PST | DiscountedReturnsMean   85.1638\n",
      "2016-12-16 15:07:34.251031 PST | DiscountedReturnsStd    46.9121\n",
      "2016-12-16 15:07:34.252279 PST | DiscountedReturnsMax   206.345\n",
      "2016-12-16 15:07:34.253514 PST | DiscountedReturnsMin    39.3592\n",
      "2016-12-16 15:07:34.254796 PST | PolicyOutputMean         0\n",
      "2016-12-16 15:07:34.256032 PST | PolicyOutputStd          0\n",
      "2016-12-16 15:07:34.257053 PST | PolicyOutputMax          0\n",
      "2016-12-16 15:07:34.258124 PST | PolicyOutputMin          0\n",
      "2016-12-16 15:07:34.259844 PST | TrainingReturnsMean     58.6332\n",
      "2016-12-16 15:07:34.260785 PST | TrainingReturnsStd      41.2746\n",
      "2016-12-16 15:07:34.261952 PST | TrainingReturnsMax     129.947\n",
      "2016-12-16 15:07:34.263113 PST | TrainingReturnsMin       9.98477\n",
      "2016-12-16 15:07:34.264230 PST | ---------------------  ----------\n",
      "2016-12-16 15:07:34.265384 PST | Epoch #12 | Training started\n",
      "2016-12-16 15:08:10.203773 PST | Epoch #12 | Training finished. Time: 35.93705081939697\n",
      "2016-12-16 15:08:10.205566 PST | Epoch #12 | Collecting samples for evaluation\n"
     ]
    },
    {
     "name": "stderr",
     "output_type": "stream",
     "text": [
      "0%                          100%\n",
      "[##############################] | ETA: 00:00:00\n",
      "Total time elapsed: 00:00:28\n"
     ]
    },
    {
     "name": "stdout",
     "output_type": "stream",
     "text": [
      "2016-12-16 15:09:13.376084 PST | Epoch #12 | Eval time: 63.170511960983276\n",
      "2016-12-16 15:09:13.380229 PST | ---------------------  ---------\n",
      "2016-12-16 15:09:13.382031 PST | Epoch                   12\n",
      "2016-12-16 15:09:13.384228 PST | AverageReturn           89.9461\n",
      "2016-12-16 15:09:13.385504 PST | QfLoss                  35.8981\n",
      "2016-12-16 15:09:13.388494 PST | YsMean                  40.4378\n",
      "2016-12-16 15:09:13.390370 PST | YsStd                   20.6824\n",
      "2016-12-16 15:09:13.392486 PST | YsMax                   64.1902\n",
      "2016-12-16 15:09:13.395173 PST | YsMin                    0\n",
      "2016-12-16 15:09:13.397389 PST | QfOutputMean            37.3627\n",
      "2016-12-16 15:09:13.398862 PST | QfOutputStd             17.5538\n",
      "2016-12-16 15:09:13.400333 PST | QfOutputMax             56.1601\n",
      "2016-12-16 15:09:13.403134 PST | QfOutputMin             -2.11883\n",
      "2016-12-16 15:09:13.404787 PST | TargetVfOutputMean      37.0566\n",
      "2016-12-16 15:09:13.406921 PST | TargetVfOutputStd       16.7038\n",
      "2016-12-16 15:09:13.408578 PST | TargetVfOutputMax       54.7432\n",
      "2016-12-16 15:09:13.410232 PST | TargetVfOutputMin       -1.30606\n",
      "2016-12-16 15:09:13.413053 PST | RewardsMean              8.99461\n",
      "2016-12-16 15:09:13.414884 PST | RewardsStd               2.99821\n",
      "2016-12-16 15:09:13.416729 PST | RewardsMax              10\n",
      "2016-12-16 15:09:13.419174 PST | RewardsMin               0\n",
      "2016-12-16 15:09:13.420606 PST | ReturnsMean             89.9461\n",
      "2016-12-16 15:09:13.422978 PST | ReturnsStd              57.2701\n",
      "2016-12-16 15:09:13.424493 PST | ReturnsMax             199.945\n",
      "2016-12-16 15:09:13.425897 PST | ReturnsMin              29.9579\n",
      "2016-12-16 15:09:13.427329 PST | DiscountedReturnsMean   84.9448\n",
      "2016-12-16 15:09:13.428635 PST | DiscountedReturnsStd    51.2558\n",
      "2016-12-16 15:09:13.430369 PST | DiscountedReturnsMax   182.047\n",
      "2016-12-16 15:09:13.431892 PST | DiscountedReturnsMin    29.6594\n",
      "2016-12-16 15:09:13.433163 PST | PolicyOutputMean         0\n",
      "2016-12-16 15:09:13.435275 PST | PolicyOutputStd          0\n",
      "2016-12-16 15:09:13.437311 PST | PolicyOutputMax          0\n",
      "2016-12-16 15:09:13.438736 PST | PolicyOutputMin          0\n",
      "2016-12-16 15:09:13.441771 PST | TrainingReturnsMean     57.824\n",
      "2016-12-16 15:09:13.443331 PST | TrainingReturnsStd      27.2911\n",
      "2016-12-16 15:09:13.445794 PST | TrainingReturnsMax     119.926\n",
      "2016-12-16 15:09:13.447951 PST | TrainingReturnsMin      29.957\n",
      "2016-12-16 15:09:13.449554 PST | ---------------------  ---------\n",
      "2016-12-16 15:09:13.452333 PST | Epoch #13 | Training started\n",
      "2016-12-16 15:09:51.342631 PST | Epoch #13 | Training finished. Time: 37.88756203651428\n",
      "2016-12-16 15:09:51.343979 PST | Epoch #13 | Collecting samples for evaluation\n"
     ]
    },
    {
     "name": "stderr",
     "output_type": "stream",
     "text": [
      "0%                          100%\n",
      "[##############################] | ETA: 00:00:00\n",
      "Total time elapsed: 00:00:44\n"
     ]
    },
    {
     "name": "stdout",
     "output_type": "stream",
     "text": [
      "2016-12-16 15:11:24.699228 PST | Epoch #13 | Eval time: 93.35523414611816\n",
      "2016-12-16 15:11:24.701613 PST | ---------------------  ----------\n",
      "2016-12-16 15:11:24.703024 PST | Epoch                   13\n",
      "2016-12-16 15:11:24.707088 PST | AverageReturn          114.952\n",
      "2016-12-16 15:11:24.710099 PST | QfLoss                  29.3562\n",
      "2016-12-16 15:11:24.713069 PST | YsMean                  43.3133\n",
      "2016-12-16 15:11:24.714704 PST | YsStd                   20.6388\n",
      "2016-12-16 15:11:24.716242 PST | YsMax                   64.0574\n",
      "2016-12-16 15:11:24.719483 PST | YsMin                    0\n",
      "2016-12-16 15:11:24.721967 PST | QfOutputMean            39.9078\n",
      "2016-12-16 15:11:24.724961 PST | QfOutputStd             18.4138\n",
      "2016-12-16 15:11:24.726927 PST | QfOutputMax             57.5127\n",
      "2016-12-16 15:11:24.729558 PST | QfOutputMin             -1.38705\n",
      "2016-12-16 15:11:24.732502 PST | TargetVfOutputMean      38.8219\n",
      "2016-12-16 15:11:24.733893 PST | TargetVfOutputStd       17.0113\n",
      "2016-12-16 15:11:24.736286 PST | TargetVfOutputMax       54.6051\n",
      "2016-12-16 15:11:24.740172 PST | TargetVfOutputMin       -0.185157\n",
      "2016-12-16 15:11:24.744030 PST | RewardsMean              9.19614\n",
      "2016-12-16 15:11:24.745735 PST | RewardsStd               2.7118\n",
      "2016-12-16 15:11:24.747374 PST | RewardsMax              10\n",
      "2016-12-16 15:11:24.749828 PST | RewardsMin               0\n",
      "2016-12-16 15:11:24.753341 PST | ReturnsMean            114.952\n",
      "2016-12-16 15:11:24.755817 PST | ReturnsStd              80.8975\n",
      "2016-12-16 15:11:24.758656 PST | ReturnsMax             279.954\n",
      "2016-12-16 15:11:24.761338 PST | ReturnsMin              29.9563\n",
      "2016-12-16 15:11:24.763697 PST | DiscountedReturnsMean  106.219\n",
      "2016-12-16 15:11:24.766099 PST | DiscountedReturnsStd    70.3886\n",
      "2016-12-16 15:11:24.768305 PST | DiscountedReturnsMax   245.245\n",
      "2016-12-16 15:11:24.771076 PST | DiscountedReturnsMin    29.6578\n",
      "2016-12-16 15:11:24.774061 PST | PolicyOutputMean         0\n",
      "2016-12-16 15:11:24.776344 PST | PolicyOutputStd          0\n",
      "2016-12-16 15:11:24.778503 PST | PolicyOutputMax          0\n",
      "2016-12-16 15:11:24.780516 PST | PolicyOutputMin          0\n",
      "2016-12-16 15:11:24.783729 PST | TrainingReturnsMean     61.3914\n",
      "2016-12-16 15:11:24.786367 PST | TrainingReturnsStd      31.586\n",
      "2016-12-16 15:11:24.828038 PST | TrainingReturnsMax     139.966\n",
      "2016-12-16 15:11:24.830339 PST | TrainingReturnsMin      19.9682\n",
      "2016-12-16 15:11:24.832933 PST | ---------------------  ----------\n",
      "2016-12-16 15:11:24.847045 PST | Epoch #14 | Training started\n",
      "2016-12-16 15:12:04.933292 PST | Epoch #14 | Training finished. Time: 40.07957100868225\n",
      "2016-12-16 15:12:04.934395 PST | Epoch #14 | Collecting samples for evaluation\n"
     ]
    },
    {
     "name": "stderr",
     "output_type": "stream",
     "text": [
      "0%                          100%\n",
      "[##############################] | ETA: 00:00:00\n",
      "Total time elapsed: 00:00:44\n"
     ]
    },
    {
     "name": "stdout",
     "output_type": "stream",
     "text": [
      "2016-12-16 15:13:26.851048 PST | Epoch #14 | Eval time: 81.91663885116577\n",
      "2016-12-16 15:13:26.861488 PST | ---------------------  ---------\n",
      "2016-12-16 15:13:26.876279 PST | Epoch                   14\n",
      "2016-12-16 15:13:26.879004 PST | AverageReturn           80.7812\n",
      "2016-12-16 15:13:26.881652 PST | QfLoss                  37.089\n",
      "2016-12-16 15:13:26.884582 PST | YsMean                  39.812\n",
      "2016-12-16 15:13:26.889873 PST | YsStd                   21.7521\n",
      "2016-12-16 15:13:26.892804 PST | YsMax                   68.0921\n",
      "2016-12-16 15:13:26.894347 PST | YsMin                    0\n",
      "2016-12-16 15:13:26.898636 PST | QfOutputMean            37.7033\n",
      "2016-12-16 15:13:26.902286 PST | QfOutputStd             18.5507\n",
      "2016-12-16 15:13:26.906955 PST | QfOutputMax             60.4146\n",
      "2016-12-16 15:13:26.910784 PST | QfOutputMin             -2.79029\n",
      "2016-12-16 15:13:26.914055 PST | TargetVfOutputMean      37.3824\n",
      "2016-12-16 15:13:26.917015 PST | TargetVfOutputStd       18.0238\n",
      "2016-12-16 15:13:26.920628 PST | TargetVfOutputMax       58.6869\n",
      "2016-12-16 15:13:26.923232 PST | TargetVfOutputMin       -2.33175\n",
      "2016-12-16 15:13:26.925668 PST | RewardsMean              8.89335\n",
      "2016-12-16 15:13:26.929316 PST | RewardsStd               3.12803\n",
      "2016-12-16 15:13:26.932300 PST | RewardsMax              10\n",
      "2016-12-16 15:13:26.933689 PST | RewardsMin               0\n",
      "2016-12-16 15:13:26.936116 PST | ReturnsMean             80.7812\n",
      "2016-12-16 15:13:26.938983 PST | ReturnsStd              50.4055\n",
      "2016-12-16 15:13:26.943794 PST | ReturnsMax             179.939\n",
      "2016-12-16 15:13:26.946513 PST | ReturnsMin              19.9678\n",
      "2016-12-16 15:13:26.957367 PST | DiscountedReturnsMean   76.8095\n",
      "2016-12-16 15:13:26.959348 PST | DiscountedReturnsStd    45.8904\n",
      "2016-12-16 15:13:26.962721 PST | DiscountedReturnsMax   165.433\n",
      "2016-12-16 15:13:26.964000 PST | DiscountedReturnsMin    19.8679\n",
      "2016-12-16 15:13:26.965155 PST | PolicyOutputMean         0\n",
      "2016-12-16 15:13:26.966441 PST | PolicyOutputStd          0\n",
      "2016-12-16 15:13:26.968056 PST | PolicyOutputMax          0\n",
      "2016-12-16 15:13:26.969357 PST | PolicyOutputMin          0\n",
      "2016-12-16 15:13:26.970982 PST | TrainingReturnsMean     90.9492\n",
      "2016-12-16 15:13:26.972394 PST | TrainingReturnsStd      52.2241\n",
      "2016-12-16 15:13:26.973927 PST | TrainingReturnsMax     209.946\n",
      "2016-12-16 15:13:26.975866 PST | TrainingReturnsMin      19.9795\n",
      "2016-12-16 15:13:26.978395 PST | ---------------------  ---------\n",
      "2016-12-16 15:13:26.980202 PST | Epoch #15 | Training started\n",
      "2016-12-16 15:14:11.347337 PST | Epoch #15 | Training finished. Time: 44.36548590660095\n",
      "2016-12-16 15:14:11.351415 PST | Epoch #15 | Collecting samples for evaluation\n"
     ]
    },
    {
     "name": "stderr",
     "output_type": "stream",
     "text": [
      "0%                          100%\n",
      "[##############################] | ETA: 00:00:00\n",
      "Total time elapsed: 00:00:42\n"
     ]
    },
    {
     "name": "stdout",
     "output_type": "stream",
     "text": [
      "2016-12-16 15:15:35.357726 PST | Epoch #15 | Eval time: 84.00633382797241\n",
      "2016-12-16 15:15:35.362487 PST | ---------------------  ---------\n",
      "2016-12-16 15:15:35.365063 PST | Epoch                   15\n",
      "2016-12-16 15:15:35.367877 PST | AverageReturn           70.7128\n",
      "2016-12-16 15:15:35.369337 PST | QfLoss                  21.5159\n",
      "2016-12-16 15:15:35.371663 PST | YsMean                  36.3392\n",
      "2016-12-16 15:15:35.373064 PST | YsStd                   22.2178\n",
      "2016-12-16 15:15:35.374523 PST | YsMax                   69.1085\n",
      "2016-12-16 15:15:35.376046 PST | YsMin                    0\n",
      "2016-12-16 15:15:35.377926 PST | QfOutputMean            36.4565\n",
      "2016-12-16 15:15:35.380263 PST | QfOutputStd             19.9588\n",
      "2016-12-16 15:15:35.381907 PST | QfOutputMax             62.3344\n",
      "2016-12-16 15:15:35.383755 PST | QfOutputMin             -2.03294\n",
      "2016-12-16 15:15:35.385193 PST | TargetVfOutputMean      34.8949\n",
      "2016-12-16 15:15:35.387901 PST | TargetVfOutputStd       19.5164\n",
      "2016-12-16 15:15:35.389289 PST | TargetVfOutputMax       59.7159\n",
      "2016-12-16 15:15:35.391089 PST | TargetVfOutputMin       -2.48362\n",
      "2016-12-16 15:15:35.392602 PST | RewardsMean              8.75492\n",
      "2016-12-16 15:15:35.394284 PST | RewardsStd               3.29102\n",
      "2016-12-16 15:15:35.395814 PST | RewardsMax              10\n",
      "2016-12-16 15:15:35.398436 PST | RewardsMin               0\n",
      "2016-12-16 15:15:35.400002 PST | ReturnsMean             70.7128\n",
      "2016-12-16 15:15:35.402524 PST | ReturnsStd              31.7315\n",
      "2016-12-16 15:15:35.404188 PST | ReturnsMax             129.944\n",
      "2016-12-16 15:15:35.405665 PST | ReturnsMin              29.9528\n",
      "2016-12-16 15:15:35.407831 PST | DiscountedReturnsMean   68.1293\n",
      "2016-12-16 15:15:35.409387 PST | DiscountedReturnsStd    29.5103\n",
      "2016-12-16 15:15:35.410798 PST | DiscountedReturnsMax   122.428\n",
      "2016-12-16 15:15:35.413618 PST | DiscountedReturnsMin    29.6544\n",
      "2016-12-16 15:15:35.415511 PST | PolicyOutputMean         0\n",
      "2016-12-16 15:15:35.417198 PST | PolicyOutputStd          0\n",
      "2016-12-16 15:15:35.419766 PST | PolicyOutputMax          0\n",
      "2016-12-16 15:15:35.421260 PST | PolicyOutputMin          0\n",
      "2016-12-16 15:15:35.422940 PST | TrainingReturnsMean     75.7942\n",
      "2016-12-16 15:15:35.424324 PST | TrainingReturnsStd      39.6682\n",
      "2016-12-16 15:15:35.426204 PST | TrainingReturnsMax     189.959\n",
      "2016-12-16 15:15:35.427590 PST | TrainingReturnsMin      39.9683\n",
      "2016-12-16 15:15:35.428936 PST | ---------------------  ---------\n",
      "2016-12-16 15:15:35.431304 PST | Epoch #16 | Training started\n",
      "2016-12-16 15:16:14.516322 PST | Epoch #16 | Training finished. Time: 39.0826940536499\n",
      "2016-12-16 15:16:14.517381 PST | Epoch #16 | Collecting samples for evaluation\n"
     ]
    },
    {
     "name": "stderr",
     "output_type": "stream",
     "text": [
      "0%                          100%\n",
      "[##############################] | ETA: 00:00:00\n",
      "Total time elapsed: 00:00:40\n"
     ]
    },
    {
     "name": "stdout",
     "output_type": "stream",
     "text": [
      "2016-12-16 15:17:33.118454 PST | Epoch #16 | Eval time: 78.6010639667511\n",
      "2016-12-16 15:17:33.120876 PST | ---------------------  ---------\n",
      "2016-12-16 15:17:33.122216 PST | Epoch                   16\n",
      "2016-12-16 15:17:33.123907 PST | AverageReturn           80.7795\n",
      "2016-12-16 15:17:33.125938 PST | QfLoss                  28.6192\n",
      "2016-12-16 15:17:33.127618 PST | YsMean                  39.8979\n",
      "2016-12-16 15:17:33.130140 PST | YsStd                   23.1119\n",
      "2016-12-16 15:17:33.131814 PST | YsMax                   68.5418\n",
      "2016-12-16 15:17:33.134308 PST | YsMin                    0\n",
      "2016-12-16 15:17:33.135909 PST | QfOutputMean            37.9922\n",
      "2016-12-16 15:17:33.137769 PST | QfOutputStd             20.2357\n",
      "2016-12-16 15:17:33.139356 PST | QfOutputMax             60.766\n",
      "2016-12-16 15:17:33.142188 PST | QfOutputMin             -4.92593\n",
      "2016-12-16 15:17:33.145410 PST | TargetVfOutputMean      37.6773\n",
      "2016-12-16 15:17:33.147610 PST | TargetVfOutputStd       19.8452\n",
      "2016-12-16 15:17:33.149105 PST | TargetVfOutputMax       59.134\n",
      "2016-12-16 15:17:33.151476 PST | TargetVfOutputMin       -4.17103\n",
      "2016-12-16 15:17:33.153136 PST | RewardsMean              8.89315\n",
      "2016-12-16 15:17:33.155429 PST | RewardsStd               3.12796\n",
      "2016-12-16 15:17:33.157271 PST | RewardsMax               9.99978\n",
      "2016-12-16 15:17:33.158836 PST | RewardsMin               0\n",
      "2016-12-16 15:17:33.160629 PST | ReturnsMean             80.7795\n",
      "2016-12-16 15:17:33.162783 PST | ReturnsStd              39.0382\n",
      "2016-12-16 15:17:33.164451 PST | ReturnsMax             169.944\n",
      "2016-12-16 15:17:33.165982 PST | ReturnsMin              19.9684\n",
      "2016-12-16 15:17:33.168854 PST | DiscountedReturnsMean   77.272\n",
      "2016-12-16 15:17:33.170475 PST | DiscountedReturnsStd    35.8045\n",
      "2016-12-16 15:17:33.172142 PST | DiscountedReturnsMax   157.007\n",
      "2016-12-16 15:17:33.174335 PST | DiscountedReturnsMin    19.8686\n",
      "2016-12-16 15:17:33.175982 PST | PolicyOutputMean         0\n",
      "2016-12-16 15:17:33.177918 PST | PolicyOutputStd          0\n",
      "2016-12-16 15:17:33.180374 PST | PolicyOutputMax          0\n",
      "2016-12-16 15:17:33.181785 PST | PolicyOutputMin          0\n",
      "2016-12-16 15:17:33.183205 PST | TrainingReturnsMean     55.9563\n",
      "2016-12-16 15:17:33.184804 PST | TrainingReturnsStd      41.2523\n",
      "2016-12-16 15:17:33.186658 PST | TrainingReturnsMax     179.859\n",
      "2016-12-16 15:17:33.188266 PST | TrainingReturnsMin       9.98151\n",
      "2016-12-16 15:17:33.189835 PST | ---------------------  ---------\n",
      "2016-12-16 15:17:33.192279 PST | Epoch #17 | Training started\n",
      "2016-12-16 15:18:07.422997 PST | Epoch #17 | Training finished. Time: 34.22903800010681\n",
      "2016-12-16 15:18:07.424503 PST | Epoch #17 | Collecting samples for evaluation\n"
     ]
    },
    {
     "name": "stderr",
     "output_type": "stream",
     "text": [
      "0%                          100%\n",
      "[##############################] | ETA: 00:00:00\n",
      "Total time elapsed: 00:00:37\n"
     ]
    },
    {
     "name": "stdout",
     "output_type": "stream",
     "text": [
      "2016-12-16 15:19:27.387859 PST | Epoch #17 | Eval time: 79.96335005760193\n",
      "2016-12-16 15:19:27.390767 PST | ---------------------  ---------\n",
      "2016-12-16 15:19:27.393820 PST | Epoch                   17\n",
      "2016-12-16 15:19:27.396865 PST | AverageReturn           91.946\n",
      "2016-12-16 15:19:27.398838 PST | QfLoss                  50.4195\n",
      "2016-12-16 15:19:27.401705 PST | YsMean                  44.8098\n",
      "2016-12-16 15:19:27.403025 PST | YsStd                   23.1641\n",
      "2016-12-16 15:19:27.404840 PST | YsMax                   69.1925\n",
      "2016-12-16 15:19:27.407494 PST | YsMin                    0\n",
      "2016-12-16 15:19:27.409437 PST | QfOutputMean            41.1257\n",
      "2016-12-16 15:19:27.411256 PST | QfOutputStd             18.8797\n",
      "2016-12-16 15:19:27.414613 PST | QfOutputMax             59.3209\n",
      "2016-12-16 15:19:27.420913 PST | QfOutputMin             -2.69206\n",
      "2016-12-16 15:19:27.425342 PST | TargetVfOutputMean      41.9041\n",
      "2016-12-16 15:19:27.429123 PST | TargetVfOutputStd       18.8416\n",
      "2016-12-16 15:19:27.430787 PST | TargetVfOutputMax       59.7957\n",
      "2016-12-16 15:19:27.432595 PST | TargetVfOutputMin       -2.76976\n",
      "2016-12-16 15:19:27.436332 PST | RewardsMean              9.01431\n",
      "2016-12-16 15:19:27.438984 PST | RewardsStd               2.97193\n",
      "2016-12-16 15:19:27.440730 PST | RewardsMax              10\n",
      "2016-12-16 15:19:27.442188 PST | RewardsMin               0\n",
      "2016-12-16 15:19:27.444433 PST | ReturnsMean             91.946\n",
      "2016-12-16 15:19:27.446624 PST | ReturnsStd              66.9001\n",
      "2016-12-16 15:19:27.448097 PST | ReturnsMax             269.946\n",
      "2016-12-16 15:19:27.450789 PST | ReturnsMin              19.9727\n",
      "2016-12-16 15:19:27.453195 PST | DiscountedReturnsMean   86.2767\n",
      "2016-12-16 15:19:27.454956 PST | DiscountedReturnsStd    58.224\n",
      "2016-12-16 15:19:27.456505 PST | DiscountedReturnsMax   237.613\n",
      "2016-12-16 15:19:27.458087 PST | DiscountedReturnsMin    19.8728\n",
      "2016-12-16 15:19:27.460236 PST | PolicyOutputMean         0\n",
      "2016-12-16 15:19:27.462490 PST | PolicyOutputStd          0\n",
      "2016-12-16 15:19:27.464172 PST | PolicyOutputMax          0\n",
      "2016-12-16 15:19:27.466523 PST | PolicyOutputMin          0\n",
      "2016-12-16 15:19:27.468718 PST | TrainingReturnsMean     65.3461\n",
      "2016-12-16 15:19:27.470759 PST | TrainingReturnsStd      39.9197\n",
      "2016-12-16 15:19:27.472401 PST | TrainingReturnsMax     179.926\n",
      "2016-12-16 15:19:27.474466 PST | TrainingReturnsMin      29.9539\n",
      "2016-12-16 15:19:27.476388 PST | ---------------------  ---------\n",
      "2016-12-16 15:19:27.478800 PST | Epoch #18 | Training started\n",
      "2016-12-16 15:20:13.910999 PST | Epoch #18 | Training finished. Time: 46.43065690994263\n",
      "2016-12-16 15:20:13.912701 PST | Epoch #18 | Collecting samples for evaluation\n"
     ]
    },
    {
     "name": "stderr",
     "output_type": "stream",
     "text": [
      "0%                          100%\n",
      "[#########                     ] | ETA: 00:00:31"
     ]
    },
    {
     "ename": "KeyboardInterrupt",
     "evalue": "",
     "output_type": "error",
     "traceback": [
      "\u001b[0;31m---------------------------------------------------------------------------\u001b[0m",
      "\u001b[0;31mKeyboardInterrupt\u001b[0m                         Traceback (most recent call last)",
      "\u001b[0;32m<ipython-input-8-0ed6a1a5ed49>\u001b[0m in \u001b[0;36m<module>\u001b[0;34m()\u001b[0m\n\u001b[0;32m----> 1\u001b[0;31m \u001b[0malgorithm\u001b[0m\u001b[0;34m.\u001b[0m\u001b[0mtrain\u001b[0m\u001b[0;34m(\u001b[0m\u001b[0;34m)\u001b[0m\u001b[0;34m\u001b[0m\u001b[0m\n\u001b[0m",
      "\u001b[0;32m/Users/vitchyr/git/rail-rl/algos/online_algorithm.py\u001b[0m in \u001b[0;36mtrain\u001b[0;34m(self)\u001b[0m\n\u001b[1;32m    173\u001b[0m                     \u001b[0mstart_time\u001b[0m \u001b[0;34m=\u001b[0m \u001b[0mtime\u001b[0m\u001b[0;34m.\u001b[0m\u001b[0mtime\u001b[0m\u001b[0;34m(\u001b[0m\u001b[0;34m)\u001b[0m\u001b[0;34m\u001b[0m\u001b[0m\n\u001b[1;32m    174\u001b[0m                     \u001b[0;32mif\u001b[0m \u001b[0mself\u001b[0m\u001b[0;34m.\u001b[0m\u001b[0mn_eval_samples\u001b[0m \u001b[0;34m>\u001b[0m \u001b[0;36m0\u001b[0m\u001b[0;34m:\u001b[0m\u001b[0;34m\u001b[0m\u001b[0m\n\u001b[0;32m--> 175\u001b[0;31m                         \u001b[0mself\u001b[0m\u001b[0;34m.\u001b[0m\u001b[0mevaluate\u001b[0m\u001b[0;34m(\u001b[0m\u001b[0mepoch\u001b[0m\u001b[0;34m,\u001b[0m \u001b[0mself\u001b[0m\u001b[0;34m.\u001b[0m\u001b[0mes_path_returns\u001b[0m\u001b[0;34m)\u001b[0m\u001b[0;34m\u001b[0m\u001b[0m\n\u001b[0m\u001b[1;32m    176\u001b[0m                         \u001b[0mself\u001b[0m\u001b[0;34m.\u001b[0m\u001b[0mes_path_returns\u001b[0m \u001b[0;34m=\u001b[0m \u001b[0;34m[\u001b[0m\u001b[0;34m]\u001b[0m\u001b[0;34m\u001b[0m\u001b[0m\n\u001b[1;32m    177\u001b[0m                     \u001b[0mparams\u001b[0m \u001b[0;34m=\u001b[0m \u001b[0mself\u001b[0m\u001b[0;34m.\u001b[0m\u001b[0mget_epoch_snapshot\u001b[0m\u001b[0;34m(\u001b[0m\u001b[0mepoch\u001b[0m\u001b[0;34m)\u001b[0m\u001b[0;34m\u001b[0m\u001b[0m\n",
      "\u001b[0;32m/Users/vitchyr/git/rail-rl/algos/convex_naf.py\u001b[0m in \u001b[0;36mevaluate\u001b[0;34m(self, epoch, es_path_returns)\u001b[0m\n\u001b[1;32m     42\u001b[0m         paths = self.eval_sampler.obtain_samples(\n\u001b[1;32m     43\u001b[0m             \u001b[0mitr\u001b[0m\u001b[0;34m=\u001b[0m\u001b[0mepoch\u001b[0m\u001b[0;34m,\u001b[0m\u001b[0;34m\u001b[0m\u001b[0m\n\u001b[0;32m---> 44\u001b[0;31m             \u001b[0mbatch_size\u001b[0m\u001b[0;34m=\u001b[0m\u001b[0mself\u001b[0m\u001b[0;34m.\u001b[0m\u001b[0mn_eval_samples\u001b[0m\u001b[0;34m,\u001b[0m\u001b[0;34m\u001b[0m\u001b[0m\n\u001b[0m\u001b[1;32m     45\u001b[0m         )\n\u001b[1;32m     46\u001b[0m         \u001b[0mself\u001b[0m\u001b[0;34m.\u001b[0m\u001b[0mlog_diagnostics\u001b[0m\u001b[0;34m(\u001b[0m\u001b[0mpaths\u001b[0m\u001b[0;34m)\u001b[0m\u001b[0;34m\u001b[0m\u001b[0m\n",
      "\u001b[0;32m/Users/vitchyr/git/rllab-private/sandbox/rocky/tf/samplers/batch_sampler.py\u001b[0m in \u001b[0;36mobtain_samples\u001b[0;34m(self, itr, batch_size)\u001b[0m\n\u001b[1;32m     37\u001b[0m             \u001b[0mmax_samples\u001b[0m\u001b[0;34m=\u001b[0m\u001b[0mbatch_size\u001b[0m\u001b[0;34m,\u001b[0m\u001b[0;34m\u001b[0m\u001b[0m\n\u001b[1;32m     38\u001b[0m             \u001b[0mmax_path_length\u001b[0m\u001b[0;34m=\u001b[0m\u001b[0mself\u001b[0m\u001b[0;34m.\u001b[0m\u001b[0malgo\u001b[0m\u001b[0;34m.\u001b[0m\u001b[0mmax_path_length\u001b[0m\u001b[0;34m,\u001b[0m\u001b[0;34m\u001b[0m\u001b[0m\n\u001b[0;32m---> 39\u001b[0;31m             \u001b[0mscope\u001b[0m\u001b[0;34m=\u001b[0m\u001b[0mself\u001b[0m\u001b[0;34m.\u001b[0m\u001b[0malgo\u001b[0m\u001b[0;34m.\u001b[0m\u001b[0mscope\u001b[0m\u001b[0;34m,\u001b[0m\u001b[0;34m\u001b[0m\u001b[0m\n\u001b[0m\u001b[1;32m     40\u001b[0m         )\n\u001b[1;32m     41\u001b[0m         \u001b[0;32mif\u001b[0m \u001b[0mself\u001b[0m\u001b[0;34m.\u001b[0m\u001b[0malgo\u001b[0m\u001b[0;34m.\u001b[0m\u001b[0mwhole_paths\u001b[0m\u001b[0;34m:\u001b[0m\u001b[0;34m\u001b[0m\u001b[0m\n",
      "\u001b[0;32m/Users/vitchyr/git/rllab-private/rllab/sampler/parallel_sampler.py\u001b[0m in \u001b[0;36msample_paths\u001b[0;34m(policy_params, max_samples, max_path_length, env_params, scope)\u001b[0m\n\u001b[1;32m    123\u001b[0m         \u001b[0mthreshold\u001b[0m\u001b[0;34m=\u001b[0m\u001b[0mmax_samples\u001b[0m\u001b[0;34m,\u001b[0m\u001b[0;34m\u001b[0m\u001b[0m\n\u001b[1;32m    124\u001b[0m         \u001b[0margs\u001b[0m\u001b[0;34m=\u001b[0m\u001b[0;34m(\u001b[0m\u001b[0mmax_path_length\u001b[0m\u001b[0;34m,\u001b[0m \u001b[0mscope\u001b[0m\u001b[0;34m)\u001b[0m\u001b[0;34m,\u001b[0m\u001b[0;34m\u001b[0m\u001b[0m\n\u001b[0;32m--> 125\u001b[0;31m         \u001b[0mshow_prog_bar\u001b[0m\u001b[0;34m=\u001b[0m\u001b[0;32mTrue\u001b[0m\u001b[0;34m\u001b[0m\u001b[0m\n\u001b[0m\u001b[1;32m    126\u001b[0m     )\n\u001b[1;32m    127\u001b[0m     \u001b[0;32mreturn\u001b[0m \u001b[0mpaths\u001b[0m\u001b[0;34m\u001b[0m\u001b[0m\n",
      "\u001b[0;32m/Users/vitchyr/git/rllab-private/rllab/sampler/stateful_pool.py\u001b[0m in \u001b[0;36mrun_collect\u001b[0;34m(self, collect_once, threshold, args, show_prog_bar)\u001b[0m\n\u001b[1;32m    148\u001b[0m                 \u001b[0mpbar\u001b[0m \u001b[0;34m=\u001b[0m \u001b[0mProgBarCounter\u001b[0m\u001b[0;34m(\u001b[0m\u001b[0mthreshold\u001b[0m\u001b[0;34m)\u001b[0m\u001b[0;34m\u001b[0m\u001b[0m\n\u001b[1;32m    149\u001b[0m             \u001b[0;32mwhile\u001b[0m \u001b[0mcount\u001b[0m \u001b[0;34m<\u001b[0m \u001b[0mthreshold\u001b[0m\u001b[0;34m:\u001b[0m\u001b[0;34m\u001b[0m\u001b[0m\n\u001b[0;32m--> 150\u001b[0;31m                 \u001b[0mresult\u001b[0m\u001b[0;34m,\u001b[0m \u001b[0minc\u001b[0m \u001b[0;34m=\u001b[0m \u001b[0mcollect_once\u001b[0m\u001b[0;34m(\u001b[0m\u001b[0mself\u001b[0m\u001b[0;34m.\u001b[0m\u001b[0mG\u001b[0m\u001b[0;34m,\u001b[0m \u001b[0;34m*\u001b[0m\u001b[0margs\u001b[0m\u001b[0;34m)\u001b[0m\u001b[0;34m\u001b[0m\u001b[0m\n\u001b[0m\u001b[1;32m    151\u001b[0m                 \u001b[0mresults\u001b[0m\u001b[0;34m.\u001b[0m\u001b[0mappend\u001b[0m\u001b[0;34m(\u001b[0m\u001b[0mresult\u001b[0m\u001b[0;34m)\u001b[0m\u001b[0;34m\u001b[0m\u001b[0m\n\u001b[1;32m    152\u001b[0m                 \u001b[0mcount\u001b[0m \u001b[0;34m+=\u001b[0m \u001b[0minc\u001b[0m\u001b[0;34m\u001b[0m\u001b[0m\n",
      "\u001b[0;32m/Users/vitchyr/git/rllab-private/rllab/sampler/parallel_sampler.py\u001b[0m in \u001b[0;36m_worker_collect_one_path\u001b[0;34m(G, max_path_length, scope)\u001b[0m\n\u001b[1;32m     92\u001b[0m \u001b[0;32mdef\u001b[0m \u001b[0m_worker_collect_one_path\u001b[0m\u001b[0;34m(\u001b[0m\u001b[0mG\u001b[0m\u001b[0;34m,\u001b[0m \u001b[0mmax_path_length\u001b[0m\u001b[0;34m,\u001b[0m \u001b[0mscope\u001b[0m\u001b[0;34m=\u001b[0m\u001b[0;32mNone\u001b[0m\u001b[0;34m)\u001b[0m\u001b[0;34m:\u001b[0m\u001b[0;34m\u001b[0m\u001b[0m\n\u001b[1;32m     93\u001b[0m     \u001b[0mG\u001b[0m \u001b[0;34m=\u001b[0m \u001b[0m_get_scoped_G\u001b[0m\u001b[0;34m(\u001b[0m\u001b[0mG\u001b[0m\u001b[0;34m,\u001b[0m \u001b[0mscope\u001b[0m\u001b[0;34m)\u001b[0m\u001b[0;34m\u001b[0m\u001b[0m\n\u001b[0;32m---> 94\u001b[0;31m     \u001b[0mpath\u001b[0m \u001b[0;34m=\u001b[0m \u001b[0mrollout\u001b[0m\u001b[0;34m(\u001b[0m\u001b[0mG\u001b[0m\u001b[0;34m.\u001b[0m\u001b[0menv\u001b[0m\u001b[0;34m,\u001b[0m \u001b[0mG\u001b[0m\u001b[0;34m.\u001b[0m\u001b[0mpolicy\u001b[0m\u001b[0;34m,\u001b[0m \u001b[0mmax_path_length\u001b[0m\u001b[0;34m)\u001b[0m\u001b[0;34m\u001b[0m\u001b[0m\n\u001b[0m\u001b[1;32m     95\u001b[0m     \u001b[0;32mreturn\u001b[0m \u001b[0mpath\u001b[0m\u001b[0;34m,\u001b[0m \u001b[0mlen\u001b[0m\u001b[0;34m(\u001b[0m\u001b[0mpath\u001b[0m\u001b[0;34m[\u001b[0m\u001b[0;34m\"rewards\"\u001b[0m\u001b[0;34m]\u001b[0m\u001b[0;34m)\u001b[0m\u001b[0;34m\u001b[0m\u001b[0m\n\u001b[1;32m     96\u001b[0m \u001b[0;34m\u001b[0m\u001b[0m\n",
      "\u001b[0;32m/Users/vitchyr/git/rllab-private/rllab/sampler/utils.py\u001b[0m in \u001b[0;36mrollout\u001b[0;34m(env, agent, max_path_length, animated, speedup)\u001b[0m\n\u001b[1;32m     16\u001b[0m         \u001b[0menv\u001b[0m\u001b[0;34m.\u001b[0m\u001b[0mrender\u001b[0m\u001b[0;34m(\u001b[0m\u001b[0;34m)\u001b[0m\u001b[0;34m\u001b[0m\u001b[0m\n\u001b[1;32m     17\u001b[0m     \u001b[0;32mwhile\u001b[0m \u001b[0mpath_length\u001b[0m \u001b[0;34m<\u001b[0m \u001b[0mmax_path_length\u001b[0m\u001b[0;34m:\u001b[0m\u001b[0;34m\u001b[0m\u001b[0m\n\u001b[0;32m---> 18\u001b[0;31m         \u001b[0ma\u001b[0m\u001b[0;34m,\u001b[0m \u001b[0magent_info\u001b[0m \u001b[0;34m=\u001b[0m \u001b[0magent\u001b[0m\u001b[0;34m.\u001b[0m\u001b[0mget_action\u001b[0m\u001b[0;34m(\u001b[0m\u001b[0mo\u001b[0m\u001b[0;34m)\u001b[0m\u001b[0;34m\u001b[0m\u001b[0m\n\u001b[0m\u001b[1;32m     19\u001b[0m         \u001b[0mnext_o\u001b[0m\u001b[0;34m,\u001b[0m \u001b[0mr\u001b[0m\u001b[0;34m,\u001b[0m \u001b[0md\u001b[0m\u001b[0;34m,\u001b[0m \u001b[0menv_info\u001b[0m \u001b[0;34m=\u001b[0m \u001b[0menv\u001b[0m\u001b[0;34m.\u001b[0m\u001b[0mstep\u001b[0m\u001b[0;34m(\u001b[0m\u001b[0ma\u001b[0m\u001b[0;34m)\u001b[0m\u001b[0;34m\u001b[0m\u001b[0m\n\u001b[1;32m     20\u001b[0m         \u001b[0mobservations\u001b[0m\u001b[0;34m.\u001b[0m\u001b[0mappend\u001b[0m\u001b[0;34m(\u001b[0m\u001b[0menv\u001b[0m\u001b[0;34m.\u001b[0m\u001b[0mobservation_space\u001b[0m\u001b[0;34m.\u001b[0m\u001b[0mflatten\u001b[0m\u001b[0;34m(\u001b[0m\u001b[0mo\u001b[0m\u001b[0;34m)\u001b[0m\u001b[0;34m)\u001b[0m\u001b[0;34m\u001b[0m\u001b[0m\n",
      "\u001b[0;32m/Users/vitchyr/git/rail-rl/policies/argmax_policy.py\u001b[0m in \u001b[0;36mget_action\u001b[0;34m(self, observation)\u001b[0m\n\u001b[1;32m     87\u001b[0m         \u001b[0;31m# Clear adam variables\u001b[0m\u001b[0;34m\u001b[0m\u001b[0;34m\u001b[0m\u001b[0m\n\u001b[1;32m     88\u001b[0m         self.sess.run(tf.initialize_variables(\n\u001b[0;32m---> 89\u001b[0;31m             \u001b[0mtf\u001b[0m\u001b[0;34m.\u001b[0m\u001b[0mget_collection\u001b[0m\u001b[0;34m(\u001b[0m\u001b[0mtf\u001b[0m\u001b[0;34m.\u001b[0m\u001b[0mGraphKeys\u001b[0m\u001b[0;34m.\u001b[0m\u001b[0mVARIABLES\u001b[0m\u001b[0;34m,\u001b[0m \u001b[0mself\u001b[0m\u001b[0;34m.\u001b[0m\u001b[0mscope_name\u001b[0m\u001b[0;34m)\u001b[0m\u001b[0;34m\u001b[0m\u001b[0m\n\u001b[0m\u001b[1;32m     90\u001b[0m         ))\n\u001b[1;32m     91\u001b[0m         \u001b[0;32mfor\u001b[0m \u001b[0m_\u001b[0m \u001b[0;32min\u001b[0m \u001b[0mrange\u001b[0m\u001b[0;34m(\u001b[0m\u001b[0mself\u001b[0m\u001b[0;34m.\u001b[0m\u001b[0mn_update_steps\u001b[0m\u001b[0;34m)\u001b[0m\u001b[0;34m:\u001b[0m\u001b[0;34m\u001b[0m\u001b[0m\n",
      "\u001b[0;32m/Users/vitchyr/anaconda/envs/rllab3/lib/python3.5/site-packages/tensorflow/python/client/session.py\u001b[0m in \u001b[0;36mrun\u001b[0;34m(self, fetches, feed_dict, options, run_metadata)\u001b[0m\n\u001b[1;32m    380\u001b[0m     \u001b[0;32mtry\u001b[0m\u001b[0;34m:\u001b[0m\u001b[0;34m\u001b[0m\u001b[0m\n\u001b[1;32m    381\u001b[0m       result = self._run(None, fetches, feed_dict, options_ptr,\n\u001b[0;32m--> 382\u001b[0;31m                          run_metadata_ptr)\n\u001b[0m\u001b[1;32m    383\u001b[0m       \u001b[0;32mif\u001b[0m \u001b[0mrun_metadata\u001b[0m\u001b[0;34m:\u001b[0m\u001b[0;34m\u001b[0m\u001b[0m\n\u001b[1;32m    384\u001b[0m         \u001b[0mproto_data\u001b[0m \u001b[0;34m=\u001b[0m \u001b[0mtf_session\u001b[0m\u001b[0;34m.\u001b[0m\u001b[0mTF_GetBuffer\u001b[0m\u001b[0;34m(\u001b[0m\u001b[0mrun_metadata_ptr\u001b[0m\u001b[0;34m)\u001b[0m\u001b[0;34m\u001b[0m\u001b[0m\n",
      "\u001b[0;32m/Users/vitchyr/anaconda/envs/rllab3/lib/python3.5/site-packages/tensorflow/python/client/session.py\u001b[0m in \u001b[0;36m_run\u001b[0;34m(self, handle, fetches, feed_dict, options, run_metadata)\u001b[0m\n\u001b[1;32m    653\u001b[0m     \u001b[0mmovers\u001b[0m \u001b[0;34m=\u001b[0m \u001b[0mself\u001b[0m\u001b[0;34m.\u001b[0m\u001b[0m_update_with_movers\u001b[0m\u001b[0;34m(\u001b[0m\u001b[0mfeed_dict_string\u001b[0m\u001b[0;34m,\u001b[0m \u001b[0mfeed_map\u001b[0m\u001b[0;34m)\u001b[0m\u001b[0;34m\u001b[0m\u001b[0m\n\u001b[1;32m    654\u001b[0m     results = self._do_run(handle, target_list, unique_fetches,\n\u001b[0;32m--> 655\u001b[0;31m                            feed_dict_string, options, run_metadata)\n\u001b[0m\u001b[1;32m    656\u001b[0m \u001b[0;34m\u001b[0m\u001b[0m\n\u001b[1;32m    657\u001b[0m     \u001b[0;31m# User may have fetched the same tensor multiple times, but we\u001b[0m\u001b[0;34m\u001b[0m\u001b[0;34m\u001b[0m\u001b[0m\n",
      "\u001b[0;32m/Users/vitchyr/anaconda/envs/rllab3/lib/python3.5/site-packages/tensorflow/python/client/session.py\u001b[0m in \u001b[0;36m_do_run\u001b[0;34m(self, handle, target_list, fetch_list, feed_dict, options, run_metadata)\u001b[0m\n\u001b[1;32m    721\u001b[0m     \u001b[0;32mif\u001b[0m \u001b[0mhandle\u001b[0m \u001b[0;32mis\u001b[0m \u001b[0;32mNone\u001b[0m\u001b[0;34m:\u001b[0m\u001b[0;34m\u001b[0m\u001b[0m\n\u001b[1;32m    722\u001b[0m       return self._do_call(_run_fn, self._session, feed_dict, fetch_list,\n\u001b[0;32m--> 723\u001b[0;31m                            target_list, options, run_metadata)\n\u001b[0m\u001b[1;32m    724\u001b[0m     \u001b[0;32melse\u001b[0m\u001b[0;34m:\u001b[0m\u001b[0;34m\u001b[0m\u001b[0m\n\u001b[1;32m    725\u001b[0m       return self._do_call(_prun_fn, self._session, handle, feed_dict,\n",
      "\u001b[0;32m/Users/vitchyr/anaconda/envs/rllab3/lib/python3.5/site-packages/tensorflow/python/client/session.py\u001b[0m in \u001b[0;36m_do_call\u001b[0;34m(self, fn, *args)\u001b[0m\n\u001b[1;32m    728\u001b[0m   \u001b[0;32mdef\u001b[0m \u001b[0m_do_call\u001b[0m\u001b[0;34m(\u001b[0m\u001b[0mself\u001b[0m\u001b[0;34m,\u001b[0m \u001b[0mfn\u001b[0m\u001b[0;34m,\u001b[0m \u001b[0;34m*\u001b[0m\u001b[0margs\u001b[0m\u001b[0;34m)\u001b[0m\u001b[0;34m:\u001b[0m\u001b[0;34m\u001b[0m\u001b[0m\n\u001b[1;32m    729\u001b[0m     \u001b[0;32mtry\u001b[0m\u001b[0;34m:\u001b[0m\u001b[0;34m\u001b[0m\u001b[0m\n\u001b[0;32m--> 730\u001b[0;31m       \u001b[0;32mreturn\u001b[0m \u001b[0mfn\u001b[0m\u001b[0;34m(\u001b[0m\u001b[0;34m*\u001b[0m\u001b[0margs\u001b[0m\u001b[0;34m)\u001b[0m\u001b[0;34m\u001b[0m\u001b[0m\n\u001b[0m\u001b[1;32m    731\u001b[0m     \u001b[0;32mexcept\u001b[0m \u001b[0merrors\u001b[0m\u001b[0;34m.\u001b[0m\u001b[0mOpError\u001b[0m \u001b[0;32mas\u001b[0m \u001b[0me\u001b[0m\u001b[0;34m:\u001b[0m\u001b[0;34m\u001b[0m\u001b[0m\n\u001b[1;32m    732\u001b[0m       \u001b[0mmessage\u001b[0m \u001b[0;34m=\u001b[0m \u001b[0mcompat\u001b[0m\u001b[0;34m.\u001b[0m\u001b[0mas_text\u001b[0m\u001b[0;34m(\u001b[0m\u001b[0me\u001b[0m\u001b[0;34m.\u001b[0m\u001b[0mmessage\u001b[0m\u001b[0;34m)\u001b[0m\u001b[0;34m\u001b[0m\u001b[0m\n",
      "\u001b[0;32m/Users/vitchyr/anaconda/envs/rllab3/lib/python3.5/site-packages/tensorflow/python/client/session.py\u001b[0m in \u001b[0;36m_run_fn\u001b[0;34m(session, feed_dict, fetch_list, target_list, options, run_metadata)\u001b[0m\n\u001b[1;32m    710\u001b[0m         return tf_session.TF_Run(session, options,\n\u001b[1;32m    711\u001b[0m                                  \u001b[0mfeed_dict\u001b[0m\u001b[0;34m,\u001b[0m \u001b[0mfetch_list\u001b[0m\u001b[0;34m,\u001b[0m \u001b[0mtarget_list\u001b[0m\u001b[0;34m,\u001b[0m\u001b[0;34m\u001b[0m\u001b[0m\n\u001b[0;32m--> 712\u001b[0;31m                                  status, run_metadata)\n\u001b[0m\u001b[1;32m    713\u001b[0m \u001b[0;34m\u001b[0m\u001b[0m\n\u001b[1;32m    714\u001b[0m     \u001b[0;32mdef\u001b[0m \u001b[0m_prun_fn\u001b[0m\u001b[0;34m(\u001b[0m\u001b[0msession\u001b[0m\u001b[0;34m,\u001b[0m \u001b[0mhandle\u001b[0m\u001b[0;34m,\u001b[0m \u001b[0mfeed_dict\u001b[0m\u001b[0;34m,\u001b[0m \u001b[0mfetch_list\u001b[0m\u001b[0;34m)\u001b[0m\u001b[0;34m:\u001b[0m\u001b[0;34m\u001b[0m\u001b[0m\n",
      "\u001b[0;31mKeyboardInterrupt\u001b[0m: "
     ]
    }
   ],
   "source": [
    "algorithm.train()"
   ]
  },
  {
   "cell_type": "code",
   "execution_count": 4,
   "metadata": {
    "collapsed": false
   },
   "outputs": [
    {
     "name": "stdout",
     "output_type": "stream",
     "text": [
      "1\n",
      "4\n",
      "1.0\n",
      "-1.0\n"
     ]
    }
   ],
   "source": [
    "a_dim = qf.action_dim\n",
    "o_dim = qf.observation_dim\n",
    "o_high = env.spec.action_space.high[0]\n",
    "o_low = env.spec.action_space.low[0]\n",
    "print(a_dim)\n",
    "print(o_dim)\n",
    "print(o_high)\n",
    "print(o_low)"
   ]
  },
  {
   "cell_type": "markdown",
   "metadata": {},
   "source": [
    "# Plot QF"
   ]
  },
  {
   "cell_type": "code",
   "execution_count": 5,
   "metadata": {
    "collapsed": false
   },
   "outputs": [
    {
     "name": "stdout",
     "output_type": "stream",
     "text": [
      "[(201, 200), (200, 200), (200, 1)]\n"
     ]
    }
   ],
   "source": [
    "params = algorithm.sess.run(qf.update_weights_ops)\n",
    "print([p.shape for p in params])"
   ]
  },
  {
   "cell_type": "code",
   "execution_count": 10,
   "metadata": {
    "collapsed": false
   },
   "outputs": [
    {
     "data": {
      "image/png": "[encoded data removed]",
      "text/plain": [
       "<matplotlib.figure.Figure at 0x11cae80f0>"
      ]
     },
     "metadata": {},
     "output_type": "display_data"
    }
   ],
   "source": [
    "num_actions = 100\n",
    "\n",
    "actions = np.linspace(-1000, 1000, num_actions)\n",
    "actions = np.expand_dims(actions, axis=1)\n",
    "random_state_single = np.random.rand(1, o_dim)\n",
    "random_state = np.vstack([random_state_single for _ in range(num_actions)])\n",
    "\n",
    "feed_dict = {\n",
    "    qf.action_input: actions,\n",
    "    qf.observation_input: random_state,\n",
    "}\n",
    "qf_output = qf.sess.run(\n",
    "    qf.output,\n",
    "    feed_dict=feed_dict\n",
    ")\n",
    "\n",
    "# plt.plot(np.tanh(actions), qf_output)\n",
    "plt.plot(actions, qf_output)\n",
    "plt.xlabel('Action')\n",
    "plt.ylabel('QF output')\n",
    "plt.show()"
   ]
  },
  {
   "cell_type": "markdown",
   "metadata": {},
   "source": [
    "# Inspect correctness of this quadratic function"
   ]
  },
  {
   "cell_type": "code",
   "execution_count": 8,
   "metadata": {
    "collapsed": false,
    "scrolled": true
   },
   "outputs": [
    {
     "ename": "AttributeError",
     "evalue": "'FeedForwardCritic' object has no attribute '_internal_qf'",
     "output_type": "error",
     "traceback": [
      "\u001b[0;31m---------------------------------------------------------------------------\u001b[0m",
      "\u001b[0;31mAttributeError\u001b[0m                            Traceback (most recent call last)",
      "\u001b[0;32m<ipython-input-8-43633fd3b850>\u001b[0m in \u001b[0;36m<module>\u001b[0;34m()\u001b[0m\n\u001b[1;32m      4\u001b[0m }\n\u001b[1;32m      5\u001b[0m L_params, L, implicit_policy_output = qf.sess.run(\n\u001b[0;32m----> 6\u001b[0;31m     \u001b[0;34m[\u001b[0m\u001b[0mqf\u001b[0m\u001b[0;34m.\u001b[0m\u001b[0m_internal_qf\u001b[0m\u001b[0;34m.\u001b[0m\u001b[0mL_params\u001b[0m\u001b[0;34m.\u001b[0m\u001b[0moutput\u001b[0m\u001b[0;34m,\u001b[0m \u001b[0mqf\u001b[0m\u001b[0;34m.\u001b[0m\u001b[0m_internal_qf\u001b[0m\u001b[0;34m.\u001b[0m\u001b[0mL\u001b[0m\u001b[0;34m,\u001b[0m \u001b[0mqf\u001b[0m\u001b[0;34m.\u001b[0m\u001b[0mimplicit_policy\u001b[0m\u001b[0;34m.\u001b[0m\u001b[0moutput\u001b[0m\u001b[0;34m]\u001b[0m\u001b[0;34m,\u001b[0m\u001b[0;34m\u001b[0m\u001b[0m\n\u001b[0m\u001b[1;32m      7\u001b[0m     \u001b[0mfeed_dict\u001b[0m\u001b[0;34m=\u001b[0m\u001b[0mfeed_dict\u001b[0m\u001b[0;34m\u001b[0m\u001b[0m\n\u001b[1;32m      8\u001b[0m )\n",
      "\u001b[0;31mAttributeError\u001b[0m: 'FeedForwardCritic' object has no attribute '_internal_qf'"
     ]
    }
   ],
   "source": [
    "feed_dict = {\n",
    "    qf.action_input: actions,\n",
    "    qf.observation_input: random_state,\n",
    "}\n",
    "L_params, L, implicit_policy_output = qf.sess.run(\n",
    "    [qf._internal_qf.L_params.output, qf._internal_qf.L, qf.implicit_policy.output],\n",
    "    feed_dict=feed_dict\n",
    ")\n",
    "\n",
    "expected_values = -0.5 * ((actions - implicit_policy_output) * L[0][0][0])**2\n",
    "plt.plot(actions, expected_values)\n",
    "plt.xlabel('Action')\n",
    "plt.ylabel('Expected QF output')\n",
    "plt.show()"
   ]
  },
  {
   "cell_type": "code",
   "execution_count": 9,
   "metadata": {
    "collapsed": false
   },
   "outputs": [
    {
     "ename": "NameError",
     "evalue": "name 'expected_values' is not defined",
     "output_type": "error",
     "traceback": [
      "\u001b[0;31m---------------------------------------------------------------------------\u001b[0m",
      "\u001b[0;31mNameError\u001b[0m                                 Traceback (most recent call last)",
      "\u001b[0;32m<ipython-input-9-361c34a666b1>\u001b[0m in \u001b[0;36m<module>\u001b[0;34m()\u001b[0m\n\u001b[0;32m----> 1\u001b[0;31m \u001b[0mplt\u001b[0m\u001b[0;34m.\u001b[0m\u001b[0mplot\u001b[0m\u001b[0;34m(\u001b[0m\u001b[0mactions\u001b[0m\u001b[0;34m,\u001b[0m \u001b[0mnp\u001b[0m\u001b[0;34m.\u001b[0m\u001b[0mabs\u001b[0m\u001b[0;34m(\u001b[0m\u001b[0mexpected_values\u001b[0m \u001b[0;34m-\u001b[0m \u001b[0mqf_output\u001b[0m\u001b[0;34m)\u001b[0m\u001b[0;34m)\u001b[0m\u001b[0;34m\u001b[0m\u001b[0m\n\u001b[0m\u001b[1;32m      2\u001b[0m \u001b[0mplt\u001b[0m\u001b[0;34m.\u001b[0m\u001b[0mxlabel\u001b[0m\u001b[0;34m(\u001b[0m\u001b[0;34m'Action'\u001b[0m\u001b[0;34m)\u001b[0m\u001b[0;34m\u001b[0m\u001b[0m\n\u001b[1;32m      3\u001b[0m \u001b[0mplt\u001b[0m\u001b[0;34m.\u001b[0m\u001b[0mylabel\u001b[0m\u001b[0;34m(\u001b[0m\u001b[0;34m'QF output error'\u001b[0m\u001b[0;34m)\u001b[0m\u001b[0;34m\u001b[0m\u001b[0m\n\u001b[1;32m      4\u001b[0m \u001b[0mplt\u001b[0m\u001b[0;34m.\u001b[0m\u001b[0mshow\u001b[0m\u001b[0;34m(\u001b[0m\u001b[0;34m)\u001b[0m\u001b[0;34m\u001b[0m\u001b[0m\n",
      "\u001b[0;31mNameError\u001b[0m: name 'expected_values' is not defined"
     ]
    }
   ],
   "source": [
    "plt.plot(actions, np.abs(expected_values - qf_output))\n",
    "plt.xlabel('Action')\n",
    "plt.ylabel('QF output error')\n",
    "plt.show()"
   ]
  },
  {
   "cell_type": "markdown",
   "metadata": {},
   "source": [
    "Make sure diagonal values are exponentiated corrected"
   ]
  },
  {
   "cell_type": "code",
   "execution_count": 10,
   "metadata": {
    "collapsed": false
   },
   "outputs": [
    {
     "ename": "NameError",
     "evalue": "name 'L' is not defined",
     "output_type": "error",
     "traceback": [
      "\u001b[0;31m---------------------------------------------------------------------------\u001b[0m",
      "\u001b[0;31mNameError\u001b[0m                                 Traceback (most recent call last)",
      "\u001b[0;32m<ipython-input-10-c358e95d9fb2>\u001b[0m in \u001b[0;36m<module>\u001b[0;34m()\u001b[0m\n\u001b[0;32m----> 1\u001b[0;31m \u001b[0mprint\u001b[0m\u001b[0;34m(\u001b[0m\u001b[0mL\u001b[0m\u001b[0;34m[\u001b[0m\u001b[0;36m0\u001b[0m\u001b[0;34m]\u001b[0m\u001b[0;34m)\u001b[0m\u001b[0;34m\u001b[0m\u001b[0m\n\u001b[0m\u001b[1;32m      2\u001b[0m \u001b[0mprint\u001b[0m\u001b[0;34m(\u001b[0m\u001b[0mnp\u001b[0m\u001b[0;34m.\u001b[0m\u001b[0mexp\u001b[0m\u001b[0;34m(\u001b[0m\u001b[0mL_params\u001b[0m\u001b[0;34m[\u001b[0m\u001b[0;36m0\u001b[0m\u001b[0;34m]\u001b[0m\u001b[0;34m)\u001b[0m\u001b[0;34m)\u001b[0m\u001b[0;34m\u001b[0m\u001b[0m\n",
      "\u001b[0;31mNameError\u001b[0m: name 'L' is not defined"
     ]
    }
   ],
   "source": [
    "print(L[0])\n",
    "print(np.exp(L_params[0]))"
   ]
  },
  {
   "cell_type": "markdown",
   "metadata": {},
   "source": [
    "Make sure max action is the one taken by the implicit policy"
   ]
  },
  {
   "cell_type": "code",
   "execution_count": 8,
   "metadata": {
    "collapsed": false
   },
   "outputs": [
    {
     "name": "stdout",
     "output_type": "stream",
     "text": [
      "[[-1.]]\n"
     ]
    },
    {
     "ename": "NameError",
     "evalue": "name 'implicit_policy_output' is not defined",
     "output_type": "error",
     "traceback": [
      "\u001b[0;31m---------------------------------------------------------------------------\u001b[0m",
      "\u001b[0;31mNameError\u001b[0m                                 Traceback (most recent call last)",
      "\u001b[0;32m<ipython-input-8-422ba298e2aa>\u001b[0m in \u001b[0;36m<module>\u001b[0;34m()\u001b[0m\n\u001b[1;32m      1\u001b[0m \u001b[0mmax_index\u001b[0m \u001b[0;34m=\u001b[0m \u001b[0mnp\u001b[0m\u001b[0;34m.\u001b[0m\u001b[0margmax\u001b[0m\u001b[0;34m(\u001b[0m\u001b[0mqf_output\u001b[0m\u001b[0;34m,\u001b[0m \u001b[0maxis\u001b[0m\u001b[0;34m=\u001b[0m\u001b[0;36m0\u001b[0m\u001b[0;34m)\u001b[0m\u001b[0;34m\u001b[0m\u001b[0m\n\u001b[1;32m      2\u001b[0m \u001b[0mprint\u001b[0m\u001b[0;34m(\u001b[0m\u001b[0mactions\u001b[0m\u001b[0;34m[\u001b[0m\u001b[0mmax_index\u001b[0m\u001b[0;34m]\u001b[0m\u001b[0;34m)\u001b[0m\u001b[0;34m\u001b[0m\u001b[0m\n\u001b[0;32m----> 3\u001b[0;31m \u001b[0mprint\u001b[0m\u001b[0;34m(\u001b[0m\u001b[0mimplicit_policy_output\u001b[0m\u001b[0;34m[\u001b[0m\u001b[0;36m0\u001b[0m\u001b[0;34m]\u001b[0m\u001b[0;34m)\u001b[0m\u001b[0;34m\u001b[0m\u001b[0m\n\u001b[0m",
      "\u001b[0;31mNameError\u001b[0m: name 'implicit_policy_output' is not defined"
     ]
    }
   ],
   "source": [
    "max_index = np.argmax(qf_output, axis=0)\n",
    "print(actions[max_index])\n",
    "print(implicit_policy_output[0])"
   ]
  },
  {
   "cell_type": "markdown",
   "metadata": {},
   "source": [
    "# Plot implicit policy"
   ]
  },
  {
   "cell_type": "code",
   "execution_count": 11,
   "metadata": {
    "collapsed": false
   },
   "outputs": [
    {
     "name": "stdout",
     "output_type": "stream",
     "text": [
      "[[-1.          0.43246771  0.84345072 -0.56658289]\n",
      " [-0.997998    0.43246771  0.84345072 -0.56658289]\n",
      " [-0.995996    0.43246771  0.84345072 -0.56658289]\n",
      " ..., \n",
      " [ 0.995996    0.43246771  0.84345072 -0.56658289]\n",
      " [ 0.997998    0.43246771  0.84345072 -0.56658289]\n",
      " [ 1.          0.43246771  0.84345072 -0.56658289]]\n"
     ]
    },
    {
     "data": {
      "image/png": "[encoded data removed]",
      "text/plain": [
       "<matplotlib.figure.Figure at 0x11c232908>"
      ]
     },
     "metadata": {},
     "output_type": "display_data"
    },
    {
     "name": "stdout",
     "output_type": "stream",
     "text": [
      "[[ 0.17991664 -1.          0.8455713  -0.51282439]\n",
      " [ 0.17991664 -0.997998    0.8455713  -0.51282439]\n",
      " [ 0.17991664 -0.995996    0.8455713  -0.51282439]\n",
      " ..., \n",
      " [ 0.17991664  0.995996    0.8455713  -0.51282439]\n",
      " [ 0.17991664  0.997998    0.8455713  -0.51282439]\n",
      " [ 0.17991664  1.          0.8455713  -0.51282439]]\n"
     ]
    },
    {
     "data": {
      "image/png": "[encoded data removed]",
      "text/plain": [
       "<matplotlib.figure.Figure at 0x12d662e48>"
      ]
     },
     "metadata": {},
     "output_type": "display_data"
    },
    {
     "name": "stdout",
     "output_type": "stream",
     "text": [
      "[[-0.45446781  0.81143553 -1.         -0.65910281]\n",
      " [-0.45446781  0.81143553 -0.997998   -0.65910281]\n",
      " [-0.45446781  0.81143553 -0.995996   -0.65910281]\n",
      " ..., \n",
      " [-0.45446781  0.81143553  0.995996   -0.65910281]\n",
      " [-0.45446781  0.81143553  0.997998   -0.65910281]\n",
      " [-0.45446781  0.81143553  1.         -0.65910281]]\n"
     ]
    },
    {
     "ename": "KeyboardInterrupt",
     "evalue": "",
     "output_type": "error",
     "traceback": [
      "\u001b[0;31m---------------------------------------------------------------------------\u001b[0m",
      "\u001b[0;31mKeyboardInterrupt\u001b[0m                         Traceback (most recent call last)",
      "\u001b[0;32m<ipython-input-11-8891e07e406c>\u001b[0m in \u001b[0;36m<module>\u001b[0;34m()\u001b[0m\n\u001b[1;32m      8\u001b[0m     \u001b[0mprint\u001b[0m\u001b[0;34m(\u001b[0m\u001b[0mlinear_states\u001b[0m\u001b[0;34m)\u001b[0m\u001b[0;34m\u001b[0m\u001b[0m\n\u001b[1;32m      9\u001b[0m \u001b[0;34m\u001b[0m\u001b[0m\n\u001b[0;32m---> 10\u001b[0;31m     \u001b[0mpolicy_output\u001b[0m \u001b[0;34m=\u001b[0m \u001b[0mnp\u001b[0m\u001b[0;34m.\u001b[0m\u001b[0mvstack\u001b[0m\u001b[0;34m(\u001b[0m\u001b[0;34m[\u001b[0m\u001b[0mpolicy\u001b[0m\u001b[0;34m.\u001b[0m\u001b[0mget_action\u001b[0m\u001b[0;34m(\u001b[0m\u001b[0mstate\u001b[0m\u001b[0;34m)\u001b[0m\u001b[0;34m[\u001b[0m\u001b[0;36m0\u001b[0m\u001b[0;34m]\u001b[0m \u001b[0;32mfor\u001b[0m \u001b[0mstate\u001b[0m \u001b[0;32min\u001b[0m \u001b[0mlinear_states\u001b[0m\u001b[0;34m]\u001b[0m\u001b[0;34m)\u001b[0m\u001b[0;34m\u001b[0m\u001b[0m\n\u001b[0m\u001b[1;32m     11\u001b[0m \u001b[0;34m\u001b[0m\u001b[0m\n\u001b[1;32m     12\u001b[0m     \u001b[0mplt\u001b[0m\u001b[0;34m.\u001b[0m\u001b[0mplot\u001b[0m\u001b[0;34m(\u001b[0m\u001b[0mlinear_states\u001b[0m\u001b[0;34m[\u001b[0m\u001b[0;34m:\u001b[0m\u001b[0;34m,\u001b[0m \u001b[0mdim_changing\u001b[0m\u001b[0;34m]\u001b[0m\u001b[0;34m,\u001b[0m \u001b[0mpolicy_output\u001b[0m\u001b[0;34m)\u001b[0m\u001b[0;34m\u001b[0m\u001b[0m\n",
      "\u001b[0;32m<ipython-input-11-8891e07e406c>\u001b[0m in \u001b[0;36m<listcomp>\u001b[0;34m(.0)\u001b[0m\n\u001b[1;32m      8\u001b[0m     \u001b[0mprint\u001b[0m\u001b[0;34m(\u001b[0m\u001b[0mlinear_states\u001b[0m\u001b[0;34m)\u001b[0m\u001b[0;34m\u001b[0m\u001b[0m\n\u001b[1;32m      9\u001b[0m \u001b[0;34m\u001b[0m\u001b[0m\n\u001b[0;32m---> 10\u001b[0;31m     \u001b[0mpolicy_output\u001b[0m \u001b[0;34m=\u001b[0m \u001b[0mnp\u001b[0m\u001b[0;34m.\u001b[0m\u001b[0mvstack\u001b[0m\u001b[0;34m(\u001b[0m\u001b[0;34m[\u001b[0m\u001b[0mpolicy\u001b[0m\u001b[0;34m.\u001b[0m\u001b[0mget_action\u001b[0m\u001b[0;34m(\u001b[0m\u001b[0mstate\u001b[0m\u001b[0;34m)\u001b[0m\u001b[0;34m[\u001b[0m\u001b[0;36m0\u001b[0m\u001b[0;34m]\u001b[0m \u001b[0;32mfor\u001b[0m \u001b[0mstate\u001b[0m \u001b[0;32min\u001b[0m \u001b[0mlinear_states\u001b[0m\u001b[0;34m]\u001b[0m\u001b[0;34m)\u001b[0m\u001b[0;34m\u001b[0m\u001b[0m\n\u001b[0m\u001b[1;32m     11\u001b[0m \u001b[0;34m\u001b[0m\u001b[0m\n\u001b[1;32m     12\u001b[0m     \u001b[0mplt\u001b[0m\u001b[0;34m.\u001b[0m\u001b[0mplot\u001b[0m\u001b[0;34m(\u001b[0m\u001b[0mlinear_states\u001b[0m\u001b[0;34m[\u001b[0m\u001b[0;34m:\u001b[0m\u001b[0;34m,\u001b[0m \u001b[0mdim_changing\u001b[0m\u001b[0;34m]\u001b[0m\u001b[0;34m,\u001b[0m \u001b[0mpolicy_output\u001b[0m\u001b[0;34m)\u001b[0m\u001b[0;34m\u001b[0m\u001b[0m\n",
      "\u001b[0;32m/Users/vitchyr/git/rail-rl/policies/argmax_policy.py\u001b[0m in \u001b[0;36mget_action\u001b[0;34m(self, observation)\u001b[0m\n\u001b[1;32m     88\u001b[0m         \u001b[0;32mif\u001b[0m \u001b[0mlen\u001b[0m\u001b[0;34m(\u001b[0m\u001b[0mobservation\u001b[0m\u001b[0;34m.\u001b[0m\u001b[0mshape\u001b[0m\u001b[0;34m)\u001b[0m \u001b[0;34m>\u001b[0m \u001b[0;36m1\u001b[0m\u001b[0;34m:\u001b[0m\u001b[0;34m\u001b[0m\u001b[0m\n\u001b[1;32m     89\u001b[0m             \u001b[0;32massert\u001b[0m \u001b[0mobservation\u001b[0m\u001b[0;34m.\u001b[0m\u001b[0mshape\u001b[0m\u001b[0;34m[\u001b[0m\u001b[0;36m1\u001b[0m\u001b[0;34m]\u001b[0m \u001b[0;34m==\u001b[0m \u001b[0;36m1\u001b[0m\u001b[0;34m\u001b[0m\u001b[0m\n\u001b[0;32m---> 90\u001b[0;31m             \u001b[0mobservation\u001b[0m \u001b[0;34m=\u001b[0m \u001b[0mobservation\u001b[0m\u001b[0;34m.\u001b[0m\u001b[0mflatten\u001b[0m\u001b[0;34m(\u001b[0m\u001b[0;34m)\u001b[0m\u001b[0;34m\u001b[0m\u001b[0m\n\u001b[0m\u001b[1;32m     91\u001b[0m         \u001b[0;31m# Clear adam variables\u001b[0m\u001b[0;34m\u001b[0m\u001b[0;34m\u001b[0m\u001b[0m\n\u001b[1;32m     92\u001b[0m         self.sess.run(tf.initialize_variables(\n",
      "\u001b[0;32m/Users/vitchyr/anaconda/envs/rllab3/lib/python3.5/site-packages/tensorflow/python/client/session.py\u001b[0m in \u001b[0;36mrun\u001b[0;34m(self, fetches, feed_dict, options, run_metadata)\u001b[0m\n\u001b[1;32m    380\u001b[0m     \u001b[0;32mtry\u001b[0m\u001b[0;34m:\u001b[0m\u001b[0;34m\u001b[0m\u001b[0m\n\u001b[1;32m    381\u001b[0m       result = self._run(None, fetches, feed_dict, options_ptr,\n\u001b[0;32m--> 382\u001b[0;31m                          run_metadata_ptr)\n\u001b[0m\u001b[1;32m    383\u001b[0m       \u001b[0;32mif\u001b[0m \u001b[0mrun_metadata\u001b[0m\u001b[0;34m:\u001b[0m\u001b[0;34m\u001b[0m\u001b[0m\n\u001b[1;32m    384\u001b[0m         \u001b[0mproto_data\u001b[0m \u001b[0;34m=\u001b[0m \u001b[0mtf_session\u001b[0m\u001b[0;34m.\u001b[0m\u001b[0mTF_GetBuffer\u001b[0m\u001b[0;34m(\u001b[0m\u001b[0mrun_metadata_ptr\u001b[0m\u001b[0;34m)\u001b[0m\u001b[0;34m\u001b[0m\u001b[0m\n",
      "\u001b[0;32m/Users/vitchyr/anaconda/envs/rllab3/lib/python3.5/site-packages/tensorflow/python/client/session.py\u001b[0m in \u001b[0;36m_run\u001b[0;34m(self, handle, fetches, feed_dict, options, run_metadata)\u001b[0m\n\u001b[1;32m    653\u001b[0m     \u001b[0mmovers\u001b[0m \u001b[0;34m=\u001b[0m \u001b[0mself\u001b[0m\u001b[0;34m.\u001b[0m\u001b[0m_update_with_movers\u001b[0m\u001b[0;34m(\u001b[0m\u001b[0mfeed_dict_string\u001b[0m\u001b[0;34m,\u001b[0m \u001b[0mfeed_map\u001b[0m\u001b[0;34m)\u001b[0m\u001b[0;34m\u001b[0m\u001b[0m\n\u001b[1;32m    654\u001b[0m     results = self._do_run(handle, target_list, unique_fetches,\n\u001b[0;32m--> 655\u001b[0;31m                            feed_dict_string, options, run_metadata)\n\u001b[0m\u001b[1;32m    656\u001b[0m \u001b[0;34m\u001b[0m\u001b[0m\n\u001b[1;32m    657\u001b[0m     \u001b[0;31m# User may have fetched the same tensor multiple times, but we\u001b[0m\u001b[0;34m\u001b[0m\u001b[0;34m\u001b[0m\u001b[0m\n",
      "\u001b[0;32m/Users/vitchyr/anaconda/envs/rllab3/lib/python3.5/site-packages/tensorflow/python/client/session.py\u001b[0m in \u001b[0;36m_do_run\u001b[0;34m(self, handle, target_list, fetch_list, feed_dict, options, run_metadata)\u001b[0m\n\u001b[1;32m    721\u001b[0m     \u001b[0;32mif\u001b[0m \u001b[0mhandle\u001b[0m \u001b[0;32mis\u001b[0m \u001b[0;32mNone\u001b[0m\u001b[0;34m:\u001b[0m\u001b[0;34m\u001b[0m\u001b[0m\n\u001b[1;32m    722\u001b[0m       return self._do_call(_run_fn, self._session, feed_dict, fetch_list,\n\u001b[0;32m--> 723\u001b[0;31m                            target_list, options, run_metadata)\n\u001b[0m\u001b[1;32m    724\u001b[0m     \u001b[0;32melse\u001b[0m\u001b[0;34m:\u001b[0m\u001b[0;34m\u001b[0m\u001b[0m\n\u001b[1;32m    725\u001b[0m       return self._do_call(_prun_fn, self._session, handle, feed_dict,\n",
      "\u001b[0;32m/Users/vitchyr/anaconda/envs/rllab3/lib/python3.5/site-packages/tensorflow/python/client/session.py\u001b[0m in \u001b[0;36m_do_call\u001b[0;34m(self, fn, *args)\u001b[0m\n\u001b[1;32m    728\u001b[0m   \u001b[0;32mdef\u001b[0m \u001b[0m_do_call\u001b[0m\u001b[0;34m(\u001b[0m\u001b[0mself\u001b[0m\u001b[0;34m,\u001b[0m \u001b[0mfn\u001b[0m\u001b[0;34m,\u001b[0m \u001b[0;34m*\u001b[0m\u001b[0margs\u001b[0m\u001b[0;34m)\u001b[0m\u001b[0;34m:\u001b[0m\u001b[0;34m\u001b[0m\u001b[0m\n\u001b[1;32m    729\u001b[0m     \u001b[0;32mtry\u001b[0m\u001b[0;34m:\u001b[0m\u001b[0;34m\u001b[0m\u001b[0m\n\u001b[0;32m--> 730\u001b[0;31m       \u001b[0;32mreturn\u001b[0m \u001b[0mfn\u001b[0m\u001b[0;34m(\u001b[0m\u001b[0;34m*\u001b[0m\u001b[0margs\u001b[0m\u001b[0;34m)\u001b[0m\u001b[0;34m\u001b[0m\u001b[0m\n\u001b[0m\u001b[1;32m    731\u001b[0m     \u001b[0;32mexcept\u001b[0m \u001b[0merrors\u001b[0m\u001b[0;34m.\u001b[0m\u001b[0mOpError\u001b[0m \u001b[0;32mas\u001b[0m \u001b[0me\u001b[0m\u001b[0;34m:\u001b[0m\u001b[0;34m\u001b[0m\u001b[0m\n\u001b[1;32m    732\u001b[0m       \u001b[0mmessage\u001b[0m \u001b[0;34m=\u001b[0m \u001b[0mcompat\u001b[0m\u001b[0;34m.\u001b[0m\u001b[0mas_text\u001b[0m\u001b[0;34m(\u001b[0m\u001b[0me\u001b[0m\u001b[0;34m.\u001b[0m\u001b[0mmessage\u001b[0m\u001b[0;34m)\u001b[0m\u001b[0;34m\u001b[0m\u001b[0m\n",
      "\u001b[0;32m/Users/vitchyr/anaconda/envs/rllab3/lib/python3.5/site-packages/tensorflow/python/client/session.py\u001b[0m in \u001b[0;36m_run_fn\u001b[0;34m(session, feed_dict, fetch_list, target_list, options, run_metadata)\u001b[0m\n\u001b[1;32m    706\u001b[0m                 run_metadata):\n\u001b[1;32m    707\u001b[0m       \u001b[0;31m# Ensure any changes to the graph are reflected in the runtime.\u001b[0m\u001b[0;34m\u001b[0m\u001b[0;34m\u001b[0m\u001b[0m\n\u001b[0;32m--> 708\u001b[0;31m       \u001b[0mself\u001b[0m\u001b[0;34m.\u001b[0m\u001b[0m_extend_graph\u001b[0m\u001b[0;34m(\u001b[0m\u001b[0;34m)\u001b[0m\u001b[0;34m\u001b[0m\u001b[0m\n\u001b[0m\u001b[1;32m    709\u001b[0m       \u001b[0;32mwith\u001b[0m \u001b[0merrors\u001b[0m\u001b[0;34m.\u001b[0m\u001b[0mraise_exception_on_not_ok_status\u001b[0m\u001b[0;34m(\u001b[0m\u001b[0;34m)\u001b[0m \u001b[0;32mas\u001b[0m \u001b[0mstatus\u001b[0m\u001b[0;34m:\u001b[0m\u001b[0;34m\u001b[0m\u001b[0m\n\u001b[1;32m    710\u001b[0m         return tf_session.TF_Run(session, options,\n",
      "\u001b[0;32m/Users/vitchyr/anaconda/envs/rllab3/lib/python3.5/site-packages/tensorflow/python/client/session.py\u001b[0m in \u001b[0;36m_extend_graph\u001b[0;34m(self)\u001b[0m\n\u001b[1;32m    755\u001b[0m         \u001b[0;32mwith\u001b[0m \u001b[0merrors\u001b[0m\u001b[0;34m.\u001b[0m\u001b[0mraise_exception_on_not_ok_status\u001b[0m\u001b[0;34m(\u001b[0m\u001b[0;34m)\u001b[0m \u001b[0;32mas\u001b[0m \u001b[0mstatus\u001b[0m\u001b[0;34m:\u001b[0m\u001b[0;34m\u001b[0m\u001b[0m\n\u001b[1;32m    756\u001b[0m           tf_session.TF_ExtendGraph(\n\u001b[0;32m--> 757\u001b[0;31m               self._session, graph_def.SerializeToString(), status)\n\u001b[0m\u001b[1;32m    758\u001b[0m         \u001b[0mself\u001b[0m\u001b[0;34m.\u001b[0m\u001b[0m_opened\u001b[0m \u001b[0;34m=\u001b[0m \u001b[0;32mTrue\u001b[0m\u001b[0;34m\u001b[0m\u001b[0m\n\u001b[1;32m    759\u001b[0m \u001b[0;34m\u001b[0m\u001b[0m\n",
      "\u001b[0;31mKeyboardInterrupt\u001b[0m: "
     ]
    }
   ],
   "source": [
    "o_delta = o_high - o_low\n",
    "for dim_changing in range(4):\n",
    "    num_states = 1000\n",
    "    base_state = np.random.rand(1, o_dim) * o_delta + o_low\n",
    "#     base_state = np.zeros((1, o_dim))\n",
    "    linear_states = np.vstack([base_state for _ in range(num_states)])\n",
    "    linear_states[:, dim_changing] = np.linspace(o_low, o_high, num_states)\n",
    "    print(linear_states)\n",
    "    \n",
    "    policy_output = np.vstack([policy.get_action(state)[0] for state in linear_states])\n",
    "    \n",
    "    plt.plot(linear_states[:, dim_changing], policy_output)\n",
    "    plt.xlabel('State {0} dimension'.format(dim_changing))\n",
    "    plt.ylabel('Policy Output')\n",
    "    plt.show()"
   ]
  },
  {
   "cell_type": "code",
   "execution_count": null,
   "metadata": {
    "collapsed": true
   },
   "outputs": [],
   "source": []
  }
 ],
 "metadata": {
  "kernelspec": {
   "display_name": "Python 3",
   "language": "python",
   "name": "python3"
  },
  "language_info": {
   "codemirror_mode": {
    "name": "ipython",
    "version": 3
   },
   "file_extension": ".py",
   "mimetype": "text/x-python",
   "name": "python",
   "nbconvert_exporter": "python",
   "pygments_lexer": "ipython3",
   "version": "3.5.2"
  },
  "widgets": {
   "state": {},
   "version": "1.1.2"
  }
 },
 "nbformat": 4,
 "nbformat_minor": 2
}
