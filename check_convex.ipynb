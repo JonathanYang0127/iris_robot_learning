{
 "cells": [
  {
   "cell_type": "code",
   "execution_count": 1,
   "metadata": {
    "collapsed": false
   },
   "outputs": [],
   "source": [
    "import tensorflow as tf\n",
    "\n",
    "from algos.convex_naf import ConvexNAFAlgorithm\n",
    "from algos.ddpg import DDPG as MyDDPG\n",
    "from qfunctions.convex_naf_qfunction import ConcaveNAF\n",
    "from qfunctions.nn_qfunction import FeedForwardCritic\n",
    "from qfunctions.quadratic_naf_qfunction import QuadraticNAF\n",
    "from qfunctions.quadratic_qf import QuadraticQF\n",
    "from policies.nn_policy import FeedForwardPolicy\n",
    "from rllab.exploration_strategies.ou_strategy import OUStrategy\n",
    "\n",
    "from rllab.envs.box2d.cartpole_env import CartpoleEnv\n",
    "from rllab.envs.normalized_env import normalize\n",
    "\n",
    "import matplotlib.pyplot as plt\n",
    "import numpy as np"
   ]
  },
  {
   "cell_type": "code",
   "execution_count": 2,
   "metadata": {
    "collapsed": true
   },
   "outputs": [],
   "source": [
    "BATCH_SIZE = 128\n",
    "N_EPOCHS = 10\n",
    "EPOCH_LENGTH = 100\n",
    "EVAL_SAMPLES = 100\n",
    "DISCOUNT = 0.99\n",
    "QF_LEARNING_RATE = 1e-3\n",
    "POLICY_LEARNING_RATE = 1e-4\n",
    "BATCH_LEARNING_RATE = 1e-2\n",
    "SOFT_TARGET_TAU = 1e-2\n",
    "REPLAY_POOL_SIZE = 1000000\n",
    "MIN_POOL_SIZE = 256\n",
    "SCALE_REWARD = 1.0\n",
    "QF_WEIGHT_DECAY = 0.01\n",
    "MAX_PATH_LENGTH = 1000\n",
    "N_UPDATES_PER_TIME_STEP = 5\n",
    "\n",
    "QF_TYPE = ''"
   ]
  },
  {
   "cell_type": "code",
   "execution_count": 3,
   "metadata": {
    "collapsed": false
   },
   "outputs": [
    {
     "name": "stdout",
     "output_type": "stream",
     "text": [
      "Making SGD optimizer\n",
      "/Users/vitchyr/git/rail-rl/algos/naf.py\n",
      "qf params =\n",
      "['qf/advantage_function/observation_mlp/weights:0', 'qf/advantage_function/observation_mlp/bias:0', 'qf/advantage_function/z/Wz_1:0', 'qf/advantage_function/z/bz_1:0', 'qf/advantage_function/z/Wzu_1:0', 'qf/advantage_function/z/Wy_1:0', 'qf/advantage_function/z/by_1:0', 'qf/advantage_function/z/Wyu_1:0', 'qf/advantage_function/z/Wu_1:0', 'qf/advantage_function/z/b_1:0', 'qf/advantage_function/z/Wz_2:0', 'qf/advantage_function/z/bz_2:0', 'qf/advantage_function/z/Wzu_2:0', 'qf/advantage_function/z/Wy_2:0', 'qf/advantage_function/z/by_2:0', 'qf/advantage_function/z/Wyu_2:0', 'qf/advantage_function/z/Wu_2:0', 'qf/advantage_function/z/b_2:0', 'qf/V_function/hidden0/weights:0', 'qf/V_function/hidden0/bias:0', 'qf/V_function/hidden1/weights:0', 'qf/V_function/hidden1/bias:0', 'qf/V_function/weights:0', 'qf/V_function/bias:0']\n"
     ]
    }
   ],
   "source": [
    "env = normalize(CartpoleEnv())\n",
    "policy_params = dict(\n",
    "    observation_hidden_sizes=(100, 100),\n",
    "    hidden_nonlinearity=tf.nn.relu,\n",
    "    output_nonlinearity=tf.nn.tanh,\n",
    ")\n",
    "algo_params = dict(\n",
    "    batch_size=BATCH_SIZE,\n",
    "    n_epochs=N_EPOCHS,\n",
    "    epoch_length=EPOCH_LENGTH,\n",
    "    eval_samples=EVAL_SAMPLES,\n",
    "    discount=DISCOUNT,\n",
    "#     policy_learning_rate=POLICY_LEARNING_RATE,\n",
    "    qf_learning_rate=QF_LEARNING_RATE,\n",
    "    soft_target_tau=SOFT_TARGET_TAU,\n",
    "    replay_pool_size=REPLAY_POOL_SIZE,\n",
    "    min_pool_size=MIN_POOL_SIZE,\n",
    "    scale_reward=SCALE_REWARD,\n",
    "    max_path_length=MAX_PATH_LENGTH,\n",
    "    qf_weight_decay=QF_WEIGHT_DECAY,\n",
    ")\n",
    "\n",
    "es = OUStrategy(env_spec=env.spec)\n",
    "# policy = FeedForwardPolicy(\n",
    "#     name_or_scope=\"policy\",\n",
    "#     env_spec=env.spec,\n",
    "#     **policy_params\n",
    "# )\n",
    "# qf = QuadraticNAF(\n",
    "#     name_or_scope=\"quadratic_qfunction\",\n",
    "#     env_spec=env.spec,\n",
    "# )\n",
    "# qf = FeedForwardCritic(\n",
    "#     name_or_scope=\"feed_forward_qfunction\",\n",
    "#     env_spec=env.spec,\n",
    "# )\n",
    "# algorithm = MyDDPG(\n",
    "#     env,\n",
    "#     es,\n",
    "#     policy,\n",
    "#     qf,\n",
    "#     **algo_params\n",
    "# )\n",
    "\n",
    "optimizer_type = 'sgd'\n",
    "qf = ConcaveNAF(\n",
    "    name_or_scope=\"qf\",\n",
    "    env_spec=env.spec,\n",
    "    optimizer_type=optimizer_type,\n",
    ")\n",
    "algorithm = ConvexNAFAlgorithm(\n",
    "    env,\n",
    "    es,\n",
    "    qf,\n",
    "    **algo_params\n",
    ")\n"
   ]
  },
  {
   "cell_type": "code",
   "execution_count": 4,
   "metadata": {
    "collapsed": true
   },
   "outputs": [],
   "source": [
    "policy = qf.implicit_policy"
   ]
  },
  {
   "cell_type": "code",
   "execution_count": 7,
   "metadata": {
    "collapsed": false
   },
   "outputs": [
    {
     "name": "stdout",
     "output_type": "stream",
     "text": [
      "2016-12-16 10:03:52.988920 PST | Populating workers...\n",
      "2016-12-16 10:03:52.990529 PST | Populated\n",
      "2016-12-16 10:03:52.993512 PST | Epoch #0 | Training started\n",
      "2016-12-16 10:04:14.684406 PST | Epoch #0 | Training finished. Time: 21.68956685066223\n",
      "2016-12-16 10:04:14.685982 PST | Epoch #1 | Training started\n",
      "2016-12-16 10:04:33.251191 PST | Epoch #1 | Training finished. Time: 18.562299013137817\n",
      "2016-12-16 10:04:33.252856 PST | Epoch #2 | Training started\n",
      "2016-12-16 10:04:48.233696 PST | Epoch #2 | Training finished. Time: 14.979077100753784\n",
      "2016-12-16 10:04:48.235453 PST | Epoch #2 | Collecting samples for evaluation\n"
     ]
    },
    {
     "name": "stderr",
     "output_type": "stream",
     "text": [
      "0%                          100%\n",
      "[##############################] | ETA: 00:00:00\n",
      "Total time elapsed: 00:00:16\n"
     ]
    },
    {
     "name": "stdout",
     "output_type": "stream",
     "text": [
      "2016-12-16 10:05:20.526896 PST | Epoch #2 | Eval time: 32.29155993461609\n",
      "2016-12-16 10:05:20.541979 PST | ---------------------  ----------\n",
      "2016-12-16 10:05:20.547117 PST | Epoch                    2\n",
      "2016-12-16 10:05:20.551491 PST | AverageReturn           91.9455\n",
      "2016-12-16 10:05:20.559752 PST | QfLoss                  13.6301\n",
      "2016-12-16 10:05:20.564259 PST | YsMean                   9.76823\n",
      "2016-12-16 10:05:20.566752 PST | YsStd                    3.22748\n",
      "2016-12-16 10:05:20.569047 PST | YsMax                   11.4575\n",
      "2016-12-16 10:05:20.573464 PST | YsMin                    0\n",
      "2016-12-16 10:05:20.575848 PST | QfOutputMean             8.66451\n",
      "2016-12-16 10:05:20.579577 PST | QfOutputStd              0.473467\n",
      "2016-12-16 10:05:20.582987 PST | QfOutputMax             10.7947\n",
      "2016-12-16 10:05:20.594181 PST | QfOutputMin              7.97825\n",
      "2016-12-16 10:05:20.595587 PST | TargetVfOutputMean       0.8144\n",
      "2016-12-16 10:05:20.596819 PST | TargetVfOutputStd        0.236981\n",
      "2016-12-16 10:05:20.598078 PST | TargetVfOutputMax        1.49202\n",
      "2016-12-16 10:05:20.599227 PST | TargetVfOutputMin        0.504248\n",
      "2016-12-16 10:05:20.600474 PST | RewardsMean              9.01427\n",
      "2016-12-16 10:05:20.601710 PST | RewardsStd               2.97192\n",
      "2016-12-16 10:05:20.603003 PST | RewardsMax              10\n",
      "2016-12-16 10:05:20.604154 PST | RewardsMin               0\n",
      "2016-12-16 10:05:20.605419 PST | ReturnsMean             91.9455\n",
      "2016-12-16 10:05:20.606735 PST | ReturnsStd              45.5596\n",
      "2016-12-16 10:05:20.607931 PST | ReturnsMax             169.951\n",
      "2016-12-16 10:05:20.609293 PST | ReturnsMin              19.9669\n",
      "2016-12-16 10:05:20.610451 PST | DiscountedReturnsMean   87.3113\n",
      "2016-12-16 10:05:20.611727 PST | DiscountedReturnsStd    41.6897\n",
      "2016-12-16 10:05:20.612920 PST | DiscountedReturnsMax   157.015\n",
      "2016-12-16 10:05:20.614198 PST | DiscountedReturnsMin    19.8671\n",
      "2016-12-16 10:05:20.615402 PST | PolicyOutputMean         0\n",
      "2016-12-16 10:05:20.616707 PST | PolicyOutputStd          0\n",
      "2016-12-16 10:05:20.617920 PST | PolicyOutputMax          0\n",
      "2016-12-16 10:05:20.619281 PST | PolicyOutputMin          0\n",
      "2016-12-16 10:05:20.620641 PST | TrainingReturnsMean     46.576\n",
      "2016-12-16 10:05:20.621775 PST | TrainingReturnsStd      28.0719\n",
      "2016-12-16 10:05:20.623038 PST | TrainingReturnsMax     139.969\n",
      "2016-12-16 10:05:20.624353 PST | TrainingReturnsMin       9.98296\n",
      "2016-12-16 10:05:20.625725 PST | ---------------------  ----------\n",
      "2016-12-16 10:05:20.627064 PST | Epoch #3 | Training started\n",
      "2016-12-16 10:05:37.947415 PST | Epoch #3 | Training finished. Time: 17.319031953811646\n",
      "2016-12-16 10:05:37.948812 PST | Epoch #3 | Collecting samples for evaluation\n"
     ]
    },
    {
     "name": "stderr",
     "output_type": "stream",
     "text": [
      "0%                          100%\n",
      "[##############################] | ETA: 00:00:00\n",
      "Total time elapsed: 00:00:16\n"
     ]
    },
    {
     "name": "stdout",
     "output_type": "stream",
     "text": [
      "2016-12-16 10:06:17.150417 PST | Epoch #3 | Eval time: 39.20159101486206\n",
      "2016-12-16 10:06:17.155208 PST | ---------------------  ---------\n",
      "2016-12-16 10:06:17.160477 PST | Epoch                    3\n",
      "2016-12-16 10:06:17.164166 PST | AverageReturn           73.788\n",
      "2016-12-16 10:06:17.167526 PST | QfLoss                  20.9694\n",
      "2016-12-16 10:06:17.170711 PST | YsMean                  13.5023\n",
      "2016-12-16 10:06:17.173573 PST | YsStd                    4.98264\n",
      "2016-12-16 10:06:17.177010 PST | YsMax                   16.2971\n",
      "2016-12-16 10:06:17.179734 PST | YsMin                    0\n",
      "2016-12-16 10:06:17.182263 PST | QfOutputMean            14.321\n",
      "2016-12-16 10:06:17.187410 PST | QfOutputStd              1.22536\n",
      "2016-12-16 10:06:17.190180 PST | QfOutputMax             16.3797\n",
      "2016-12-16 10:06:17.192431 PST | QfOutputMin             10.4513\n",
      "2016-12-16 10:06:17.194736 PST | TargetVfOutputMean       5.40634\n",
      "2016-12-16 10:06:17.197122 PST | TargetVfOutputStd        0.37902\n",
      "2016-12-16 10:06:17.201409 PST | TargetVfOutputMax        6.37852\n",
      "2016-12-16 10:06:17.204416 PST | TargetVfOutputMin        4.43706\n",
      "2016-12-16 10:06:17.207046 PST | RewardsMean              8.8004\n",
      "2016-12-16 10:06:17.209652 PST | RewardsStd               3.23847\n",
      "2016-12-16 10:06:17.212510 PST | RewardsMax               9.99988\n",
      "2016-12-16 10:06:17.220109 PST | RewardsMin               0\n",
      "2016-12-16 10:06:17.223385 PST | ReturnsMean             73.788\n",
      "2016-12-16 10:06:17.226921 PST | ReturnsStd              33.8651\n",
      "2016-12-16 10:06:17.229668 PST | ReturnsMax             159.952\n",
      "2016-12-16 10:06:17.232505 PST | ReturnsMin              39.9459\n",
      "2016-12-16 10:06:17.234802 PST | DiscountedReturnsMean   70.9441\n",
      "2016-12-16 10:06:17.237759 PST | DiscountedReturnsStd    31.0039\n",
      "2016-12-16 10:06:17.240352 PST | DiscountedReturnsMax   148.5\n",
      "2016-12-16 10:06:17.243236 PST | DiscountedReturnsMin    39.3508\n",
      "2016-12-16 10:06:17.245382 PST | PolicyOutputMean         0\n",
      "2016-12-16 10:06:17.248804 PST | PolicyOutputStd          0\n",
      "2016-12-16 10:06:17.251026 PST | PolicyOutputMax          0\n",
      "2016-12-16 10:06:17.253541 PST | PolicyOutputMin          0\n",
      "2016-12-16 10:06:17.256307 PST | TrainingReturnsMean     75.4234\n",
      "2016-12-16 10:06:17.262155 PST | TrainingReturnsStd      43.7557\n",
      "2016-12-16 10:06:17.266750 PST | TrainingReturnsMax     169.933\n",
      "2016-12-16 10:06:17.270017 PST | TrainingReturnsMin      19.9737\n",
      "2016-12-16 10:06:17.273155 PST | ---------------------  ---------\n",
      "2016-12-16 10:06:17.275712 PST | Epoch #4 | Training started\n",
      "2016-12-16 10:06:38.930686 PST | Epoch #4 | Training finished. Time: 21.65357780456543\n",
      "2016-12-16 10:06:38.932197 PST | Epoch #4 | Collecting samples for evaluation\n"
     ]
    },
    {
     "name": "stderr",
     "output_type": "stream",
     "text": [
      "0%                          100%\n",
      "[##############################] | ETA: 00:00:00\n",
      "Total time elapsed: 00:00:21\n"
     ]
    },
    {
     "name": "stdout",
     "output_type": "stream",
     "text": [
      "2016-12-16 10:07:19.156842 PST | Epoch #4 | Eval time: 40.22462797164917\n",
      "2016-12-16 10:07:19.160862 PST | ---------------------  ---------\n",
      "2016-12-16 10:07:19.168512 PST | Epoch                    4\n",
      "2016-12-16 10:07:19.173802 PST | AverageReturn           85.4062\n",
      "2016-12-16 10:07:19.179920 PST | QfLoss                  25.2618\n",
      "2016-12-16 10:07:19.185879 PST | YsMean                  19.1626\n",
      "2016-12-16 10:07:19.191358 PST | YsStd                    6.63298\n",
      "2016-12-16 10:07:19.196250 PST | YsMax                   22.6894\n",
      "2016-12-16 10:07:19.200048 PST | YsMin                    0\n",
      "2016-12-16 10:07:19.204905 PST | QfOutputMean            19.0148\n",
      "2016-12-16 10:07:19.210845 PST | QfOutputStd              2.7698\n",
      "2016-12-16 10:07:19.216110 PST | QfOutputMax             22.2763\n",
      "2016-12-16 10:07:19.221314 PST | QfOutputMin             11.3505\n",
      "2016-12-16 10:07:19.226003 PST | TargetVfOutputMean      11.6574\n",
      "2016-12-16 10:07:19.229165 PST | TargetVfOutputStd        1.08922\n",
      "2016-12-16 10:07:19.235353 PST | TargetVfOutputMax       12.8181\n",
      "2016-12-16 10:07:19.241041 PST | TargetVfOutputMin        8.87028\n",
      "2016-12-16 10:07:19.243575 PST | RewardsMean              8.94731\n",
      "2016-12-16 10:07:19.245878 PST | RewardsStd               3.06074\n",
      "2016-12-16 10:07:19.248984 PST | RewardsMax              10\n",
      "2016-12-16 10:07:19.251691 PST | RewardsMin               0\n",
      "2016-12-16 10:07:19.254320 PST | ReturnsMean             85.4062\n",
      "2016-12-16 10:07:19.258750 PST | ReturnsStd              42.9279\n",
      "2016-12-16 10:07:19.262046 PST | ReturnsMax             179.95\n",
      "2016-12-16 10:07:19.264552 PST | ReturnsMin              29.951\n",
      "2016-12-16 10:07:19.267244 PST | DiscountedReturnsMean   81.407\n",
      "2016-12-16 10:07:19.270810 PST | DiscountedReturnsStd    39.1404\n",
      "2016-12-16 10:07:19.273699 PST | DiscountedReturnsMax   165.443\n",
      "2016-12-16 10:07:19.276046 PST | DiscountedReturnsMin    29.6525\n",
      "2016-12-16 10:07:19.279393 PST | PolicyOutputMean         0\n",
      "2016-12-16 10:07:19.282573 PST | PolicyOutputStd          0\n",
      "2016-12-16 10:07:19.285170 PST | PolicyOutputMax          0\n",
      "2016-12-16 10:07:19.288394 PST | PolicyOutputMin          0\n",
      "2016-12-16 10:07:19.290463 PST | TrainingReturnsMean     54.634\n",
      "2016-12-16 10:07:19.292740 PST | TrainingReturnsStd      37.028\n",
      "2016-12-16 10:07:19.294823 PST | TrainingReturnsMax     169.965\n",
      "2016-12-16 10:07:19.297837 PST | TrainingReturnsMin       9.98237\n",
      "2016-12-16 10:07:19.300735 PST | ---------------------  ---------\n",
      "2016-12-16 10:07:19.303269 PST | Epoch #5 | Training started\n",
      "2016-12-16 10:07:38.431622 PST | Epoch #5 | Training finished. Time: 19.125144004821777\n",
      "2016-12-16 10:07:38.433508 PST | Epoch #5 | Collecting samples for evaluation\n"
     ]
    },
    {
     "name": "stderr",
     "output_type": "stream",
     "text": [
      "0%                          100%\n",
      "[##############################] | ETA: 00:00:00\n",
      "Total time elapsed: 00:00:19\n"
     ]
    },
    {
     "name": "stdout",
     "output_type": "stream",
     "text": [
      "2016-12-16 10:08:17.843893 PST | Epoch #5 | Eval time: 39.41037917137146\n",
      "2016-12-16 10:08:17.847964 PST | ---------------------  ---------\n",
      "2016-12-16 10:08:17.850357 PST | Epoch                    5\n",
      "2016-12-16 10:08:17.852907 PST | AverageReturn           78.2665\n",
      "2016-12-16 10:08:17.855239 PST | QfLoss                  37.4776\n",
      "2016-12-16 10:08:17.856768 PST | YsMean                  24.9054\n",
      "2016-12-16 10:08:17.859168 PST | YsStd                    9.21298\n",
      "2016-12-16 10:08:17.861696 PST | YsMax                   31.1996\n",
      "2016-12-16 10:08:17.864260 PST | YsMin                    0\n",
      "2016-12-16 10:08:17.866601 PST | QfOutputMean            25.1054\n",
      "2016-12-16 10:08:17.869172 PST | QfOutputStd              5.05113\n",
      "2016-12-16 10:08:17.871671 PST | QfOutputMax             31.3787\n",
      "2016-12-16 10:08:17.874370 PST | QfOutputMin             10.4583\n",
      "2016-12-16 10:08:17.876883 PST | TargetVfOutputMean      18.5257\n",
      "2016-12-16 10:08:17.879218 PST | TargetVfOutputStd        2.50659\n",
      "2016-12-16 10:08:17.881494 PST | TargetVfOutputMax       21.4222\n",
      "2016-12-16 10:08:17.883773 PST | TargetVfOutputMin       10.8555\n",
      "2016-12-16 10:08:17.887340 PST | RewardsMean              8.86036\n",
      "2016-12-16 10:08:17.889730 PST | RewardsStd               3.16577\n",
      "2016-12-16 10:08:17.893970 PST | RewardsMax               9.99986\n",
      "2016-12-16 10:08:17.896102 PST | RewardsMin               0\n",
      "2016-12-16 10:08:17.898254 PST | ReturnsMean             78.2665\n",
      "2016-12-16 10:08:17.900833 PST | ReturnsStd              29.1034\n",
      "2016-12-16 10:08:17.903370 PST | ReturnsMax             129.941\n",
      "2016-12-16 10:08:17.906073 PST | ReturnsMin              29.9602\n",
      "2016-12-16 10:08:17.908651 PST | DiscountedReturnsMean   75.2492\n",
      "2016-12-16 10:08:17.911210 PST | DiscountedReturnsStd    27.0292\n",
      "2016-12-16 10:08:17.914107 PST | DiscountedReturnsMax   122.425\n",
      "2016-12-16 10:08:17.916420 PST | DiscountedReturnsMin    29.6617\n",
      "2016-12-16 10:08:17.919581 PST | PolicyOutputMean         0\n",
      "2016-12-16 10:08:17.926601 PST | PolicyOutputStd          0\n",
      "2016-12-16 10:08:17.929723 PST | PolicyOutputMax          0\n",
      "2016-12-16 10:08:17.932281 PST | PolicyOutputMin          0\n",
      "2016-12-16 10:08:17.934763 PST | TrainingReturnsMean     74.961\n",
      "2016-12-16 10:08:17.936990 PST | TrainingReturnsStd      37.9551\n",
      "2016-12-16 10:08:17.939393 PST | TrainingReturnsMax     149.968\n",
      "2016-12-16 10:08:17.941731 PST | TrainingReturnsMin      19.9748\n",
      "2016-12-16 10:08:17.944637 PST | ---------------------  ---------\n",
      "2016-12-16 10:08:17.946766 PST | Epoch #6 | Training started\n",
      "2016-12-16 10:08:36.509265 PST | Epoch #6 | Training finished. Time: 18.56125497817993\n",
      "2016-12-16 10:08:36.512148 PST | Epoch #6 | Collecting samples for evaluation\n"
     ]
    },
    {
     "name": "stderr",
     "output_type": "stream",
     "text": [
      "0%                          100%\n",
      "[##############################] | ETA: 00:00:00\n",
      "Total time elapsed: 00:00:14\n"
     ]
    },
    {
     "name": "stdout",
     "output_type": "stream",
     "text": [
      "2016-12-16 10:09:06.751201 PST | Epoch #6 | Eval time: 30.239065170288086\n",
      "2016-12-16 10:09:06.754533 PST | ---------------------  ---------\n",
      "2016-12-16 10:09:06.756355 PST | Epoch                    6\n",
      "2016-12-16 10:09:06.757891 PST | AverageReturn           73.2801\n",
      "2016-12-16 10:09:06.759326 PST | QfLoss                  39.4801\n",
      "2016-12-16 10:09:06.761667 PST | YsMean                  28.61\n",
      "2016-12-16 10:09:06.763056 PST | YsStd                   11.3983\n",
      "2016-12-16 10:09:06.764706 PST | YsMax                   38.2449\n",
      "2016-12-16 10:09:06.766301 PST | YsMin                    0\n",
      "2016-12-16 10:09:06.767920 PST | QfOutputMean            28.8557\n",
      "2016-12-16 10:09:06.770623 PST | QfOutputStd              6.97601\n",
      "2016-12-16 10:09:06.772047 PST | QfOutputMax             37.3229\n",
      "2016-12-16 10:09:06.773451 PST | QfOutputMin             10.0613\n",
      "2016-12-16 10:09:06.776468 PST | TargetVfOutputMean      23.3488\n",
      "2016-12-16 10:09:06.778807 PST | TargetVfOutputStd        4.61543\n",
      "2016-12-16 10:09:06.780182 PST | TargetVfOutputMax       28.5354\n",
      "2016-12-16 10:09:06.782352 PST | TargetVfOutputMin       11.4078\n",
      "2016-12-16 10:09:06.783949 PST | RewardsMean              8.79361\n",
      "2016-12-16 10:09:06.785661 PST | RewardsStd               3.24726\n",
      "2016-12-16 10:09:06.787840 PST | RewardsMax               9.9994\n",
      "2016-12-16 10:09:06.789885 PST | RewardsMin               0\n",
      "2016-12-16 10:09:06.792050 PST | ReturnsMean             73.2801\n",
      "2016-12-16 10:09:06.793542 PST | ReturnsStd              37.928\n",
      "2016-12-16 10:09:06.795126 PST | ReturnsMax             139.954\n",
      "2016-12-16 10:09:06.796828 PST | ReturnsMin              19.9656\n",
      "2016-12-16 10:09:06.798829 PST | DiscountedReturnsMean   70.3291\n",
      "2016-12-16 10:09:06.800817 PST | DiscountedReturnsStd    35.1733\n",
      "2016-12-16 10:09:06.803027 PST | DiscountedReturnsMax   131.213\n",
      "2016-12-16 10:09:06.804742 PST | DiscountedReturnsMin    19.8658\n",
      "2016-12-16 10:09:06.806642 PST | PolicyOutputMean         0\n",
      "2016-12-16 10:09:06.809590 PST | PolicyOutputStd          0\n",
      "2016-12-16 10:09:06.812186 PST | PolicyOutputMax          0\n",
      "2016-12-16 10:09:06.818848 PST | PolicyOutputMin          0\n",
      "2016-12-16 10:09:06.824031 PST | TrainingReturnsMean     77.2283\n",
      "2016-12-16 10:09:06.826453 PST | TrainingReturnsStd      30.7649\n",
      "2016-12-16 10:09:06.832469 PST | TrainingReturnsMax     129.965\n",
      "2016-12-16 10:09:06.837744 PST | TrainingReturnsMin      29.9719\n",
      "2016-12-16 10:09:06.845893 PST | ---------------------  ---------\n",
      "2016-12-16 10:09:06.849649 PST | Epoch #7 | Training started\n",
      "2016-12-16 10:09:23.725767 PST | Epoch #7 | Training finished. Time: 16.86903214454651\n",
      "2016-12-16 10:09:23.727965 PST | Epoch #7 | Collecting samples for evaluation\n"
     ]
    },
    {
     "name": "stderr",
     "output_type": "stream",
     "text": [
      "0%                          100%\n",
      "[##############################] | ETA: 00:00:00\n",
      "Total time elapsed: 00:00:18\n"
     ]
    },
    {
     "name": "stdout",
     "output_type": "stream",
     "text": [
      "2016-12-16 10:10:01.960834 PST | Epoch #7 | Eval time: 38.232856035232544\n",
      "2016-12-16 10:10:01.963669 PST | ---------------------  ---------\n",
      "2016-12-16 10:10:01.966461 PST | Epoch                    7\n",
      "2016-12-16 10:10:01.969197 PST | AverageReturn           73.7893\n",
      "2016-12-16 10:10:01.971300 PST | QfLoss                  36.0876\n",
      "2016-12-16 10:10:01.973391 PST | YsMean                  30.822\n",
      "2016-12-16 10:10:01.975102 PST | YsStd                   13.3822\n",
      "2016-12-16 10:10:01.976737 PST | YsMax                   45.4841\n",
      "2016-12-16 10:10:01.978066 PST | YsMin                    0\n",
      "2016-12-16 10:10:01.980876 PST | QfOutputMean            28.6602\n",
      "2016-12-16 10:10:01.983003 PST | QfOutputStd             10.4111\n",
      "2016-12-16 10:10:01.985642 PST | QfOutputMax             42.0931\n",
      "2016-12-16 10:10:01.988186 PST | QfOutputMin              2.7511\n",
      "2016-12-16 10:10:01.990359 PST | TargetVfOutputMean      26.3493\n",
      "2016-12-16 10:10:01.992592 PST | TargetVfOutputStd        7.76067\n",
      "2016-12-16 10:10:01.993897 PST | TargetVfOutputMax       35.851\n",
      "2016-12-16 10:10:01.995279 PST | TargetVfOutputMin        5.33068\n",
      "2016-12-16 10:10:01.996788 PST | RewardsMean              8.80056\n",
      "2016-12-16 10:10:01.998106 PST | RewardsStd               3.23852\n",
      "2016-12-16 10:10:02.000136 PST | RewardsMax              10\n",
      "2016-12-16 10:10:02.003262 PST | RewardsMin               0\n",
      "2016-12-16 10:10:02.005330 PST | ReturnsMean             73.7893\n",
      "2016-12-16 10:10:02.006553 PST | ReturnsStd              34.533\n",
      "2016-12-16 10:10:02.007849 PST | ReturnsMax             129.95\n",
      "2016-12-16 10:10:02.009852 PST | ReturnsMin              29.9549\n",
      "2016-12-16 10:10:02.011672 PST | DiscountedReturnsMean   70.9187\n",
      "2016-12-16 10:10:02.013565 PST | DiscountedReturnsStd    32.0839\n",
      "2016-12-16 10:10:02.015939 PST | DiscountedReturnsMax   122.434\n",
      "2016-12-16 10:10:02.018071 PST | DiscountedReturnsMin    29.6565\n",
      "2016-12-16 10:10:02.020460 PST | PolicyOutputMean         0\n",
      "2016-12-16 10:10:02.022520 PST | PolicyOutputStd          0\n",
      "2016-12-16 10:10:02.024041 PST | PolicyOutputMax          0\n",
      "2016-12-16 10:10:02.026437 PST | PolicyOutputMin          0\n",
      "2016-12-16 10:10:02.028288 PST | TrainingReturnsMean     63.5329\n",
      "2016-12-16 10:10:02.029801 PST | TrainingReturnsStd      32.8531\n",
      "2016-12-16 10:10:02.031882 PST | TrainingReturnsMax     129.905\n",
      "2016-12-16 10:10:02.033945 PST | TrainingReturnsMin       9.98034\n",
      "2016-12-16 10:10:02.035318 PST | ---------------------  ---------\n",
      "2016-12-16 10:10:02.036964 PST | Epoch #8 | Training started\n",
      "2016-12-16 10:10:26.054781 PST | Epoch #8 | Training finished. Time: 24.01617407798767\n",
      "2016-12-16 10:10:26.056295 PST | Epoch #8 | Collecting samples for evaluation\n"
     ]
    },
    {
     "name": "stderr",
     "output_type": "stream",
     "text": [
      "0%                          100%\n",
      "[##############################] | ETA: 00:00:00\n",
      "Total time elapsed: 00:00:21\n"
     ]
    },
    {
     "name": "stdout",
     "output_type": "stream",
     "text": [
      "2016-12-16 10:11:08.892183 PST | Epoch #8 | Eval time: 42.83587718009949\n",
      "2016-12-16 10:11:08.895792 PST | ---------------------  ---------\n",
      "2016-12-16 10:11:08.899305 PST | Epoch                    8\n",
      "2016-12-16 10:11:08.902855 PST | AverageReturn          104.945\n",
      "2016-12-16 10:11:08.905514 PST | QfLoss                  34.7473\n",
      "2016-12-16 10:11:08.908846 PST | YsMean                  37.8326\n",
      "2016-12-16 10:11:08.912060 PST | YsStd                   14.7872\n",
      "2016-12-16 10:11:08.913797 PST | YsMax                   52.7442\n",
      "2016-12-16 10:11:08.916977 PST | YsMin                    0\n",
      "2016-12-16 10:11:08.919218 PST | QfOutputMean            34.5749\n",
      "2016-12-16 10:11:08.921304 PST | QfOutputStd             12.0099\n",
      "2016-12-16 10:11:08.924038 PST | QfOutputMax             48.0055\n",
      "2016-12-16 10:11:08.926618 PST | QfOutputMin              2.52608\n",
      "2016-12-16 10:11:08.928852 PST | TargetVfOutputMean      32.5069\n",
      "2016-12-16 10:11:08.931275 PST | TargetVfOutputStd        9.47761\n",
      "2016-12-16 10:11:08.933683 PST | TargetVfOutputMax       43.1854\n",
      "2016-12-16 10:11:08.936064 PST | TargetVfOutputMin        5.3194\n",
      "2016-12-16 10:11:08.938501 PST | RewardsMean              9.12569\n",
      "2016-12-16 10:11:08.941163 PST | RewardsStd               2.81625\n",
      "2016-12-16 10:11:08.943203 PST | RewardsMax              10\n",
      "2016-12-16 10:11:08.944810 PST | RewardsMin               0\n",
      "2016-12-16 10:11:08.946103 PST | ReturnsMean            104.945\n",
      "2016-12-16 10:11:08.948524 PST | ReturnsStd              72.2868\n",
      "2016-12-16 10:11:08.950638 PST | ReturnsMax             249.953\n",
      "2016-12-16 10:11:08.953308 PST | ReturnsMin              29.9627\n",
      "2016-12-16 10:11:08.955496 PST | DiscountedReturnsMean   97.7797\n",
      "2016-12-16 10:11:08.956801 PST | DiscountedReturnsStd    63.2\n",
      "2016-12-16 10:11:08.959025 PST | DiscountedReturnsMax   222.14\n",
      "2016-12-16 10:11:08.961660 PST | DiscountedReturnsMin    29.6641\n",
      "2016-12-16 10:11:08.963778 PST | PolicyOutputMean         0\n",
      "2016-12-16 10:11:08.965918 PST | PolicyOutputStd          0\n",
      "2016-12-16 10:11:08.967969 PST | PolicyOutputMax          0\n",
      "2016-12-16 10:11:08.970154 PST | PolicyOutputMin          0\n",
      "2016-12-16 10:11:08.971545 PST | TrainingReturnsMean     80.8724\n",
      "2016-12-16 10:11:08.972988 PST | TrainingReturnsStd      45.2067\n",
      "2016-12-16 10:11:08.974267 PST | TrainingReturnsMax     169.916\n",
      "2016-12-16 10:11:08.976393 PST | TrainingReturnsMin      29.9707\n",
      "2016-12-16 10:11:08.978455 PST | ---------------------  ---------\n",
      "2016-12-16 10:11:08.981654 PST | Epoch #9 | Training started\n",
      "2016-12-16 10:11:29.307119 PST | Epoch #9 | Training finished. Time: 20.323144912719727\n",
      "2016-12-16 10:11:29.309089 PST | Epoch #9 | Collecting samples for evaluation\n"
     ]
    },
    {
     "name": "stderr",
     "output_type": "stream",
     "text": [
      "0%                          100%\n",
      "[##############################] | ETA: 00:00:00\n",
      "Total time elapsed: 00:00:24\n"
     ]
    },
    {
     "name": "stdout",
     "output_type": "stream",
     "text": [
      "2016-12-16 10:12:17.040901 PST | Epoch #9 | Eval time: 47.73180890083313\n",
      "2016-12-16 10:12:17.044212 PST | ---------------------  ---------\n",
      "2016-12-16 10:12:17.046705 PST | Epoch                    9\n",
      "2016-12-16 10:12:17.049984 PST | AverageReturn          123.693\n",
      "2016-12-16 10:12:17.051708 PST | QfLoss                  20.6135\n",
      "2016-12-16 10:12:17.054558 PST | YsMean                  41.3172\n",
      "2016-12-16 10:12:17.057554 PST | YsStd                   16.7651\n",
      "2016-12-16 10:12:17.059952 PST | YsMax                   57.012\n",
      "2016-12-16 10:12:17.062939 PST | YsMin                    0\n",
      "2016-12-16 10:12:17.065712 PST | QfOutputMean            38.7544\n",
      "2016-12-16 10:12:17.067600 PST | QfOutputStd             14.3915\n",
      "2016-12-16 10:12:17.070236 PST | QfOutputMax             53.7171\n",
      "2016-12-16 10:12:17.072933 PST | QfOutputMin              4.71422\n",
      "2016-12-16 10:12:17.075541 PST | TargetVfOutputMean      35.7984\n",
      "2016-12-16 10:12:17.078537 PST | TargetVfOutputStd       12.3931\n",
      "2016-12-16 10:12:17.080880 PST | TargetVfOutputMax       47.4889\n",
      "2016-12-16 10:12:17.084241 PST | TargetVfOutputMin        4.77108\n",
      "2016-12-16 10:12:17.086824 PST | RewardsMean              9.2481\n",
      "2016-12-16 10:12:17.089316 PST | RewardsStd               2.62894\n",
      "2016-12-16 10:12:17.094180 PST | RewardsMax              10\n",
      "2016-12-16 10:12:17.097373 PST | RewardsMin               0\n",
      "2016-12-16 10:12:17.098703 PST | ReturnsMean            123.693\n",
      "2016-12-16 10:12:17.099953 PST | ReturnsStd              95.1233\n",
      "2016-12-16 10:12:17.101230 PST | ReturnsMax             339.946\n",
      "2016-12-16 10:12:17.102497 PST | ReturnsMin              39.9588\n",
      "2016-12-16 10:12:17.103651 PST | DiscountedReturnsMean  113.019\n",
      "2016-12-16 10:12:17.104916 PST | DiscountedReturnsStd    79.6699\n",
      "2016-12-16 10:12:17.106274 PST | DiscountedReturnsMax   289.407\n",
      "2016-12-16 10:12:17.107532 PST | DiscountedReturnsMin    39.3635\n",
      "2016-12-16 10:12:17.108807 PST | PolicyOutputMean         0\n",
      "2016-12-16 10:12:17.111569 PST | PolicyOutputStd          0\n",
      "2016-12-16 10:12:17.112978 PST | PolicyOutputMax          0\n",
      "2016-12-16 10:12:17.114569 PST | PolicyOutputMin          0\n",
      "2016-12-16 10:12:17.115787 PST | TrainingReturnsMean     64.9655\n",
      "2016-12-16 10:12:17.117649 PST | TrainingReturnsStd      32.4554\n",
      "2016-12-16 10:12:17.118887 PST | TrainingReturnsMax     119.974\n",
      "2016-12-16 10:12:17.120942 PST | TrainingReturnsMin       9.98368\n",
      "2016-12-16 10:12:17.122321 PST | ---------------------  ---------\n"
     ]
    }
   ],
   "source": [
    "algorithm.train()"
   ]
  },
  {
   "cell_type": "code",
   "execution_count": 4,
   "metadata": {
    "collapsed": false
   },
   "outputs": [
    {
     "name": "stdout",
     "output_type": "stream",
     "text": [
      "1\n",
      "4\n",
      "1.0\n",
      "-1.0\n"
     ]
    }
   ],
   "source": [
    "a_dim = qf.action_dim\n",
    "o_dim = qf.observation_dim\n",
    "o_high = env.spec.action_space.high[0]\n",
    "o_low = env.spec.action_space.low[0]\n",
    "print(a_dim)\n",
    "print(o_dim)\n",
    "print(o_high)\n",
    "print(o_low)"
   ]
  },
  {
   "cell_type": "markdown",
   "metadata": {},
   "source": [
    "# Plot QF"
   ]
  },
  {
   "cell_type": "code",
   "execution_count": 11,
   "metadata": {
    "collapsed": false
   },
   "outputs": [
    {
     "data": {
      "image/png": "[encoded data removed]",
      "text/plain": [
       "<matplotlib.figure.Figure at 0x1290b10b8>"
      ]
     },
     "metadata": {},
     "output_type": "display_data"
    }
   ],
   "source": [
    "num_actions = 100\n",
    "\n",
    "actions = np.linspace(-1, 1, num_actions)\n",
    "actions = np.expand_dims(actions, axis=1)\n",
    "random_state_single = np.random.rand(1, o_dim)\n",
    "random_state = np.vstack([random_state_single for _ in range(num_actions)])\n",
    "\n",
    "feed_dict = {\n",
    "    qf.action_input: actions,\n",
    "    qf.observation_input: random_state,\n",
    "}\n",
    "qf_output = qf.sess.run(\n",
    "    qf.output,\n",
    "    feed_dict=feed_dict\n",
    ")\n",
    "\n",
    "# plt.plot(np.tanh(actions), qf_output)\n",
    "plt.plot(actions, qf_output)\n",
    "plt.xlabel('Action')\n",
    "plt.ylabel('QF output')\n",
    "plt.show()"
   ]
  },
  {
   "cell_type": "markdown",
   "metadata": {},
   "source": [
    "# Inspect correctness of this quadratic function"
   ]
  },
  {
   "cell_type": "code",
   "execution_count": 8,
   "metadata": {
    "collapsed": false,
    "scrolled": true
   },
   "outputs": [
    {
     "ename": "AttributeError",
     "evalue": "'FeedForwardCritic' object has no attribute '_internal_qf'",
     "output_type": "error",
     "traceback": [
      "\u001b[0;31m---------------------------------------------------------------------------\u001b[0m",
      "\u001b[0;31mAttributeError\u001b[0m                            Traceback (most recent call last)",
      "\u001b[0;32m<ipython-input-8-43633fd3b850>\u001b[0m in \u001b[0;36m<module>\u001b[0;34m()\u001b[0m\n\u001b[1;32m      4\u001b[0m }\n\u001b[1;32m      5\u001b[0m L_params, L, implicit_policy_output = qf.sess.run(\n\u001b[0;32m----> 6\u001b[0;31m     \u001b[0;34m[\u001b[0m\u001b[0mqf\u001b[0m\u001b[0;34m.\u001b[0m\u001b[0m_internal_qf\u001b[0m\u001b[0;34m.\u001b[0m\u001b[0mL_params\u001b[0m\u001b[0;34m.\u001b[0m\u001b[0moutput\u001b[0m\u001b[0;34m,\u001b[0m \u001b[0mqf\u001b[0m\u001b[0;34m.\u001b[0m\u001b[0m_internal_qf\u001b[0m\u001b[0;34m.\u001b[0m\u001b[0mL\u001b[0m\u001b[0;34m,\u001b[0m \u001b[0mqf\u001b[0m\u001b[0;34m.\u001b[0m\u001b[0mimplicit_policy\u001b[0m\u001b[0;34m.\u001b[0m\u001b[0moutput\u001b[0m\u001b[0;34m]\u001b[0m\u001b[0;34m,\u001b[0m\u001b[0;34m\u001b[0m\u001b[0m\n\u001b[0m\u001b[1;32m      7\u001b[0m     \u001b[0mfeed_dict\u001b[0m\u001b[0;34m=\u001b[0m\u001b[0mfeed_dict\u001b[0m\u001b[0;34m\u001b[0m\u001b[0m\n\u001b[1;32m      8\u001b[0m )\n",
      "\u001b[0;31mAttributeError\u001b[0m: 'FeedForwardCritic' object has no attribute '_internal_qf'"
     ]
    }
   ],
   "source": [
    "feed_dict = {\n",
    "    qf.action_input: actions,\n",
    "    qf.observation_input: random_state,\n",
    "}\n",
    "L_params, L, implicit_policy_output = qf.sess.run(\n",
    "    [qf._internal_qf.L_params.output, qf._internal_qf.L, qf.implicit_policy.output],\n",
    "    feed_dict=feed_dict\n",
    ")\n",
    "\n",
    "expected_values = -0.5 * ((actions - implicit_policy_output) * L[0][0][0])**2\n",
    "plt.plot(actions, expected_values)\n",
    "plt.xlabel('Action')\n",
    "plt.ylabel('Expected QF output')\n",
    "plt.show()"
   ]
  },
  {
   "cell_type": "code",
   "execution_count": 9,
   "metadata": {
    "collapsed": false
   },
   "outputs": [
    {
     "ename": "NameError",
     "evalue": "name 'expected_values' is not defined",
     "output_type": "error",
     "traceback": [
      "\u001b[0;31m---------------------------------------------------------------------------\u001b[0m",
      "\u001b[0;31mNameError\u001b[0m                                 Traceback (most recent call last)",
      "\u001b[0;32m<ipython-input-9-361c34a666b1>\u001b[0m in \u001b[0;36m<module>\u001b[0;34m()\u001b[0m\n\u001b[0;32m----> 1\u001b[0;31m \u001b[0mplt\u001b[0m\u001b[0;34m.\u001b[0m\u001b[0mplot\u001b[0m\u001b[0;34m(\u001b[0m\u001b[0mactions\u001b[0m\u001b[0;34m,\u001b[0m \u001b[0mnp\u001b[0m\u001b[0;34m.\u001b[0m\u001b[0mabs\u001b[0m\u001b[0;34m(\u001b[0m\u001b[0mexpected_values\u001b[0m \u001b[0;34m-\u001b[0m \u001b[0mqf_output\u001b[0m\u001b[0;34m)\u001b[0m\u001b[0;34m)\u001b[0m\u001b[0;34m\u001b[0m\u001b[0m\n\u001b[0m\u001b[1;32m      2\u001b[0m \u001b[0mplt\u001b[0m\u001b[0;34m.\u001b[0m\u001b[0mxlabel\u001b[0m\u001b[0;34m(\u001b[0m\u001b[0;34m'Action'\u001b[0m\u001b[0;34m)\u001b[0m\u001b[0;34m\u001b[0m\u001b[0m\n\u001b[1;32m      3\u001b[0m \u001b[0mplt\u001b[0m\u001b[0;34m.\u001b[0m\u001b[0mylabel\u001b[0m\u001b[0;34m(\u001b[0m\u001b[0;34m'QF output error'\u001b[0m\u001b[0;34m)\u001b[0m\u001b[0;34m\u001b[0m\u001b[0m\n\u001b[1;32m      4\u001b[0m \u001b[0mplt\u001b[0m\u001b[0;34m.\u001b[0m\u001b[0mshow\u001b[0m\u001b[0;34m(\u001b[0m\u001b[0;34m)\u001b[0m\u001b[0;34m\u001b[0m\u001b[0m\n",
      "\u001b[0;31mNameError\u001b[0m: name 'expected_values' is not defined"
     ]
    }
   ],
   "source": [
    "plt.plot(actions, np.abs(expected_values - qf_output))\n",
    "plt.xlabel('Action')\n",
    "plt.ylabel('QF output error')\n",
    "plt.show()"
   ]
  },
  {
   "cell_type": "markdown",
   "metadata": {},
   "source": [
    "Make sure diagonal values are exponentiated corrected"
   ]
  },
  {
   "cell_type": "code",
   "execution_count": 10,
   "metadata": {
    "collapsed": false
   },
   "outputs": [
    {
     "ename": "NameError",
     "evalue": "name 'L' is not defined",
     "output_type": "error",
     "traceback": [
      "\u001b[0;31m---------------------------------------------------------------------------\u001b[0m",
      "\u001b[0;31mNameError\u001b[0m                                 Traceback (most recent call last)",
      "\u001b[0;32m<ipython-input-10-c358e95d9fb2>\u001b[0m in \u001b[0;36m<module>\u001b[0;34m()\u001b[0m\n\u001b[0;32m----> 1\u001b[0;31m \u001b[0mprint\u001b[0m\u001b[0;34m(\u001b[0m\u001b[0mL\u001b[0m\u001b[0;34m[\u001b[0m\u001b[0;36m0\u001b[0m\u001b[0;34m]\u001b[0m\u001b[0;34m)\u001b[0m\u001b[0;34m\u001b[0m\u001b[0m\n\u001b[0m\u001b[1;32m      2\u001b[0m \u001b[0mprint\u001b[0m\u001b[0;34m(\u001b[0m\u001b[0mnp\u001b[0m\u001b[0;34m.\u001b[0m\u001b[0mexp\u001b[0m\u001b[0;34m(\u001b[0m\u001b[0mL_params\u001b[0m\u001b[0;34m[\u001b[0m\u001b[0;36m0\u001b[0m\u001b[0;34m]\u001b[0m\u001b[0;34m)\u001b[0m\u001b[0;34m)\u001b[0m\u001b[0;34m\u001b[0m\u001b[0m\n",
      "\u001b[0;31mNameError\u001b[0m: name 'L' is not defined"
     ]
    }
   ],
   "source": [
    "print(L[0])\n",
    "print(np.exp(L_params[0]))"
   ]
  },
  {
   "cell_type": "markdown",
   "metadata": {},
   "source": [
    "Make sure max action is the one taken by the implicit policy"
   ]
  },
  {
   "cell_type": "code",
   "execution_count": 8,
   "metadata": {
    "collapsed": false
   },
   "outputs": [
    {
     "name": "stdout",
     "output_type": "stream",
     "text": [
      "[[-1.]]\n"
     ]
    },
    {
     "ename": "NameError",
     "evalue": "name 'implicit_policy_output' is not defined",
     "output_type": "error",
     "traceback": [
      "\u001b[0;31m---------------------------------------------------------------------------\u001b[0m",
      "\u001b[0;31mNameError\u001b[0m                                 Traceback (most recent call last)",
      "\u001b[0;32m<ipython-input-8-422ba298e2aa>\u001b[0m in \u001b[0;36m<module>\u001b[0;34m()\u001b[0m\n\u001b[1;32m      1\u001b[0m \u001b[0mmax_index\u001b[0m \u001b[0;34m=\u001b[0m \u001b[0mnp\u001b[0m\u001b[0;34m.\u001b[0m\u001b[0margmax\u001b[0m\u001b[0;34m(\u001b[0m\u001b[0mqf_output\u001b[0m\u001b[0;34m,\u001b[0m \u001b[0maxis\u001b[0m\u001b[0;34m=\u001b[0m\u001b[0;36m0\u001b[0m\u001b[0;34m)\u001b[0m\u001b[0;34m\u001b[0m\u001b[0m\n\u001b[1;32m      2\u001b[0m \u001b[0mprint\u001b[0m\u001b[0;34m(\u001b[0m\u001b[0mactions\u001b[0m\u001b[0;34m[\u001b[0m\u001b[0mmax_index\u001b[0m\u001b[0;34m]\u001b[0m\u001b[0;34m)\u001b[0m\u001b[0;34m\u001b[0m\u001b[0m\n\u001b[0;32m----> 3\u001b[0;31m \u001b[0mprint\u001b[0m\u001b[0;34m(\u001b[0m\u001b[0mimplicit_policy_output\u001b[0m\u001b[0;34m[\u001b[0m\u001b[0;36m0\u001b[0m\u001b[0;34m]\u001b[0m\u001b[0;34m)\u001b[0m\u001b[0;34m\u001b[0m\u001b[0m\n\u001b[0m",
      "\u001b[0;31mNameError\u001b[0m: name 'implicit_policy_output' is not defined"
     ]
    }
   ],
   "source": [
    "max_index = np.argmax(qf_output, axis=0)\n",
    "print(actions[max_index])\n",
    "print(implicit_policy_output[0])"
   ]
  },
  {
   "cell_type": "markdown",
   "metadata": {},
   "source": [
    "# Plot implicit policy"
   ]
  },
  {
   "cell_type": "code",
   "execution_count": 11,
   "metadata": {
    "collapsed": false
   },
   "outputs": [
    {
     "name": "stdout",
     "output_type": "stream",
     "text": [
      "[[-1.          0.43246771  0.84345072 -0.56658289]\n",
      " [-0.997998    0.43246771  0.84345072 -0.56658289]\n",
      " [-0.995996    0.43246771  0.84345072 -0.56658289]\n",
      " ..., \n",
      " [ 0.995996    0.43246771  0.84345072 -0.56658289]\n",
      " [ 0.997998    0.43246771  0.84345072 -0.56658289]\n",
      " [ 1.          0.43246771  0.84345072 -0.56658289]]\n"
     ]
    },
    {
     "data": {
      "image/png": "[encoded data removed]",
      "text/plain": [
       "<matplotlib.figure.Figure at 0x11c232908>"
      ]
     },
     "metadata": {},
     "output_type": "display_data"
    },
    {
     "name": "stdout",
     "output_type": "stream",
     "text": [
      "[[ 0.17991664 -1.          0.8455713  -0.51282439]\n",
      " [ 0.17991664 -0.997998    0.8455713  -0.51282439]\n",
      " [ 0.17991664 -0.995996    0.8455713  -0.51282439]\n",
      " ..., \n",
      " [ 0.17991664  0.995996    0.8455713  -0.51282439]\n",
      " [ 0.17991664  0.997998    0.8455713  -0.51282439]\n",
      " [ 0.17991664  1.          0.8455713  -0.51282439]]\n"
     ]
    },
    {
     "data": {
      "image/png": "[encoded data removed]",
      "text/plain": [
       "<matplotlib.figure.Figure at 0x12d662e48>"
      ]
     },
     "metadata": {},
     "output_type": "display_data"
    },
    {
     "name": "stdout",
     "output_type": "stream",
     "text": [
      "[[-0.45446781  0.81143553 -1.         -0.65910281]\n",
      " [-0.45446781  0.81143553 -0.997998   -0.65910281]\n",
      " [-0.45446781  0.81143553 -0.995996   -0.65910281]\n",
      " ..., \n",
      " [-0.45446781  0.81143553  0.995996   -0.65910281]\n",
      " [-0.45446781  0.81143553  0.997998   -0.65910281]\n",
      " [-0.45446781  0.81143553  1.         -0.65910281]]\n"
     ]
    },
    {
     "ename": "KeyboardInterrupt",
     "evalue": "",
     "output_type": "error",
     "traceback": [
      "\u001b[0;31m---------------------------------------------------------------------------\u001b[0m",
      "\u001b[0;31mKeyboardInterrupt\u001b[0m                         Traceback (most recent call last)",
      "\u001b[0;32m<ipython-input-11-8891e07e406c>\u001b[0m in \u001b[0;36m<module>\u001b[0;34m()\u001b[0m\n\u001b[1;32m      8\u001b[0m     \u001b[0mprint\u001b[0m\u001b[0;34m(\u001b[0m\u001b[0mlinear_states\u001b[0m\u001b[0;34m)\u001b[0m\u001b[0;34m\u001b[0m\u001b[0m\n\u001b[1;32m      9\u001b[0m \u001b[0;34m\u001b[0m\u001b[0m\n\u001b[0;32m---> 10\u001b[0;31m     \u001b[0mpolicy_output\u001b[0m \u001b[0;34m=\u001b[0m \u001b[0mnp\u001b[0m\u001b[0;34m.\u001b[0m\u001b[0mvstack\u001b[0m\u001b[0;34m(\u001b[0m\u001b[0;34m[\u001b[0m\u001b[0mpolicy\u001b[0m\u001b[0;34m.\u001b[0m\u001b[0mget_action\u001b[0m\u001b[0;34m(\u001b[0m\u001b[0mstate\u001b[0m\u001b[0;34m)\u001b[0m\u001b[0;34m[\u001b[0m\u001b[0;36m0\u001b[0m\u001b[0;34m]\u001b[0m \u001b[0;32mfor\u001b[0m \u001b[0mstate\u001b[0m \u001b[0;32min\u001b[0m \u001b[0mlinear_states\u001b[0m\u001b[0;34m]\u001b[0m\u001b[0;34m)\u001b[0m\u001b[0;34m\u001b[0m\u001b[0m\n\u001b[0m\u001b[1;32m     11\u001b[0m \u001b[0;34m\u001b[0m\u001b[0m\n\u001b[1;32m     12\u001b[0m     \u001b[0mplt\u001b[0m\u001b[0;34m.\u001b[0m\u001b[0mplot\u001b[0m\u001b[0;34m(\u001b[0m\u001b[0mlinear_states\u001b[0m\u001b[0;34m[\u001b[0m\u001b[0;34m:\u001b[0m\u001b[0;34m,\u001b[0m \u001b[0mdim_changing\u001b[0m\u001b[0;34m]\u001b[0m\u001b[0;34m,\u001b[0m \u001b[0mpolicy_output\u001b[0m\u001b[0;34m)\u001b[0m\u001b[0;34m\u001b[0m\u001b[0m\n",
      "\u001b[0;32m<ipython-input-11-8891e07e406c>\u001b[0m in \u001b[0;36m<listcomp>\u001b[0;34m(.0)\u001b[0m\n\u001b[1;32m      8\u001b[0m     \u001b[0mprint\u001b[0m\u001b[0;34m(\u001b[0m\u001b[0mlinear_states\u001b[0m\u001b[0;34m)\u001b[0m\u001b[0;34m\u001b[0m\u001b[0m\n\u001b[1;32m      9\u001b[0m \u001b[0;34m\u001b[0m\u001b[0m\n\u001b[0;32m---> 10\u001b[0;31m     \u001b[0mpolicy_output\u001b[0m \u001b[0;34m=\u001b[0m \u001b[0mnp\u001b[0m\u001b[0;34m.\u001b[0m\u001b[0mvstack\u001b[0m\u001b[0;34m(\u001b[0m\u001b[0;34m[\u001b[0m\u001b[0mpolicy\u001b[0m\u001b[0;34m.\u001b[0m\u001b[0mget_action\u001b[0m\u001b[0;34m(\u001b[0m\u001b[0mstate\u001b[0m\u001b[0;34m)\u001b[0m\u001b[0;34m[\u001b[0m\u001b[0;36m0\u001b[0m\u001b[0;34m]\u001b[0m \u001b[0;32mfor\u001b[0m \u001b[0mstate\u001b[0m \u001b[0;32min\u001b[0m \u001b[0mlinear_states\u001b[0m\u001b[0;34m]\u001b[0m\u001b[0;34m)\u001b[0m\u001b[0;34m\u001b[0m\u001b[0m\n\u001b[0m\u001b[1;32m     11\u001b[0m \u001b[0;34m\u001b[0m\u001b[0m\n\u001b[1;32m     12\u001b[0m     \u001b[0mplt\u001b[0m\u001b[0;34m.\u001b[0m\u001b[0mplot\u001b[0m\u001b[0;34m(\u001b[0m\u001b[0mlinear_states\u001b[0m\u001b[0;34m[\u001b[0m\u001b[0;34m:\u001b[0m\u001b[0;34m,\u001b[0m \u001b[0mdim_changing\u001b[0m\u001b[0;34m]\u001b[0m\u001b[0;34m,\u001b[0m \u001b[0mpolicy_output\u001b[0m\u001b[0;34m)\u001b[0m\u001b[0;34m\u001b[0m\u001b[0m\n",
      "\u001b[0;32m/Users/vitchyr/git/rail-rl/policies/argmax_policy.py\u001b[0m in \u001b[0;36mget_action\u001b[0;34m(self, observation)\u001b[0m\n\u001b[1;32m     88\u001b[0m         \u001b[0;32mif\u001b[0m \u001b[0mlen\u001b[0m\u001b[0;34m(\u001b[0m\u001b[0mobservation\u001b[0m\u001b[0;34m.\u001b[0m\u001b[0mshape\u001b[0m\u001b[0;34m)\u001b[0m \u001b[0;34m>\u001b[0m \u001b[0;36m1\u001b[0m\u001b[0;34m:\u001b[0m\u001b[0;34m\u001b[0m\u001b[0m\n\u001b[1;32m     89\u001b[0m             \u001b[0;32massert\u001b[0m \u001b[0mobservation\u001b[0m\u001b[0;34m.\u001b[0m\u001b[0mshape\u001b[0m\u001b[0;34m[\u001b[0m\u001b[0;36m1\u001b[0m\u001b[0;34m]\u001b[0m \u001b[0;34m==\u001b[0m \u001b[0;36m1\u001b[0m\u001b[0;34m\u001b[0m\u001b[0m\n\u001b[0;32m---> 90\u001b[0;31m             \u001b[0mobservation\u001b[0m \u001b[0;34m=\u001b[0m \u001b[0mobservation\u001b[0m\u001b[0;34m.\u001b[0m\u001b[0mflatten\u001b[0m\u001b[0;34m(\u001b[0m\u001b[0;34m)\u001b[0m\u001b[0;34m\u001b[0m\u001b[0m\n\u001b[0m\u001b[1;32m     91\u001b[0m         \u001b[0;31m# Clear adam variables\u001b[0m\u001b[0;34m\u001b[0m\u001b[0;34m\u001b[0m\u001b[0m\n\u001b[1;32m     92\u001b[0m         self.sess.run(tf.initialize_variables(\n",
      "\u001b[0;32m/Users/vitchyr/anaconda/envs/rllab3/lib/python3.5/site-packages/tensorflow/python/client/session.py\u001b[0m in \u001b[0;36mrun\u001b[0;34m(self, fetches, feed_dict, options, run_metadata)\u001b[0m\n\u001b[1;32m    380\u001b[0m     \u001b[0;32mtry\u001b[0m\u001b[0;34m:\u001b[0m\u001b[0;34m\u001b[0m\u001b[0m\n\u001b[1;32m    381\u001b[0m       result = self._run(None, fetches, feed_dict, options_ptr,\n\u001b[0;32m--> 382\u001b[0;31m                          run_metadata_ptr)\n\u001b[0m\u001b[1;32m    383\u001b[0m       \u001b[0;32mif\u001b[0m \u001b[0mrun_metadata\u001b[0m\u001b[0;34m:\u001b[0m\u001b[0;34m\u001b[0m\u001b[0m\n\u001b[1;32m    384\u001b[0m         \u001b[0mproto_data\u001b[0m \u001b[0;34m=\u001b[0m \u001b[0mtf_session\u001b[0m\u001b[0;34m.\u001b[0m\u001b[0mTF_GetBuffer\u001b[0m\u001b[0;34m(\u001b[0m\u001b[0mrun_metadata_ptr\u001b[0m\u001b[0;34m)\u001b[0m\u001b[0;34m\u001b[0m\u001b[0m\n",
      "\u001b[0;32m/Users/vitchyr/anaconda/envs/rllab3/lib/python3.5/site-packages/tensorflow/python/client/session.py\u001b[0m in \u001b[0;36m_run\u001b[0;34m(self, handle, fetches, feed_dict, options, run_metadata)\u001b[0m\n\u001b[1;32m    653\u001b[0m     \u001b[0mmovers\u001b[0m \u001b[0;34m=\u001b[0m \u001b[0mself\u001b[0m\u001b[0;34m.\u001b[0m\u001b[0m_update_with_movers\u001b[0m\u001b[0;34m(\u001b[0m\u001b[0mfeed_dict_string\u001b[0m\u001b[0;34m,\u001b[0m \u001b[0mfeed_map\u001b[0m\u001b[0;34m)\u001b[0m\u001b[0;34m\u001b[0m\u001b[0m\n\u001b[1;32m    654\u001b[0m     results = self._do_run(handle, target_list, unique_fetches,\n\u001b[0;32m--> 655\u001b[0;31m                            feed_dict_string, options, run_metadata)\n\u001b[0m\u001b[1;32m    656\u001b[0m \u001b[0;34m\u001b[0m\u001b[0m\n\u001b[1;32m    657\u001b[0m     \u001b[0;31m# User may have fetched the same tensor multiple times, but we\u001b[0m\u001b[0;34m\u001b[0m\u001b[0;34m\u001b[0m\u001b[0m\n",
      "\u001b[0;32m/Users/vitchyr/anaconda/envs/rllab3/lib/python3.5/site-packages/tensorflow/python/client/session.py\u001b[0m in \u001b[0;36m_do_run\u001b[0;34m(self, handle, target_list, fetch_list, feed_dict, options, run_metadata)\u001b[0m\n\u001b[1;32m    721\u001b[0m     \u001b[0;32mif\u001b[0m \u001b[0mhandle\u001b[0m \u001b[0;32mis\u001b[0m \u001b[0;32mNone\u001b[0m\u001b[0;34m:\u001b[0m\u001b[0;34m\u001b[0m\u001b[0m\n\u001b[1;32m    722\u001b[0m       return self._do_call(_run_fn, self._session, feed_dict, fetch_list,\n\u001b[0;32m--> 723\u001b[0;31m                            target_list, options, run_metadata)\n\u001b[0m\u001b[1;32m    724\u001b[0m     \u001b[0;32melse\u001b[0m\u001b[0;34m:\u001b[0m\u001b[0;34m\u001b[0m\u001b[0m\n\u001b[1;32m    725\u001b[0m       return self._do_call(_prun_fn, self._session, handle, feed_dict,\n",
      "\u001b[0;32m/Users/vitchyr/anaconda/envs/rllab3/lib/python3.5/site-packages/tensorflow/python/client/session.py\u001b[0m in \u001b[0;36m_do_call\u001b[0;34m(self, fn, *args)\u001b[0m\n\u001b[1;32m    728\u001b[0m   \u001b[0;32mdef\u001b[0m \u001b[0m_do_call\u001b[0m\u001b[0;34m(\u001b[0m\u001b[0mself\u001b[0m\u001b[0;34m,\u001b[0m \u001b[0mfn\u001b[0m\u001b[0;34m,\u001b[0m \u001b[0;34m*\u001b[0m\u001b[0margs\u001b[0m\u001b[0;34m)\u001b[0m\u001b[0;34m:\u001b[0m\u001b[0;34m\u001b[0m\u001b[0m\n\u001b[1;32m    729\u001b[0m     \u001b[0;32mtry\u001b[0m\u001b[0;34m:\u001b[0m\u001b[0;34m\u001b[0m\u001b[0m\n\u001b[0;32m--> 730\u001b[0;31m       \u001b[0;32mreturn\u001b[0m \u001b[0mfn\u001b[0m\u001b[0;34m(\u001b[0m\u001b[0;34m*\u001b[0m\u001b[0margs\u001b[0m\u001b[0;34m)\u001b[0m\u001b[0;34m\u001b[0m\u001b[0m\n\u001b[0m\u001b[1;32m    731\u001b[0m     \u001b[0;32mexcept\u001b[0m \u001b[0merrors\u001b[0m\u001b[0;34m.\u001b[0m\u001b[0mOpError\u001b[0m \u001b[0;32mas\u001b[0m \u001b[0me\u001b[0m\u001b[0;34m:\u001b[0m\u001b[0;34m\u001b[0m\u001b[0m\n\u001b[1;32m    732\u001b[0m       \u001b[0mmessage\u001b[0m \u001b[0;34m=\u001b[0m \u001b[0mcompat\u001b[0m\u001b[0;34m.\u001b[0m\u001b[0mas_text\u001b[0m\u001b[0;34m(\u001b[0m\u001b[0me\u001b[0m\u001b[0;34m.\u001b[0m\u001b[0mmessage\u001b[0m\u001b[0;34m)\u001b[0m\u001b[0;34m\u001b[0m\u001b[0m\n",
      "\u001b[0;32m/Users/vitchyr/anaconda/envs/rllab3/lib/python3.5/site-packages/tensorflow/python/client/session.py\u001b[0m in \u001b[0;36m_run_fn\u001b[0;34m(session, feed_dict, fetch_list, target_list, options, run_metadata)\u001b[0m\n\u001b[1;32m    706\u001b[0m                 run_metadata):\n\u001b[1;32m    707\u001b[0m       \u001b[0;31m# Ensure any changes to the graph are reflected in the runtime.\u001b[0m\u001b[0;34m\u001b[0m\u001b[0;34m\u001b[0m\u001b[0m\n\u001b[0;32m--> 708\u001b[0;31m       \u001b[0mself\u001b[0m\u001b[0;34m.\u001b[0m\u001b[0m_extend_graph\u001b[0m\u001b[0;34m(\u001b[0m\u001b[0;34m)\u001b[0m\u001b[0;34m\u001b[0m\u001b[0m\n\u001b[0m\u001b[1;32m    709\u001b[0m       \u001b[0;32mwith\u001b[0m \u001b[0merrors\u001b[0m\u001b[0;34m.\u001b[0m\u001b[0mraise_exception_on_not_ok_status\u001b[0m\u001b[0;34m(\u001b[0m\u001b[0;34m)\u001b[0m \u001b[0;32mas\u001b[0m \u001b[0mstatus\u001b[0m\u001b[0;34m:\u001b[0m\u001b[0;34m\u001b[0m\u001b[0m\n\u001b[1;32m    710\u001b[0m         return tf_session.TF_Run(session, options,\n",
      "\u001b[0;32m/Users/vitchyr/anaconda/envs/rllab3/lib/python3.5/site-packages/tensorflow/python/client/session.py\u001b[0m in \u001b[0;36m_extend_graph\u001b[0;34m(self)\u001b[0m\n\u001b[1;32m    755\u001b[0m         \u001b[0;32mwith\u001b[0m \u001b[0merrors\u001b[0m\u001b[0;34m.\u001b[0m\u001b[0mraise_exception_on_not_ok_status\u001b[0m\u001b[0;34m(\u001b[0m\u001b[0;34m)\u001b[0m \u001b[0;32mas\u001b[0m \u001b[0mstatus\u001b[0m\u001b[0;34m:\u001b[0m\u001b[0;34m\u001b[0m\u001b[0m\n\u001b[1;32m    756\u001b[0m           tf_session.TF_ExtendGraph(\n\u001b[0;32m--> 757\u001b[0;31m               self._session, graph_def.SerializeToString(), status)\n\u001b[0m\u001b[1;32m    758\u001b[0m         \u001b[0mself\u001b[0m\u001b[0;34m.\u001b[0m\u001b[0m_opened\u001b[0m \u001b[0;34m=\u001b[0m \u001b[0;32mTrue\u001b[0m\u001b[0;34m\u001b[0m\u001b[0m\n\u001b[1;32m    759\u001b[0m \u001b[0;34m\u001b[0m\u001b[0m\n",
      "\u001b[0;31mKeyboardInterrupt\u001b[0m: "
     ]
    }
   ],
   "source": [
    "o_delta = o_high - o_low\n",
    "for dim_changing in range(4):\n",
    "    num_states = 1000\n",
    "    base_state = np.random.rand(1, o_dim) * o_delta + o_low\n",
    "#     base_state = np.zeros((1, o_dim))\n",
    "    linear_states = np.vstack([base_state for _ in range(num_states)])\n",
    "    linear_states[:, dim_changing] = np.linspace(o_low, o_high, num_states)\n",
    "    print(linear_states)\n",
    "    \n",
    "    policy_output = np.vstack([policy.get_action(state)[0] for state in linear_states])\n",
    "    \n",
    "    plt.plot(linear_states[:, dim_changing], policy_output)\n",
    "    plt.xlabel('State {0} dimension'.format(dim_changing))\n",
    "    plt.ylabel('Policy Output')\n",
    "    plt.show()"
   ]
  },
  {
   "cell_type": "code",
   "execution_count": null,
   "metadata": {
    "collapsed": true
   },
   "outputs": [],
   "source": []
  }
 ],
 "metadata": {
  "kernelspec": {
   "display_name": "Python 3",
   "language": "python",
   "name": "python3"
  },
  "language_info": {
   "codemirror_mode": {
    "name": "ipython",
    "version": 3
   },
   "file_extension": ".py",
   "mimetype": "text/x-python",
   "name": "python",
   "nbconvert_exporter": "python",
   "pygments_lexer": "ipython3",
   "version": "3.5.2"
  },
  "widgets": {
   "state": {},
   "version": "1.1.2"
  }
 },
 "nbformat": 4,
 "nbformat_minor": 2
}
