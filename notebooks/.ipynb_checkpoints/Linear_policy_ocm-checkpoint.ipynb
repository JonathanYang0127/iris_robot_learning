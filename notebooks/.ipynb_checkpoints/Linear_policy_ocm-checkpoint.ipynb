{
 "cells": [
  {
   "cell_type": "code",
   "execution_count": 59,
   "metadata": {
    "collapsed": false
   },
   "outputs": [],
   "source": [
    "import railrl\n",
    "import imp\n",
    "imp.reload(railrl)\n",
    "imp.reload(railrl.envs.memory.one_char_memory)\n",
    "imp.reload(railrl.policies.linear_ocm)\n",
    "imp.reload(railrl.envs.memory.continuous_memory_augmented)\n",
    "from railrl.envs.memory.one_char_memory import OneCharMemory\n",
    "from railrl.policies.linear_ocm import LinearOcmPolicy\n",
    "from railrl.envs.memory.continuous_memory_augmented import ContinuousMemoryAugmented"
   ]
  },
  {
   "cell_type": "code",
   "execution_count": 60,
   "metadata": {
    "collapsed": true
   },
   "outputs": [],
   "source": [
    "from rllab.sampler.utils import rollout\n",
    "import tensorflow as tf\n",
    "tf.reset_default_graph()"
   ]
  },
  {
   "cell_type": "code",
   "execution_count": 61,
   "metadata": {
    "collapsed": true
   },
   "outputs": [],
   "source": [
    "num_values = 1\n",
    "H = 1\n",
    "onehot_dim = num_values + 1"
   ]
  },
  {
   "cell_type": "code",
   "execution_count": 62,
   "metadata": {
    "collapsed": false,
    "scrolled": false
   },
   "outputs": [],
   "source": [
    "sess = tf.InteractiveSession()\n",
    "with sess.as_default():\n",
    "\n",
    "    env = OneCharMemory(n=num_values, num_steps=H)\n",
    "    env = ContinuousMemoryAugmented(\n",
    "        env,\n",
    "        num_memory_states=onehot_dim,\n",
    "    )\n",
    "\n",
    "    policy = LinearOcmPolicy(\n",
    "        name_or_scope=\"policy\",\n",
    "        memory_and_action_dim=onehot_dim,\n",
    "        horizon=H,\n",
    "        env_spec=env.spec,\n",
    "    )\n",
    "\n",
    "    sess.run(tf.global_variables_initializer())\n",
    "\n",
    "    path = rollout(env, policy)"
   ]
  },
  {
   "cell_type": "code",
   "execution_count": 64,
   "metadata": {
    "collapsed": false
   },
   "outputs": [
    {
     "data": {
      "text/plain": [
       "{'actions': array([[ 0.,  0.,  0.,  1.]], dtype=float32),\n",
       " 'agent_infos': {},\n",
       " 'env_infos': {'target': array([1])},\n",
       " 'observations': array([[ 0.,  1.,  0.,  0.]]),\n",
       " 'rewards': array([-1]),\n",
       " 'terminals': array([ True], dtype=bool)}"
      ]
     },
     "execution_count": 64,
     "metadata": {},
     "output_type": "execute_result"
    }
   ],
   "source": [
    "path"
   ]
  },
  {
   "cell_type": "code",
   "execution_count": null,
   "metadata": {
    "collapsed": true
   },
   "outputs": [],
   "source": []
  }
 ],
 "metadata": {
  "kernelspec": {
   "display_name": "Python 3",
   "language": "python",
   "name": "python3"
  },
  "language_info": {
   "codemirror_mode": {
    "name": "ipython",
    "version": 3
   },
   "file_extension": ".py",
   "mimetype": "text/x-python",
   "name": "python",
   "nbconvert_exporter": "python",
   "pygments_lexer": "ipython3",
   "version": "3.5.2"
  },
  "widgets": {
   "state": {},
   "version": "1.1.2"
  }
 },
 "nbformat": 4,
 "nbformat_minor": 2
}
