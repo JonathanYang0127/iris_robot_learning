{
 "cells": [
  {
   "cell_type": "markdown",
   "metadata": {
    "deletable": true,
    "editable": true
   },
   "source": [
    "# Load data"
   ]
  },
  {
   "cell_type": "code",
   "execution_count": 1,
   "metadata": {
    "collapsed": true,
    "deletable": true,
    "editable": true
   },
   "outputs": [],
   "source": [
    "import numpy as np"
   ]
  },
  {
   "cell_type": "code",
   "execution_count": 2,
   "metadata": {
    "collapsed": false,
    "deletable": true,
    "editable": true
   },
   "outputs": [],
   "source": [
    "base_dir = '/home/vitchyr/git/rllab-rail/railrl/data/replay_buffer'\n",
    "\n",
    "all_actions = np.loadtxt(base_dir + \"/actions.csv\", delimiter=',')\n",
    "all_obs = np.loadtxt(base_dir + \"/obs.csv\", delimiter=',')\n",
    "all_rewards = np.loadtxt(base_dir + \"/rewards.csv\", delimiter=',')\n",
    "all_terminals = np.loadtxt(base_dir + \"/terminals.csv\", delimiter=',')"
   ]
  },
  {
   "cell_type": "code",
   "execution_count": 3,
   "metadata": {
    "collapsed": false,
    "deletable": true,
    "editable": true
   },
   "outputs": [],
   "source": [
    "nonzero = [i for i, e in enumerate(all_terminals) if e != 0]\n",
    "last_full_episode_idx = nonzero[-1] + 1"
   ]
  },
  {
   "cell_type": "code",
   "execution_count": 4,
   "metadata": {
    "collapsed": false,
    "deletable": true,
    "editable": true
   },
   "outputs": [],
   "source": [
    "terminals = all_terminals[:last_full_episode_idx]\n",
    "obs = all_obs[:last_full_episode_idx]\n",
    "next_obs = all_obs[1:last_full_episode_idx+last_full_episode_idx]\n",
    "actions = all_actions[:last_full_episode_idx]\n",
    "rewards = all_rewards[:last_full_episode_idx]"
   ]
  },
  {
   "cell_type": "code",
   "execution_count": 5,
   "metadata": {
    "collapsed": false,
    "deletable": true,
    "editable": true
   },
   "outputs": [],
   "source": [
    "positive_idxs = np.array([i for i, reward in enumerate(rewards) if reward == 1.0])\n",
    "negative_idxs = np.array([i for i, reward in enumerate(rewards) if reward == -1.0])"
   ]
  },
  {
   "cell_type": "code",
   "execution_count": 100,
   "metadata": {
    "collapsed": false,
    "deletable": true,
    "editable": true
   },
   "outputs": [
    {
     "name": "stdout",
     "output_type": "stream",
     "text": [
      "[[ 0.02178212  0.03042386  0.94779396  1.91589522  0.48581049  0.48751163\n",
      "  -0.41613626 -1.9611131   0.54505563  0.28782532 -2.06506801  0.85537577\n",
      "  -1.47169018  0.27841741 -2.12769747 -0.14251566  1.11679518  1.58600557\n",
      "   1.1028744   0.12133752 -0.51180929 -1.27574861 -2.10457659  0.          0.\n",
      "   1.          0.          0.          0.          0.          0.\n",
      "   1.91589522  0.48581049  0.48751163 -0.41613626 -1.9611131   0.54505563\n",
      "   0.28782532 -2.06506801  0.85537577 -1.47169018  0.27841741 -2.12769747\n",
      "  -0.14251566  1.11679518  1.58600557  1.1028744   0.12133752 -0.51180929\n",
      "  -1.27574861 -2.10457659]]\n",
      "[ 1.]\n"
     ]
    }
   ],
   "source": [
    "Xpos = np.hstack((\n",
    "    actions[positive_idxs][:, :],\n",
    "    obs[positive_idxs-5][:, :3],\n",
    "    next_obs[positive_idxs]\n",
    "))\n",
    "num_pos = Xpos.shape[0]\n",
    "Xneg = np.hstack((\n",
    "    actions[negative_idxs][:, :],\n",
    "    obs[negative_idxs-5][:, :3],\n",
    "    next_obs[negative_idxs]\n",
    "))\n",
    "num_neg = Xneg.shape[0]\n",
    "raw_X = np.vstack((Xpos, Xneg))\n",
    "num_total = num_pos + num_neg\n",
    "raw_y = np.hstack((np.ones(num_pos), np.zeros(num_neg)))\n",
    "print(raw_X[:1])\n",
    "print(raw_y[:1])"
   ]
  },
  {
   "cell_type": "code",
   "execution_count": 101,
   "metadata": {
    "collapsed": false,
    "deletable": true,
    "editable": true
   },
   "outputs": [
    {
     "name": "stdout",
     "output_type": "stream",
     "text": [
      "(1428,)\n",
      "(1428, 51)\n"
     ]
    }
   ],
   "source": [
    "print(raw_y.shape)\n",
    "print(raw_X.shape)"
   ]
  },
  {
   "cell_type": "code",
   "execution_count": 102,
   "metadata": {
    "collapsed": false,
    "deletable": true,
    "editable": true,
    "scrolled": true
   },
   "outputs": [
    {
     "data": {
      "text/plain": [
       "(1428,)"
      ]
     },
     "execution_count": 102,
     "metadata": {},
     "output_type": "execute_result"
    }
   ],
   "source": [
    "X, y = shuffle(raw_X, raw_y, random_state=0)\n",
    "y.shape"
   ]
  },
  {
   "cell_type": "markdown",
   "metadata": {
    "deletable": true,
    "editable": true
   },
   "source": [
    "# TensorFlow model to train"
   ]
  },
  {
   "cell_type": "markdown",
   "metadata": {
    "deletable": true,
    "editable": true
   },
   "source": []
  },
  {
   "cell_type": "markdown",
   "metadata": {
    "deletable": true,
    "editable": true
   },
   "source": [
    "# Shuffle and build data set"
   ]
  },
  {
   "cell_type": "code",
   "execution_count": 8,
   "metadata": {
    "collapsed": false,
    "deletable": true,
    "editable": true
   },
   "outputs": [],
   "source": [
    "from sklearn.utils import shuffle\n",
    "from sklearn.model_selection import ShuffleSplit\n",
    "from sklearn.linear_model import LogisticRegression\n",
    "from sklearn.model_selection import train_test_split\n",
    "from sklearn import metrics\n",
    "from sklearn.model_selection import cross_val_score"
   ]
  },
  {
   "cell_type": "code",
   "execution_count": 10,
   "metadata": {
    "collapsed": false,
    "deletable": true,
    "editable": true
   },
   "outputs": [
    {
     "name": "stdout",
     "output_type": "stream",
     "text": [
      "[ 0.8125      0.75694444  0.79166667  0.8041958   0.72027972  0.79577465\n",
      "  0.78873239  0.71126761  0.75352113  0.76760563]\n",
      "0.770248804404\n"
     ]
    }
   ],
   "source": [
    "scores = cross_val_score(LogisticRegression(), X, y, scoring='accuracy', cv=10)\n",
    "print(scores)\n",
    "print(scores.mean())"
   ]
  },
  {
   "cell_type": "code",
   "execution_count": 12,
   "metadata": {
    "collapsed": false,
    "deletable": true,
    "editable": true
   },
   "outputs": [
    {
     "name": "stdout",
     "output_type": "stream",
     "text": [
      "0.762838468721\n",
      "0.771241830065\n",
      "0.77964519141\n"
     ]
    }
   ],
   "source": [
    "rs = ShuffleSplit(n_splits=3, test_size=.25, random_state=0)\n",
    "for train_index, test_index in rs.split(raw_X):\n",
    "    X = raw_X[train_index]\n",
    "    y = raw_y[train_index]\n",
    "    model = LogisticRegression()\n",
    "    model = model.fit(X, y)\n",
    "    print(model.score(X, y))"
   ]
  },
  {
   "cell_type": "markdown",
   "metadata": {
    "deletable": true,
    "editable": true
   },
   "source": [
    "# PyTorch"
   ]
  },
  {
   "cell_type": "code",
   "execution_count": 78,
   "metadata": {
    "collapsed": true,
    "deletable": true,
    "editable": true
   },
   "outputs": [],
   "source": [
    "from itertools import count\n",
    "\n",
    "import torch\n",
    "import torch.autograd\n",
    "import torch.nn.functional as F\n",
    "from torch.autograd import Variable\n",
    "import torch.nn as nn"
   ]
  },
  {
   "cell_type": "code",
   "execution_count": 113,
   "metadata": {
    "collapsed": false,
    "deletable": true,
    "editable": true
   },
   "outputs": [],
   "source": [
    "pos = np.zeros((num_pos, 2))\n",
    "pos[:, 0] = 1\n",
    "neg = np.zeros((num_neg, 2))\n",
    "neg[:, 1] = 1\n",
    "raw_y_torch = np.vstack((pos, neg))\n",
    "\n",
    "torch_X, torch_y = shuffle(raw_X, raw_y_torch, random_state=0)\n",
    "torch_X = torch.from_numpy(torch_X).float()\n",
    "torch_y = torch.from_numpy(torch_y).float()\n",
    "\n",
    "Xv = Variable(torch_X)\n",
    "Yv = Variable(torch_y)"
   ]
  },
  {
   "cell_type": "code",
   "execution_count": 114,
   "metadata": {
    "collapsed": false,
    "deletable": true,
    "editable": true
   },
   "outputs": [
    {
     "name": "stdout",
     "output_type": "stream",
     "text": [
      "51\n"
     ]
    }
   ],
   "source": [
    "feature_dim = X.shape[1]\n",
    "print(feature_dim)"
   ]
  },
  {
   "cell_type": "code",
   "execution_count": 115,
   "metadata": {
    "collapsed": false,
    "deletable": true,
    "editable": true
   },
   "outputs": [],
   "source": [
    "class Net(nn.Module):\n",
    "\n",
    "    def __init__(self):\n",
    "        super(Net, self).__init__()\n",
    "        # an affine operation: y = Wx + b\n",
    "        self.fc1 = nn.Linear(feature_dim, 120)\n",
    "        self.fc2 = nn.Linear(120, 64)\n",
    "        self.fc3 = nn.Linear(64, 2)\n",
    "        self.softmax = nn.Softmax()\n",
    "\n",
    "    def forward(self, x):\n",
    "        x = x.view(-1, self.num_flat_features(x))\n",
    "        x = F.relu(self.fc1(x))\n",
    "        x = F.relu(self.fc2(x))\n",
    "        x = self.fc3(x)\n",
    "        x = self.softmax(x)\n",
    "        return x\n",
    "\n",
    "    def num_flat_features(self, x):\n",
    "        size = x.size()[1:]  # all dimensions except the batch dimension\n",
    "        num_features = 1\n",
    "        for s in size:\n",
    "            num_features *= s\n",
    "        return num_features"
   ]
  },
  {
   "cell_type": "code",
   "execution_count": 116,
   "metadata": {
    "collapsed": true,
    "deletable": true,
    "editable": true
   },
   "outputs": [],
   "source": [
    "def get_batch_iterator(X, y, batch_size=32):\n",
    "    i = 0\n",
    "    num_elements = len(X)\n",
    "    while True:\n",
    "        yield Variable(X[i:i+batch_size]), Variable(y[i:i+batch_size])\n",
    "        i = (i + batch_size) % num_elements"
   ]
  },
  {
   "cell_type": "code",
   "execution_count": 117,
   "metadata": {
    "collapsed": false,
    "deletable": true,
    "editable": true
   },
   "outputs": [],
   "source": [
    "W_target = torch.randn(feature_dim, 1) * 5\n",
    "net = Net()\n",
    "batch_iterator = get_batch_iterator(torch_X, torch_y)\n",
    "criterion = nn.BCELoss()\n",
    "optimizer = optim.Adam(net.parameters(), lr=0.001)\n",
    "for _ in range(10000):\n",
    "    # Get data\n",
    "    batch_x, batch_y = next(batch_iterator)\n",
    "\n",
    "    # Reset gradients\n",
    "    optimizer.zero_grad()\n",
    "\n",
    "    # Forward pass\n",
    "    output = net(batch_x)\n",
    "    loss = criterion(output, batch_y)\n",
    "\n",
    "    # Backward pass\n",
    "    loss.backward()\n",
    "\n",
    "    # Apply gradients\n",
    "    optimizer.step()\n",
    "#     for param in net.parameters():\n",
    "#         param.data.add_(-0.1 * param.grad.data)"
   ]
  },
  {
   "cell_type": "code",
   "execution_count": 118,
   "metadata": {
    "collapsed": false,
    "deletable": true,
    "editable": true
   },
   "outputs": [
    {
     "name": "stdout",
     "output_type": "stream",
     "text": [
      "13.6414\n"
     ]
    }
   ],
   "source": [
    "loss = criterion(net(Xv), Yv).data.numpy()\n",
    "print(np.mean(loss))"
   ]
  },
  {
   "cell_type": "code",
   "execution_count": 120,
   "metadata": {
    "collapsed": false,
    "deletable": true,
    "editable": true
   },
   "outputs": [
    {
     "name": "stdout",
     "output_type": "stream",
     "text": [
      "0.493697\n"
     ]
    }
   ],
   "source": [
    "error = ((net(Xv) - Yv)**2).data.numpy()\n",
    "print(np.mean(error))"
   ]
  }
 ],
 "metadata": {
  "kernelspec": {
   "display_name": "Python 3",
   "language": "python",
   "name": "python3"
  },
  "language_info": {
   "codemirror_mode": {
    "name": "ipython",
    "version": 3
   },
   "file_extension": ".py",
   "mimetype": "text/x-python",
   "name": "python",
   "nbconvert_exporter": "python",
   "pygments_lexer": "ipython3",
   "version": "3.5.2"
  },
  "widgets": {
   "state": {},
   "version": "1.1.2"
  }
 },
 "nbformat": 4,
 "nbformat_minor": 2
}
