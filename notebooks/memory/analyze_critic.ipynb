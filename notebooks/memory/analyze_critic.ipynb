{
 "cells": [
  {
   "cell_type": "code",
   "execution_count": 40,
   "metadata": {
    "collapsed": true
   },
   "outputs": [],
   "source": [
    "import tensorflow as tf\n",
    "import joblib\n",
    "import numpy as np\n",
    "import matplotlib.pyplot as plt\n",
    "import seaborn"
   ]
  },
  {
   "cell_type": "code",
   "execution_count": 20,
   "metadata": {
    "collapsed": true
   },
   "outputs": [],
   "source": [
    "tf.reset_default_graph()\n",
    "file = (\n",
    "    '/home/vitchyr/git/rllab-rail/railrl/data/local/'\n",
    "    'dev-3-20-bptt-ddpg-analyze/'\n",
    "    'dev-3-20-bptt-ddpg-analyze_2017_03_20_15_52_34_0000--s-0/'\n",
    "    'params.pkl'\n",
    ")\n",
    "sess = tf.InteractiveSession()\n",
    "data = joblib.load(file)\n",
    "if 'policy' in data:\n",
    "    policy = data['policy']\n",
    "else:\n",
    "    qf = data['optimizable_qfunction']\n",
    "    policy = qf.implicit_policy\n",
    "env = data['env']\n",
    "print(\"Policy loaded\")"
   ]
  },
  {
   "cell_type": "code",
   "execution_count": 21,
   "metadata": {},
   "outputs": [],
   "source": [
    "qf = data['qf']"
   ]
  },
  {
   "cell_type": "code",
   "execution_count": 26,
   "metadata": {},
   "outputs": [],
   "source": [
    "def qf_output(sess, qf, state, action):\n",
    "    return sess.run(\n",
    "        qf.output,\n",
    "        {\n",
    "            qf.action_input: action,\n",
    "            qf.observation_input: state,\n",
    "        }\n",
    "    )\n",
    "\n",
    "def policy_output(sess, policy, state):\n",
    "    return sess.run(\n",
    "        policy.output,\n",
    "        {\n",
    "            policy.observation_input: state,\n",
    "        }\n",
    "    )"
   ]
  },
  {
   "cell_type": "code",
   "execution_count": 28,
   "metadata": {},
   "outputs": [
    {
     "name": "stdout",
     "output_type": "stream",
     "text": [
      "(<tf.Tensor 'critic/action_input_0:0' shape=(?, 3) dtype=float32>, <tf.Tensor 'critic/action_input_1:0' shape=(?, 20) dtype=float32>)\n(<tf.Tensor 'critic/observation_input_0:0' shape=(?, 3) dtype=float32>, <tf.Tensor 'critic/observation_input_1:0' shape=(?, 20) dtype=float32>)\n"
     ]
    }
   ],
   "source": [
    "print(qf.action_input)\n",
    "print(qf.observation_input)"
   ]
  },
  {
   "cell_type": "code",
   "execution_count": 37,
   "metadata": {},
   "outputs": [
    {
     "name": "stdout",
     "output_type": "stream",
     "text": [
      "[[ 1.08041024]]\n[[ 1.15124011]]\n"
     ]
    }
   ],
   "source": [
    "obs = np.zeros((1, 3))\n",
    "obs[0, 2] = 1\n",
    "mem = np.zeros((1, 20))\n",
    "state = (obs, mem)\n",
    "action = policy_output(sess, policy, state)\n",
    "value = qf_output(sess, qf, state, action)\n",
    "\n",
    "obs_2 = np.zeros((1, 3))\n",
    "obs_2[0, 1] = 1\n",
    "mem_2 = np.zeros((1, 20))\n",
    "state_2 = (obs_2, mem_2)\n",
    "action_2 = policy_output(sess, policy, state_2)\n",
    "value_2 = qf_output(sess, qf, state_2, action_2)\n",
    "\n",
    "print(value)\n",
    "print(value_2)"
   ]
  },
  {
   "cell_type": "code",
   "execution_count": 38,
   "metadata": {},
   "outputs": [
    {
     "name": "stdout",
     "output_type": "stream",
     "text": [
      "[[ 0.57207]]\n[[ 0.84154409]]\n"
     ]
    }
   ],
   "source": [
    "value_wrong_s1_a2 = qf_output(sess, qf, state, action_2)\n",
    "value_wrong_s2_a1 = qf_output(sess, qf, state_2, action)\n",
    "print(value_wrong_s1_a2)\n",
    "print(value_wrong_s2_a1)"
   ]
  },
  {
   "cell_type": "code",
   "execution_count": 43,
   "metadata": {},
   "outputs": [],
   "source": [
    "n_values = 2\n",
    "n_hidden = 20\n",
    "def onehot(i, n_values):\n",
    "    onehot = np.zeros((1, n_values))\n",
    "    onehot[0, i] = 1\n",
    "    return onehot\n",
    "\n",
    "def init_state(i, n_values, n_hidden):\n",
    "    obs = onehot(i+1, n_values+1)\n",
    "    mem = np.zeros((1, n_hidden))\n",
    "    return obs, mem\n",
    "    \n",
    "states = [init_state(i, n_values, n_hidden) for i in range(n_values)]\n",
    "actions = [policy_output(sess, policy, state) for state in states]\n",
    "value_matrix = np.zeros((n_values, n_values))\n",
    "for state_i, state in enumerate(states):\n",
    "    for action_i, action in enumerate(actions):\n",
    "        value_matrix[state_i, action_i] = qf_output(sess, qf, state, action)"
   ]
  },
  {
   "cell_type": "code",
   "execution_count": null,
   "metadata": {},
   "outputs": [],
   "source": [
    "\n",
    "\n",
    "\n",
    "\n",
    "\n",
    "\n",
    "\n",
    "\n",
    "\n",
    "\n",
    "\n",
    "\n",
    "\n",
    "\n",
    "\n",
    "\n",
    "i\n",
    "\n",
    "\n",
    "\n",
    "\n",
    "\n",
    "\n",
    "\n",
    "\n",
    "\n",
    "\n"
   ]
  }
 ],
 "metadata": {
  "kernelspec": {
   "display_name": "Python 2",
   "language": "python",
   "name": "python2"
  },
  "language_info": {
   "codemirror_mode": {
    "name": "ipython",
    "version": 2.0
   },
   "file_extension": ".py",
   "mimetype": "text/x-python",
   "name": "python",
   "nbconvert_exporter": "python",
   "pygments_lexer": "ipython2",
   "version": "2.7.6"
  }
 },
 "nbformat": 4,
 "nbformat_minor": 0
}