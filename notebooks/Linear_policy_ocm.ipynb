{
 "cells": [
  {
   "cell_type": "code",
   "execution_count": 15,
   "metadata": {
    "collapsed": true
   },
   "outputs": [],
   "source": [
    "import railrl\n",
    "import imp\n",
    "from railrl.envs.memory.one_char_memory import OneCharMemoryEndOnly\n",
    "from railrl.policies.linear_ocm_policy import LinearOcmPolicy\n",
    "from railrl.envs.memory.continuous_memory_augmented import ContinuousMemoryAugmented"
   ]
  },
  {
   "cell_type": "code",
   "execution_count": 16,
   "metadata": {
    "collapsed": false
   },
   "outputs": [],
   "source": [
    "imp.reload(railrl)\n",
    "imp.reload(railrl.envs.memory.one_char_memory)\n",
    "imp.reload(railrl.policies.linear_ocm_policy)\n",
    "imp.reload(railrl.envs.memory.continuous_memory_augmented)\n",
    "from railrl.envs.memory.one_char_memory import OneCharMemoryEndOnly\n",
    "from railrl.policies.linear_ocm_policy import LinearOcmPolicy\n",
    "from railrl.envs.memory.continuous_memory_augmented import ContinuousMemoryAugmented"
   ]
  },
  {
   "cell_type": "code",
   "execution_count": 17,
   "metadata": {
    "collapsed": true
   },
   "outputs": [],
   "source": [
    "from rllab.sampler.utils import rollout\n",
    "import tensorflow as tf\n"
   ]
  },
  {
   "cell_type": "code",
   "execution_count": 18,
   "metadata": {
    "collapsed": true
   },
   "outputs": [],
   "source": [
    "num_values = 3\n",
    "H = 1\n",
    "onehot_dim = num_values + 1"
   ]
  },
  {
   "cell_type": "code",
   "execution_count": 19,
   "metadata": {
    "collapsed": false,
    "scrolled": false
   },
   "outputs": [],
   "source": [
    "tf.reset_default_graph()\n",
    "sess = tf.InteractiveSession()\n",
    "with sess.as_default():\n",
    "\n",
    "    env = OneCharMemoryEndOnly(n=num_values, num_steps=H)\n",
    "    env = ContinuousMemoryAugmented(\n",
    "        env,\n",
    "        num_memory_states=onehot_dim,\n",
    "    )\n",
    "\n",
    "    policy = LinearOcmPolicy(\n",
    "        name_or_scope=\"policy\",\n",
    "        memory_and_action_dim=onehot_dim,\n",
    "        horizon=H,\n",
    "        env_spec=env.spec,\n",
    "    )\n",
    "\n",
    "    sess.run(tf.global_variables_initializer())\n",
    "\n",
    "    path = rollout(env, policy)"
   ]
  },
  {
   "cell_type": "code",
   "execution_count": 21,
   "metadata": {
    "collapsed": false
   },
   "outputs": [
    {
     "name": "stdout",
     "output_type": "stream",
     "text": [
      "[[ 0.  0.  0.  0.  0.  0.  1.  0.]]\n",
      "[[ 0.  0.  1.  0.  0.  0.  0.  0.]]\n",
      "[0]\n"
     ]
    }
   ],
   "source": [
    "print(path['actions'])\n",
    "print(path['observations'])\n",
    "print(path['rewards'])"
   ]
  },
  {
   "cell_type": "code",
   "execution_count": null,
   "metadata": {
    "collapsed": true
   },
   "outputs": [],
   "source": []
  }
 ],
 "metadata": {
  "kernelspec": {
   "display_name": "Python 3",
   "language": "python",
   "name": "python3"
  },
  "language_info": {
   "codemirror_mode": {
    "name": "ipython",
    "version": 3
   },
   "file_extension": ".py",
   "mimetype": "text/x-python",
   "name": "python",
   "nbconvert_exporter": "python",
   "pygments_lexer": "ipython3",
   "version": "3.5.2"
  },
  "widgets": {
   "state": {},
   "version": "1.1.2"
  }
 },
 "nbformat": 4,
 "nbformat_minor": 2
}
