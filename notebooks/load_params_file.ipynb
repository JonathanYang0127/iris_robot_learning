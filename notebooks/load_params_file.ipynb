{
 "cells": [
  {
   "cell_type": "code",
   "execution_count": 1,
   "metadata": {
    "collapsed": true
   },
   "outputs": [],
   "source": [
    "from rllab.sampler.utils import rollout\n",
    "import joblib\n",
    "import tensorflow as tf"
   ]
  },
  {
   "cell_type": "code",
   "execution_count": 6,
   "metadata": {
    "collapsed": false
   },
   "outputs": [],
   "source": [
    "speedup = 1\n",
    "max_path_length = 1000\n",
    "file = \"../data/local/2-14-dev-linear-ocm--branch-fix-manual-qf/2-14-dev-linear-ocm--branch-fix-manual-qf_2017_02_14_16_55_59_0000--s-0/params.pkl\"\n"
   ]
  },
  {
   "cell_type": "code",
   "execution_count": 7,
   "metadata": {
    "collapsed": false
   },
   "outputs": [],
   "source": [
    "tf.reset_default_graph()\n",
    "with tf.Session() as sess:\n",
    "    data = joblib.load(file)    "
   ]
  },
  {
   "cell_type": "code",
   "execution_count": 9,
   "metadata": {
    "collapsed": true
   },
   "outputs": [],
   "source": [
    "if 'policy' in data:\n",
    "    policy = data['policy']\n",
    "else:\n",
    "    qf = data['optimizable_qfunction']\n",
    "    policy = qf.implicit_policy\n",
    "qf = data['eq']\n",
    "env = data['env']"
   ]
  },
  {
   "cell_type": "code",
   "execution_count": 2,
   "metadata": {
    "collapsed": false
   },
   "outputs": [
    {
     "ename": "SyntaxError",
     "evalue": "invalid syntax (<ipython-input-2-42017174742f>, line 11)",
     "output_type": "error",
     "traceback": [
      "\u001b[0;36m  File \u001b[0;32m\"<ipython-input-2-42017174742f>\"\u001b[0;36m, line \u001b[0;32m11\u001b[0m\n\u001b[0;31m    file =\u001b[0m\n\u001b[0m           ^\u001b[0m\n\u001b[0;31mSyntaxError\u001b[0m\u001b[0;31m:\u001b[0m invalid syntax\n"
     ]
    }
   ],
   "source": [
    "print(\"Policy loaded\")\n",
    "while True:\n",
    "    try:\n",
    "        path = rollout(env, policy, max_path_length=args.max_path_length,\n",
    "                       animated=True, speedup=args.speedup)\n",
    "    # Hack for now. Not sure why rollout assumes that close is an\n",
    "    # keyword argument\n",
    "    except TypeError as e:\n",
    "        if (str(e) != \"render() got an unexpected keyword \"\n",
    "                      \"argument 'close'\"):\n",
    "            raise e"
   ]
  },
  {
   "cell_type": "code",
   "execution_count": 11,
   "metadata": {
    "collapsed": false
   },
   "outputs": [
    {
     "data": {
      "text/plain": [
       "{'_Serializable__args': ('critic',),\n",
       " '_Serializable__kwargs': {'env_spec': <rllab.envs.env_spec.EnvSpec at 0x7fa4000db0b8>},\n",
       " '_batch_norm': False,\n",
       " '_batch_norm_config': None,\n",
       " '_bn_stat_update_ops': [],\n",
       " '_cached_assign_ops': {<tensorflow.python.ops.variables.Variable at 0x7fa4000e3898>: <tf.Tensor 'Assign:0' shape=(12, 1) dtype=float32_ref>,\n",
       "  <tensorflow.python.ops.variables.Variable at 0x7fa4000e3dd8>: <tf.Tensor 'Assign_1:0' shape=(1,) dtype=float32_ref>},\n",
       " '_cached_assign_placeholders': {<tensorflow.python.ops.variables.Variable at 0x7fa4000e3898>: <tf.Tensor 'Placeholder:0' shape=<unknown> dtype=float32>,\n",
       "  <tensorflow.python.ops.variables.Variable at 0x7fa4000e3dd8>: <tf.Tensor 'Placeholder_1:0' shape=<unknown> dtype=float32>},\n",
       " '_cached_param_dtypes': {(): [dtype('float32'), dtype('float32')]},\n",
       " '_cached_param_shapes': {(): [(12, 1), (1,)]},\n",
       " '_cached_params': {(): [<tensorflow.python.ops.variables.Variable at 0x7fa4000e3898>,\n",
       "   <tensorflow.python.ops.variables.Variable at 0x7fa4000e3dd8>]},\n",
       " '_eval_output': <tf.Tensor 'critic_1/output_linear/Tanh:0' shape=(?, 1) dtype=float32>,\n",
       " '_full_scope_name': 'critic',\n",
       " '_is_bn_in_training_mode': False,\n",
       " '_output': <tf.Tensor 'critic_1/output_linear/Tanh:0' shape=(?, 1) dtype=float32>,\n",
       " '_reuse': False,\n",
       " '_serializable_initialized': True,\n",
       " '_sess': None,\n",
       " '_subnetwork_list': [],\n",
       " '_training_output': <tf.Tensor 'critic_1/output_linear/Tanh:0' shape=(?, 1) dtype=float32>,\n",
       " 'action_dim': (3, 3),\n",
       " 'action_input': (<tf.Tensor 'critic/action_input_0:0' shape=(?, 3) dtype=float32>,\n",
       "  <tf.Tensor 'critic/action_input_1:0' shape=(?, 3) dtype=float32>),\n",
       " 'observation_dim': (3, 3),\n",
       " 'observation_input': (<tf.Tensor 'critic/observation_input_0:0' shape=(?, 3) dtype=float32>,\n",
       "  <tf.Tensor 'critic/observation_input_1:0' shape=(?, 3) dtype=float32>),\n",
       " 'output_dim': 1,\n",
       " 'scope_name': 'critic'}"
      ]
     },
     "execution_count": 11,
     "metadata": {},
     "output_type": "execute_result"
    }
   ],
   "source": [
    "vars(qf)"
   ]
  },
  {
   "cell_type": "code",
   "execution_count": null,
   "metadata": {
    "collapsed": true
   },
   "outputs": [],
   "source": []
  }
 ],
 "metadata": {
  "kernelspec": {
   "display_name": "Python 3",
   "language": "python",
   "name": "python3"
  },
  "language_info": {
   "codemirror_mode": {
    "name": "ipython",
    "version": 3
   },
   "file_extension": ".py",
   "mimetype": "text/x-python",
   "name": "python",
   "nbconvert_exporter": "python",
   "pygments_lexer": "ipython3",
   "version": "3.5.2"
  },
  "widgets": {
   "state": {},
   "version": "1.1.2"
  }
 },
 "nbformat": 4,
 "nbformat_minor": 2
}
