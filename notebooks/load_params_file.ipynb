{
 "cells": [
  {
   "cell_type": "code",
   "execution_count": 1,
   "metadata": {
    "collapsed": true
   },
   "outputs": [],
   "source": [
    "from rllab.sampler.utils import rollout\n",
    "import joblib\n",
    "import tensorflow as tf"
   ]
  },
  {
   "cell_type": "code",
   "execution_count": 6,
   "metadata": {
    "collapsed": false
   },
   "outputs": [],
   "source": [
    "speedup = 1\n",
    "max_path_length = 1000\n",
    "file = \"../data/local/2-14-dev-linear-ocm--branch-fix-manual-qf/2-14-dev-linear-ocm--branch-fix-manual-qf_2017_02_14_16_55_59_0000--s-0/params.pkl\"\n"
   ]
  },
  {
   "cell_type": "code",
   "execution_count": 20,
   "metadata": {
    "collapsed": false
   },
   "outputs": [],
   "source": [
    "sess_context.__exit__(None, None, None)"
   ]
  },
  {
   "cell_type": "code",
   "execution_count": 21,
   "metadata": {
    "collapsed": false
   },
   "outputs": [],
   "source": [
    "tf.reset_default_graph()\n",
    "sess = tf.Session()\n",
    "sess_context = sess.as_default()\n",
    "sess_context.__enter__()\n",
    "data = joblib.load(file)"
   ]
  },
  {
   "cell_type": "code",
   "execution_count": 22,
   "metadata": {
    "collapsed": true
   },
   "outputs": [],
   "source": [
    "if 'policy' in data:\n",
    "    policy = data['policy']\n",
    "else:\n",
    "    qf = data['optimizable_qfunction']\n",
    "    policy = qf.implicit_policy\n",
    "qf = data['eq']\n",
    "env = data['env']"
   ]
  },
  {
   "cell_type": "code",
   "execution_count": 42,
   "metadata": {
    "collapsed": false
   },
   "outputs": [],
   "source": [
    "try:\n",
    "    path = rollout(env, policy, max_path_length=max_path_length,\n",
    "                   animated=False, speedup=speedup)\n",
    "# Hack for now. Not sure why rollout assumes that close is an\n",
    "# keyword argument\n",
    "except TypeError as e:\n",
    "    if (str(e) != \"render() got an unexpected keyword \"\n",
    "                  \"argument 'close'\"):\n",
    "        raise e"
   ]
  },
  {
   "cell_type": "code",
   "execution_count": 33,
   "metadata": {
    "collapsed": true
   },
   "outputs": [],
   "source": [
    "def to_onehot(x, num_values):\n",
    "    onehot = np.zeros((1, num_values))\n",
    "    onehot[0, x] = 1\n",
    "    return onehot"
   ]
  },
  {
   "cell_type": "code",
   "execution_count": 44,
   "metadata": {
    "collapsed": false
   },
   "outputs": [
    {
     "data": {
      "text/plain": [
       "array([[ 0.93430549]], dtype=float32)"
      ]
     },
     "execution_count": 44,
     "metadata": {},
     "output_type": "execute_result"
    }
   ],
   "source": [
    "env_action = np.array([[1, 0, 0]])\n",
    "write_action = to_onehot(1, 3)\n",
    "env_obs = to_onehot(1, 3)\n",
    "memory = np.array([[0, 0, 5]])\n",
    "\n",
    "action = env_action, write_action\n",
    "obs = env_obs, memory\n",
    "sess.run(\n",
    "    qf.output,\n",
    "    {\n",
    "        qf.action_input: action,\n",
    "        qf.observation_input: obs,\n",
    "    }\n",
    ")"
   ]
  },
  {
   "cell_type": "code",
   "execution_count": 43,
   "metadata": {
    "collapsed": false
   },
   "outputs": [
    {
     "data": {
      "text/plain": [
       "{'actions': array([[ 0.,  1.,  0.,  0.,  1.,  0.]], dtype=float32),\n",
       " 'agent_infos': {},\n",
       " 'env_infos': {'target': array([2])},\n",
       " 'observations': array([[ 0.,  1.,  0.,  0.,  0.,  0.]]),\n",
       " 'rewards': array([1]),\n",
       " 'terminals': array([ True], dtype=bool)}"
      ]
     },
     "execution_count": 43,
     "metadata": {},
     "output_type": "execute_result"
    }
   ],
   "source": [
    "path"
   ]
  },
  {
   "cell_type": "code",
   "execution_count": null,
   "metadata": {
    "collapsed": true
   },
   "outputs": [],
   "source": []
  }
 ],
 "metadata": {
  "kernelspec": {
   "display_name": "Python 3",
   "language": "python",
   "name": "python3"
  },
  "language_info": {
   "codemirror_mode": {
    "name": "ipython",
    "version": 3
   },
   "file_extension": ".py",
   "mimetype": "text/x-python",
   "name": "python",
   "nbconvert_exporter": "python",
   "pygments_lexer": "ipython3",
   "version": "3.5.2"
  },
  "widgets": {
   "state": {},
   "version": "1.1.2"
  }
 },
 "nbformat": 4,
 "nbformat_minor": 2
}
