{
 "cells": [
  {
   "cell_type": "markdown",
   "metadata": {
    "deletable": true,
    "editable": true
   },
   "source": [
    "# Load data"
   ]
  },
  {
   "cell_type": "code",
   "execution_count": 1,
   "metadata": {
    "collapsed": true,
    "deletable": true,
    "editable": true
   },
   "outputs": [],
   "source": [
    "import numpy as np"
   ]
  },
  {
   "cell_type": "code",
   "execution_count": 2,
   "metadata": {
    "collapsed": false,
    "deletable": true,
    "editable": true
   },
   "outputs": [],
   "source": [
    "base_dir = '/home/vitchyr/git/rllab-rail/railrl/data/replay_buffer'\n",
    "\n",
    "all_actions = np.loadtxt(base_dir + \"/actions.csv\", delimiter=',')\n",
    "all_obs = np.loadtxt(base_dir + \"/obs.csv\", delimiter=',')\n",
    "all_rewards = np.loadtxt(base_dir + \"/rewards.csv\", delimiter=',')\n",
    "all_terminals = np.loadtxt(base_dir + \"/terminals.csv\", delimiter=',')"
   ]
  },
  {
   "cell_type": "code",
   "execution_count": 3,
   "metadata": {
    "collapsed": false,
    "deletable": true,
    "editable": true
   },
   "outputs": [],
   "source": [
    "nonzero = [i for i, e in enumerate(all_terminals) if e != 0]\n",
    "last_full_episode_idx = nonzero[-1] + 1"
   ]
  },
  {
   "cell_type": "code",
   "execution_count": 188,
   "metadata": {
    "collapsed": false,
    "deletable": true,
    "editable": true
   },
   "outputs": [],
   "source": [
    "terminals = all_terminals[:last_full_episode_idx]\n",
    "obs = all_obs[:last_full_episode_idx]\n",
    "next_obs = all_obs[1:last_full_episode_idx+1]\n",
    "actions = all_actions[:last_full_episode_idx]\n",
    "rewards = all_rewards[:last_full_episode_idx]"
   ]
  },
  {
   "cell_type": "code",
   "execution_count": 5,
   "metadata": {
    "collapsed": false,
    "deletable": true,
    "editable": true
   },
   "outputs": [],
   "source": [
    "positive_idxs = np.array([i for i, reward in enumerate(rewards) if reward == 1.0])\n",
    "negative_idxs = np.array([i for i, reward in enumerate(rewards) if reward == -1.0])"
   ]
  },
  {
   "cell_type": "code",
   "execution_count": 164,
   "metadata": {
    "collapsed": false,
    "deletable": true,
    "editable": true
   },
   "outputs": [
    {
     "name": "stdout",
     "output_type": "stream",
     "text": [
      "[[ 0.02178212  0.03042386  0.94779396  1.91589522  0.48581049  0.48751163\n",
      "  -0.41613626 -1.9611131   0.54505563  0.28782532 -2.06506801  0.85537577\n",
      "  -1.47169018  0.27841741 -2.12769747 -0.14251566  1.11679518  1.58600557\n",
      "   1.1028744   0.12133752 -0.51180929 -1.27574861 -2.10457659  0.          0.\n",
      "   0.          0.          1.          2.433213    1.27684808  0.78330934\n",
      "  -0.28774428 -1.61146951  0.08649832  0.67768312 -1.63380432  1.28239703\n",
      "  -0.50291008 -1.02575374  0.13314483 -0.79683441  1.43321633 -0.06803162\n",
      "   0.56435943  0.0181534  -1.09016824 -1.55162406  0.51332968  0.          0.\n",
      "   0.          0.          0.          1.91589522  0.48581049  0.48751163\n",
      "  -0.41613626 -1.9611131   0.54505563  0.28782532 -2.06506801  0.85537577\n",
      "  -1.47169018  0.27841741 -2.12769747 -0.14251566  1.11679518  1.58600557\n",
      "   1.1028744   0.12133752 -0.51180929 -1.27574861 -2.10457659]]\n",
      "[ 1.]\n"
     ]
    }
   ],
   "source": [
    "Xpos = np.hstack((\n",
    "    actions[positive_idxs],\n",
    "    obs[positive_idxs],\n",
    "    next_obs[positive_idxs]\n",
    "))\n",
    "num_pos = Xpos.shape[0]\n",
    "Xneg = np.hstack((\n",
    "    actions[negative_idxs],\n",
    "    obs[negative_idxs],\n",
    "    next_obs[negative_idxs]\n",
    "))\n",
    "num_neg = Xneg.shape[0]\n",
    "raw_X = np.vstack((Xpos, Xneg))\n",
    "num_total = num_pos + num_neg"
   ]
  },
  {
   "cell_type": "code",
   "execution_count": 165,
   "metadata": {
    "collapsed": false,
    "deletable": true,
    "editable": true
   },
   "outputs": [
    {
     "name": "stdout",
     "output_type": "stream",
     "text": [
      "(1428,)\n",
      "(1428, 73)\n"
     ]
    }
   ],
   "source": [
    "print(raw_y.shape)\n",
    "print(raw_X.shape)"
   ]
  },
  {
   "cell_type": "code",
   "execution_count": 166,
   "metadata": {
    "collapsed": false,
    "deletable": true,
    "editable": true,
    "scrolled": true
   },
   "outputs": [
    {
     "data": {
      "text/plain": [
       "(1428,)"
      ]
     },
     "execution_count": 166,
     "metadata": {},
     "output_type": "execute_result"
    }
   ],
   "source": [
    "X, y = shuffle(raw_X, raw_y, random_state=0)\n",
    "y.shape"
   ]
  },
  {
   "cell_type": "markdown",
   "metadata": {
    "deletable": true,
    "editable": true
   },
   "source": [
    "# TensorFlow model to train"
   ]
  },
  {
   "cell_type": "markdown",
   "metadata": {
    "deletable": true,
    "editable": true
   },
   "source": []
  },
  {
   "cell_type": "markdown",
   "metadata": {
    "deletable": true,
    "editable": true
   },
   "source": [
    "# Shuffle and build data set"
   ]
  },
  {
   "cell_type": "code",
   "execution_count": 184,
   "metadata": {
    "collapsed": true
   },
   "outputs": [],
   "source": [
    "raw_y = np.hstack((np.ones(num_pos), np.zeros(num_neg)))"
   ]
  },
  {
   "cell_type": "code",
   "execution_count": 152,
   "metadata": {
    "collapsed": false,
    "deletable": true,
    "editable": true
   },
   "outputs": [],
   "source": [
    "from sklearn.utils import shuffle\n",
    "from sklearn.model_selection import ShuffleSplit\n",
    "from sklearn.linear_model import LogisticRegression\n",
    "from sklearn.model_selection import train_test_split\n",
    "from sklearn import metrics\n",
    "from sklearn.model_selection import cross_val_score"
   ]
  },
  {
   "cell_type": "code",
   "execution_count": null,
   "metadata": {
    "collapsed": false,
    "deletable": true,
    "editable": true
   },
   "outputs": [],
   "source": [
    "scores = cross_val_score(LogisticRegression(), X, y, scoring='accuracy', cv=10)\n",
    "print(scores)\n",
    "print(scores.mean())"
   ]
  },
  {
   "cell_type": "code",
   "execution_count": 12,
   "metadata": {
    "collapsed": false,
    "deletable": true,
    "editable": true
   },
   "outputs": [
    {
     "name": "stdout",
     "output_type": "stream",
     "text": [
      "0.762838468721\n",
      "0.771241830065\n",
      "0.77964519141\n"
     ]
    }
   ],
   "source": [
    "rs = ShuffleSplit(n_splits=3, test_size=.25, random_state=0)\n",
    "for train_index, test_index in rs.split(raw_X):\n",
    "    X = raw_X[train_index]\n",
    "    y = raw_y[train_index]\n",
    "    model = LogisticRegression()\n",
    "    model = model.fit(X, y)\n",
    "    print(model.score(X, y))"
   ]
  },
  {
   "cell_type": "markdown",
   "metadata": {
    "deletable": true,
    "editable": true
   },
   "source": [
    "# PyTorch"
   ]
  },
  {
   "cell_type": "code",
   "execution_count": 167,
   "metadata": {
    "collapsed": true,
    "deletable": true,
    "editable": true
   },
   "outputs": [],
   "source": [
    "from itertools import count\n",
    "\n",
    "import torch\n",
    "import torch.autograd\n",
    "import torch.nn.functional as F\n",
    "from torch.autograd import Variable\n",
    "import torch.nn as nn\n",
    "import torch.optim as optim"
   ]
  },
  {
   "cell_type": "code",
   "execution_count": 192,
   "metadata": {
    "collapsed": false,
    "deletable": true,
    "editable": true
   },
   "outputs": [],
   "source": [
    "pos = np.zeros((num_pos, 2))\n",
    "pos[:, 0] = 1\n",
    "neg = np.zeros((num_neg, 2))\n",
    "neg[:, 1] = 1\n",
    "raw_y_onehot = np.vstack((pos, neg))\n",
    "\n",
    "torch_X, torch_y = shuffle(raw_X, raw_y_onehot, random_state=0)\n",
    "torch_X = torch.from_numpy(torch_X).float()\n",
    "torch_y = torch.from_numpy(torch_y).float()\n",
    "\n",
    "Xv = Variable(torch_X)\n",
    "Yv = Variable(torch_y)"
   ]
  },
  {
   "cell_type": "markdown",
   "metadata": {},
   "source": [
    "## Three-way one-hot vector for reward of +1, 0, or -1"
   ]
  },
  {
   "cell_type": "code",
   "execution_count": 244,
   "metadata": {
    "collapsed": true
   },
   "outputs": [],
   "source": [
    "def to_onehot_n(inds, dim):\n",
    "    ret = np.zeros((len(inds), dim))\n",
    "    ret[np.arange(len(inds)), inds] = 1\n",
    "    return ret\n",
    "all_y_onehot = to_onehot_n((rewards+1).astype(int), 3)"
   ]
  },
  {
   "cell_type": "code",
   "execution_count": 231,
   "metadata": {
    "collapsed": false
   },
   "outputs": [],
   "source": [
    "all_X = np.hstack((\n",
    "    actions,\n",
    "    obs,\n",
    "    next_obs\n",
    "))\n",
    "all_X_torch = torch.from_numpy(all_X).float()\n",
    "all_y_torch = torch.from_numpy(rewards + 1).long()\n",
    "all_Xv = Variable(all_X_torch)\n",
    "all_Yv = Variable(all_y_torch)"
   ]
  },
  {
   "cell_type": "code",
   "execution_count": 225,
   "metadata": {
    "collapsed": false,
    "deletable": true,
    "editable": true
   },
   "outputs": [],
   "source": [
    "class Net(nn.Module):\n",
    "\n",
    "    def __init__(self, feature_dim, num_classes):\n",
    "        super(Net, self).__init__()\n",
    "        # an affine operation: y = Wx + b\n",
    "        self.fc1 = nn.Linear(feature_dim, 100)\n",
    "        self.fc2 = nn.Linear(100, 64)\n",
    "        self.fc3 = nn.Linear(64, num_classes)\n",
    "        self.softmax = nn.Softmax()\n",
    "\n",
    "    def forward(self, x):\n",
    "        x = x.view(-1, self.num_flat_features(x))\n",
    "        x = F.relu(self.fc1(x))\n",
    "        x = F.relu(self.fc2(x))\n",
    "        x = self.fc3(x)\n",
    "        x = self.softmax(x)\n",
    "        return x\n",
    "\n",
    "    def num_flat_features(self, x):\n",
    "        size = x.size()[1:]  # all dimensions except the batch dimension\n",
    "        num_features = 1\n",
    "        for s in size:\n",
    "            num_features *= s\n",
    "        return num_features"
   ]
  },
  {
   "cell_type": "code",
   "execution_count": 226,
   "metadata": {
    "collapsed": false,
    "deletable": true,
    "editable": true
   },
   "outputs": [],
   "source": [
    "def get_torch_iterator(X, y, batch_size=32):\n",
    "    i = 0\n",
    "    num_elements = len(X)\n",
    "    while True:\n",
    "        yield Variable(X[i:i+batch_size]), Variable(y[i:i+batch_size])\n",
    "        i = (i + batch_size) % num_elements"
   ]
  },
  {
   "cell_type": "code",
   "execution_count": 227,
   "metadata": {
    "collapsed": false,
    "deletable": true,
    "editable": true
   },
   "outputs": [
    {
     "name": "stdout",
     "output_type": "stream",
     "text": [
      "torch.Size([9995, 73])\n",
      "torch.Size([9995])\n"
     ]
    }
   ],
   "source": [
    "print(all_X_torch.size())\n",
    "print(all_y_torch.size())"
   ]
  },
  {
   "cell_type": "code",
   "execution_count": 228,
   "metadata": {
    "collapsed": false,
    "deletable": true,
    "editable": true
   },
   "outputs": [],
   "source": [
    "feature_dim = X.shape[1]\n",
    "num_classes = 3\n",
    "net = Net(feature_dim, num_classes)\n",
    "batch_iterator = get_torch_iterator(all_X_torch, all_y_torch)\n",
    "criterion = nn.CrossEntropyLoss()\n",
    "optimizer = optim.Adam(net.parameters(), lr=0.001)\n",
    "for _ in range(1000):\n",
    "    # Get data\n",
    "    batch_x, batch_y = next(batch_iterator)\n",
    "\n",
    "    # Reset gradients\n",
    "    optimizer.zero_grad()\n",
    "\n",
    "    # Forward pass\n",
    "    output = net(batch_x)\n",
    "    loss = criterion(output, batch_y)\n",
    "    \n",
    "    # Backward pass\n",
    "    loss.backward()\n",
    "\n",
    "    # Apply gradients\n",
    "    optimizer.step()\n",
    "#     for param in net.parameters():\n",
    "#         param.data.add_(-0.1 * param.grad.data)"
   ]
  },
  {
   "cell_type": "markdown",
   "metadata": {},
   "source": [
    "# Analyze model"
   ]
  },
  {
   "cell_type": "code",
   "execution_count": 256,
   "metadata": {
    "collapsed": false,
    "deletable": true,
    "editable": true
   },
   "outputs": [
    {
     "name": "stdout",
     "output_type": "stream",
     "text": [
      "Accuracy 0.857128564282\n",
      "Cross Entropy 0.694268\n",
      "MSE Onehots 0.0952429606003\n"
     ]
    }
   ],
   "source": [
    "loss = criterion(net(all_Xv), all_Yv).data.numpy()\n",
    "yhat_soft = net(all_Xv).data.numpy()\n",
    "y = all_Yv.data.numpy().astype(int)\n",
    "yhat = np.argmax(yhat_soft, axis=1)\n",
    "print(\"Accuracy\", np.mean(y == yhat))\n",
    "print(\"Cross Entropy\", np.mean(loss))\n",
    "print(\"MSE Onehots\", np.mean((yhat_soft-all_y_onehot)**2))"
   ]
  },
  {
   "cell_type": "code",
   "execution_count": 260,
   "metadata": {
    "collapsed": false
   },
   "outputs": [
    {
     "name": "stdout",
     "output_type": "stream",
     "text": [
      "[[   0  723    0]\n",
      " [   0 8567    0]\n",
      " [   0  705    0]]\n"
     ]
    }
   ],
   "source": [
    "from sklearn.metrics import confusion_matrix\n",
    "cnf_matrix = confusion_matrix(y, yhat)\n",
    "print(cnf_matrix)"
   ]
  },
  {
   "cell_type": "code",
   "execution_count": null,
   "metadata": {
    "collapsed": true
   },
   "outputs": [],
   "source": []
  }
 ],
 "metadata": {
  "kernelspec": {
   "display_name": "Python 3",
   "language": "python",
   "name": "python3"
  },
  "language_info": {
   "codemirror_mode": {
    "name": "ipython",
    "version": 3
   },
   "file_extension": ".py",
   "mimetype": "text/x-python",
   "name": "python",
   "nbconvert_exporter": "python",
   "pygments_lexer": "ipython3",
   "version": "3.5.2"
  },
  "widgets": {
   "state": {},
   "version": "1.1.2"
  }
 },
 "nbformat": 4,
 "nbformat_minor": 2
}
