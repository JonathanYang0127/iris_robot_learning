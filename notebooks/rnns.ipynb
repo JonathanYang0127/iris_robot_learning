{
 "cells": [
  {
   "cell_type": "code",
   "execution_count": null,
   "metadata": {
    "collapsed": true
   },
   "outputs": [],
   "source": [
    "import railrl.misc"
   ]
  },
  {
   "cell_type": "code",
   "execution_count": null,
   "metadata": {},
   "outputs": [],
   "source": [
    "%matplotlib inline"
   ]
  },
  {
   "cell_type": "code",
   "execution_count": 2,
   "metadata": {},
   "outputs": [
    {
     "data": {
      "text/plain": [
       "8"
      ]
     },
     "execution_count": 2,
     "metadata": {},
     "output_type": "execute_result"
    }
   ],
   "source": [
    "4+4"
   ]
  },
  {
   "cell_type": "markdown",
   "metadata": {},
   "source": [
    "# Create a basic RNN"
   ]
  },
  {
   "cell_type": "code",
   "execution_count": 1,
   "metadata": {},
   "outputs": [],
   "source": [
    "import tensorflow as tf\n",
    "import numpy as np"
   ]
  },
  {
   "cell_type": "code",
   "execution_count": 9,
   "metadata": {},
   "outputs": [],
   "source": [
    "sess = tf.InteractiveSession()"
   ]
  },
  {
   "cell_type": "code",
   "execution_count": 7,
   "metadata": {},
   "outputs": [],
   "source": [
    "num_steps = 3\n",
    "x_dim = 2\n",
    "y_dim = 2\n",
    "state_size = 5\n",
    "learning_rate = 1e-3"
   ]
  },
  {
   "cell_type": "code",
   "execution_count": 8,
   "metadata": {},
   "outputs": [],
   "source": [
    "x = tf.placeholder(\n",
    "    tf.int32,\n",
    "    [None, num_steps, num_classes],\n",
    "    name='input_placeholder',\n",
    ")\n",
    "y = tf.placeholder(\n",
    "    tf.int32,\n",
    "    [None, num_steps, num_classes],\n",
    "    name='labels_placeholder',\n",
    ")\n",
    "\n",
    "rnn_inputs = tf.unpack(tf.cast(x, tf.float32), axis=1)\n",
    "labels = tf.unpack(tf.cast(y, tf.float32), axis=1)\n",
    "\n",
    "cell = tf.nn.rnn_cell.LSTMCell(state_size, state_is_tuple=True)\n",
    "rnn_outputs, final_state = tf.nn.rnn(\n",
    "    cell,\n",
    "    rnn_inputs,\n",
    "    dtype=tf.float32,\n",
    ")\n",
    "\n",
    "with tf.variable_scope('softmax'):\n",
    "    W = tf.get_variable('W', [state_size, num_classes])\n",
    "    b = tf.get_variable('b', [num_classes],\n",
    "                        initializer=tf.constant_initializer(0.0))\n",
    "logits = [tf.matmul(rnn_output, W) + b for rnn_output in rnn_outputs]\n",
    "predictions = [tf.nn.softmax(logit) for logit in logits]\n",
    "\n",
    "total_loss = tf.nn.sigmoid_cross_entropy_with_logits(logits, labels)\n",
    "train_step = tf.train.AdamOptimizer(\n",
    "    learning_rate).minimize(\n",
    "    total_loss)"
   ]
  },
  {
   "cell_type": "code",
   "execution_count": 10,
   "metadata": {},
   "outputs": [
    {
     "name": "stdout",
     "output_type": "stream",
     "text": [
      "5\nLSTMStateTuple(c=5, h=5)\n"
     ]
    }
   ],
   "source": [
    "print(cell.output_size)\n",
    "print(cell.state_size)"
   ]
  },
  {
   "cell_type": "code",
   "execution_count": null,
   "metadata": {},
   "outputs": [],
   "source": [
    "cell_input = tf.placeholder(\n",
    "    tf.int32,\n",
    "    [None, ]\n",
    ")\n",
    "cell_input = tf.placeholder(\n",
    "    tf.int32,\n",
    "    [None]\n",
    ")\n",
    "state = np.array([0, 0, 0, 0, 0]), np.array([0, 0, 0, 0, 0])\n",
    "cell_output = cell(cell_input, cell_state)\n",
    "sess.run(\n",
    "    cell\n",
    ")"
   ]
  }
 ],
 "metadata": {
  "kernelspec": {
   "display_name": "Python 2",
   "language": "python",
   "name": "python2"
  },
  "language_info": {
   "codemirror_mode": {
    "name": "ipython",
    "version": 2.0
   },
   "file_extension": ".py",
   "mimetype": "text/x-python",
   "name": "python",
   "nbconvert_exporter": "python",
   "pygments_lexer": "ipython2",
   "version": "2.7.6"
  }
 },
 "nbformat": 4,
 "nbformat_minor": 0
}