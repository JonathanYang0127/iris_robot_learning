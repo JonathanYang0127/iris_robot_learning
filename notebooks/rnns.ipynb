{
 "cells": [
  {
   "cell_type": "code",
   "execution_count": 1,
   "metadata": {
    "collapsed": true
   },
   "outputs": [],
   "source": [
    "import railrl.misc"
   ]
  },
  {
   "cell_type": "code",
   "execution_count": 2,
   "metadata": {},
   "outputs": [],
   "source": [
    "#http://localhost:8897/?token=867d5e6b544df64bc4f175f9cc76a060e388c8d68b38eef2"
   ]
  },
  {
   "cell_type": "code",
   "execution_count": 3,
   "metadata": {},
   "outputs": [],
   "source": [
    "%matplotlib inline"
   ]
  },
  {
   "cell_type": "code",
   "execution_count": 4,
   "metadata": {},
   "outputs": [
    {
     "data": {
      "text/plain": [
       "8"
      ]
     },
     "execution_count": 4,
     "metadata": {},
     "output_type": "execute_result"
    }
   ],
   "source": [
    "4+4"
   ]
  },
  {
   "cell_type": "markdown",
   "metadata": {},
   "source": [
    "# Create a basic RNN"
   ]
  },
  {
   "cell_type": "code",
   "execution_count": 2,
   "metadata": {},
   "outputs": [],
   "source": [
    "import tensorflow as tf\n",
    "import numpy as np"
   ]
  },
  {
   "cell_type": "code",
   "execution_count": 8,
   "metadata": {},
   "outputs": [],
   "source": [
    "tf.reset_default_graph()\n",
    "sess = tf.InteractiveSession()"
   ]
  },
  {
   "cell_type": "code",
   "execution_count": 9,
   "metadata": {},
   "outputs": [],
   "source": [
    "num_steps = 1\n",
    "num_lst_units = 5\n",
    "x_dim = 2\n",
    "y_dim = 2\n",
    "learning_rate = 1e-3"
   ]
  },
  {
   "cell_type": "code",
   "execution_count": 10,
   "metadata": {},
   "outputs": [],
   "source": [
    "cell = tf.nn.rnn_cell.LSTMCell(num_lst_units, state_is_tuple=True)"
   ]
  },
  {
   "cell_type": "code",
   "execution_count": 11,
   "metadata": {},
   "outputs": [],
   "source": [
    "cell_input = tf.placeholder(\n",
    "    tf.float32,\n",
    "    [None, x_dim]\n",
    ")\n",
    "cell_state = (tf.placeholder(tf.float32, [None, num_lst_units]),\n",
    "              tf.placeholder(tf.float32, [None, num_lst_units]))\n",
    "with tf.variable_scope(\"foo\") as my_scope:\n",
    "    cell_output = cell(cell_input, cell_state)"
   ]
  },
  {
   "cell_type": "code",
   "execution_count": 12,
   "metadata": {},
   "outputs": [],
   "source": [
    "rnn_inputs_ph = tf.placeholder(\n",
    "    tf.float32,\n",
    "    [None, num_steps, x_dim],\n",
    "    name='input_placeholder',\n",
    ")\n",
    "\n",
    "rnn_inputs = tf.unpack(rnn_inputs_ph, axis=1)\n",
    "\n",
    "my_scope.reuse_variables()\n",
    "with tf.variable_scope(my_scope):\n",
    "    rnn_outputs, final_state = tf.nn.rnn(\n",
    "        cell,\n",
    "        rnn_inputs,\n",
    "        initial_state=cell_state,\n",
    "        dtype=tf.float32,\n",
    "        scope=my_scope,\n",
    "    )\n",
    "\n",
    "# labels_ph = tf.placeholder(\n",
    "#     tf.float32,\n",
    "#     [None, num_steps, y_dim],\n",
    "#     name='labels_placeholder',\n",
    "# )\n",
    "# labels = tf.unpack(labels_ph, axis=1)\n",
    "# \n",
    "# with tf.variable_scope('softmax'):\n",
    "#     W = tf.get_variable('W', [num_lst_units, y_dim])\n",
    "#     b = tf.get_variable('b', [y_dim],\n",
    "#                         initializer=tf.constant_initializer(0.0))\n",
    "# logits = [tf.matmul(rnn_output, W) + b for rnn_output in rnn_outputs]\n",
    "# predictions = [tf.nn.softmax(logit) for logit in logits]\n",
    "# \n",
    "# total_loss = tf.nn.sigmoid_cross_entropy_with_logits(logits, labels)\n",
    "# train_step = tf.train.AdamOptimizer(\n",
    "#     learning_rate).minimize(\n",
    "#     total_loss)"
   ]
  },
  {
   "cell_type": "code",
   "execution_count": 13,
   "metadata": {},
   "outputs": [],
   "source": [
    "sess.run(tf.global_variables_initializer())"
   ]
  },
  {
   "cell_type": "code",
   "execution_count": 14,
   "metadata": {},
   "outputs": [],
   "source": [
    "batch_size = 4\n",
    "\n",
    "rnn_input_values = np.random.rand(batch_size, num_steps, x_dim)\n",
    "input_values = rnn_input_values[:, 0, :]\n",
    "state_values = (np.zeros((batch_size, num_lst_units)),\n",
    "                np.zeros((batch_size, num_lst_units)))"
   ]
  },
  {
   "cell_type": "code",
   "execution_count": 15,
   "metadata": {},
   "outputs": [
    {
     "name": "stdout",
     "output_type": "stream",
     "text": [
      "Tensor(\"Placeholder:0\", shape=(?, 2), dtype=float32) [[ 0.67583134  0.30547555]\n [ 0.00806199  0.51846878]\n [ 0.06714005  0.03481196]\n [ 0.98799726  0.9286102 ]]\n(<tf.Tensor 'Placeholder_1:0' shape=(?, 5) dtype=float32>, <tf.Tensor 'Placeholder_2:0' shape=(?, 5) dtype=float32>) (array([[ 0.,  0.,  0.,  0.,  0.],\n       [ 0.,  0.,  0.,  0.,  0.],\n       [ 0.,  0.,  0.,  0.,  0.],\n       [ 0.,  0.,  0.,  0.,  0.]]), array([[ 0.,  0.,  0.,  0.,  0.],\n       [ 0.,  0.,  0.,  0.,  0.],\n       [ 0.,  0.,  0.,  0.,  0.],\n       [ 0.,  0.,  0.,  0.,  0.]]))\n[<tf.Tensor 'unpack:0' shape=(?, 2) dtype=float32>] [[[ 0.67583134  0.30547555]]\n\n [[ 0.00806199  0.51846878]]\n\n [[ 0.06714005  0.03481196]]\n\n [[ 0.98799726  0.9286102 ]]]\n(<tf.Tensor 'foo/LSTMCell/mul_2:0' shape=(?, 5) dtype=float32>, LSTMStateTuple(c=<tf.Tensor 'foo/LSTMCell/add_1:0' shape=(?, 5) dtype=float32>, h=<tf.Tensor 'foo/LSTMCell/mul_2:0' shape=(?, 5) dtype=float32>))\n[<tf.Tensor 'foo_1/foo/LSTMCell/mul_2:0' shape=(?, 5) dtype=float32>]\n"
     ]
    }
   ],
   "source": [
    "print(cell_input, input_values)\n",
    "print(cell_state, state_values)\n",
    "print(rnn_inputs, rnn_input_values)\n",
    "print(cell_output)\n",
    "print(rnn_outputs)"
   ]
  },
  {
   "cell_type": "code",
   "execution_count": 16,
   "metadata": {},
   "outputs": [],
   "source": [
    "cell_output_value = sess.run(\n",
    "    cell_output,\n",
    "    {\n",
    "        cell_input: input_values,\n",
    "        cell_state: state_values,\n",
    "    }\n",
    ")\n",
    "rnn_output_values, final_state = sess.run(\n",
    "    [rnn_outputs, final_state],\n",
    "    {\n",
    "        rnn_inputs_ph: rnn_input_values,\n",
    "        cell_state: state_values,\n",
    "    }\n",
    ")"
   ]
  },
  {
   "cell_type": "markdown",
   "metadata": {},
   "source": [
    ""
   ]
  },
  {
   "cell_type": "code",
   "execution_count": 17,
   "metadata": {},
   "outputs": [
    {
     "name": "stdout",
     "output_type": "stream",
     "text": [
      "[[ 0.01364925 -0.03001923  0.01099671  0.10006332 -0.09449655]\n [ 0.01146973 -0.02243884  0.0202812   0.02001062  0.00931768]\n [ 0.00148686 -0.00457959  0.00133186  0.0112967  -0.00755501]\n [ 0.02792394 -0.03449276  0.03225492  0.14399907 -0.15013254]]\n[array([[ 0.01364925, -0.03001923,  0.01099671,  0.10006332, -0.09449655],\n       [ 0.01146973, -0.02243884,  0.0202812 ,  0.02001062,  0.00931768],\n       [ 0.00148686, -0.00457959,  0.00133186,  0.0112967 , -0.00755501],\n       [ 0.02792394, -0.03449276,  0.03225492,  0.14399907, -0.15013254]], dtype=float32)]\nLSTMStateTuple(c=array([[ 0.0295302 , -0.06906649,  0.02252459,  0.21047315, -0.15428998],\n       [ 0.0256122 , -0.05282619,  0.03538176,  0.04042629,  0.01666637],\n       [ 0.00299891, -0.00929151,  0.0026665 ,  0.0226783 , -0.01474612],\n       [ 0.07031271, -0.10156184,  0.05848939,  0.31648633, -0.21337438]], dtype=float32), h=array([[ 0.01364925, -0.03001923,  0.01099671,  0.10006332, -0.09449655],\n       [ 0.01146973, -0.02243884,  0.0202812 ,  0.02001062,  0.00931768],\n       [ 0.00148686, -0.00457959,  0.00133186,  0.0112967 , -0.00755501],\n       [ 0.02792394, -0.03449276,  0.03225492,  0.14399907, -0.15013254]], dtype=float32))\nLSTMStateTuple(c=array([[ 0.0295302 , -0.06906649,  0.02252459,  0.21047315, -0.15428998],\n       [ 0.0256122 , -0.05282619,  0.03538176,  0.04042629,  0.01666637],\n       [ 0.00299891, -0.00929151,  0.0026665 ,  0.0226783 , -0.01474612],\n       [ 0.07031271, -0.10156184,  0.05848939,  0.31648633, -0.21337438]], dtype=float32), h=array([[ 0.01364925, -0.03001923,  0.01099671,  0.10006332, -0.09449655],\n       [ 0.01146973, -0.02243884,  0.0202812 ,  0.02001062,  0.00931768],\n       [ 0.00148686, -0.00457959,  0.00133186,  0.0112967 , -0.00755501],\n       [ 0.02792394, -0.03449276,  0.03225492,  0.14399907, -0.15013254]], dtype=float32))\n"
     ]
    }
   ],
   "source": [
    "print(cell_output_value[0])\n",
    "print(rnn_output_values)\n",
    "print(cell_output_value[1])\n",
    "print(final_state)"
   ]
  },
  {
   "cell_type": "code",
   "execution_count": null,
   "metadata": {},
   "outputs": [],
   "source": [
    ""
   ]
  }
 ],
 "metadata": {
  "kernelspec": {
   "display_name": "Python 2",
   "language": "python",
   "name": "python2"
  },
  "language_info": {
   "codemirror_mode": {
    "name": "ipython",
    "version": 2.0
   },
   "file_extension": ".py",
   "mimetype": "text/x-python",
   "name": "python",
   "nbconvert_exporter": "python",
   "pygments_lexer": "ipython2",
   "version": "2.7.6"
  }
 },
 "nbformat": 4,
 "nbformat_minor": 0
}