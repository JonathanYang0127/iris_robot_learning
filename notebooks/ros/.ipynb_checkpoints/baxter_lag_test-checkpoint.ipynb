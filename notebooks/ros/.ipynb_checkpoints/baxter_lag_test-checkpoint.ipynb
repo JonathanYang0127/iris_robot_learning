{
 "cells": [
  {
   "cell_type": "code",
   "execution_count": 1,
   "metadata": {
    "collapsed": false,
    "deletable": true,
    "editable": true
   },
   "outputs": [],
   "source": [
    "import rospy\n",
    "from railrl.envs.ros.baxter_env import BaxterEnv\n",
    "import numpy as np"
   ]
  },
  {
   "cell_type": "code",
   "execution_count": 35,
   "metadata": {
    "collapsed": false,
    "deletable": true,
    "editable": true
   },
   "outputs": [],
   "source": [
    "bax = BaxterEnv(update_hz=1)"
   ]
  },
  {
   "cell_type": "markdown",
   "metadata": {
    "deletable": true,
    "editable": true
   },
   "source": [
    "last_obs = np.zeros(7)\n",
    "deltas_not_headless_yes_gui_1hz = []\n",
    "for i in range(101):\n",
    "    action = np.random.normal(np.zeros(7))/10\n",
    "    obs = bax.step(action)[0]\n",
    "    delta = last_obs + action - obs\n",
    "    last_obs = obs\n",
    "    if i > 0:\n",
    "        deltas_not_headless_yes_gui_1hz.append(delta)"
   ]
  },
  {
   "cell_type": "markdown",
   "metadata": {},
   "source": [
    "# Headless, No GUI"
   ]
  },
  {
   "cell_type": "markdown",
   "metadata": {},
   "source": [
    "20 Hz"
   ]
  },
  {
   "cell_type": "code",
   "execution_count": 41,
   "metadata": {
    "collapsed": false
   },
   "outputs": [
    {
     "name": "stdout",
     "output_type": "stream",
     "text": [
      "0.00569952409172\n"
     ]
    }
   ],
   "source": [
    "deltas = np.array(deltas_headless_no_gui_20hz)\n",
    "mse = np.mean(deltas**2)\n",
    "print(mse) # 0.00569952409172"
   ]
  },
  {
   "cell_type": "markdown",
   "metadata": {},
   "source": [
    "1 Hz"
   ]
  },
  {
   "cell_type": "code",
   "execution_count": 42,
   "metadata": {
    "collapsed": false
   },
   "outputs": [
    {
     "name": "stdout",
     "output_type": "stream",
     "text": [
      "0.000108352062346\n"
     ]
    }
   ],
   "source": [
    "deltas = np.array(deltas_headless_no_gui_1hz)\n",
    "mse = np.mean(deltas**2)\n",
    "print(mse) # 0.000108352062346"
   ]
  },
  {
   "cell_type": "markdown",
   "metadata": {},
   "source": [
    "# Not Headless, Yes GUI"
   ]
  },
  {
   "cell_type": "markdown",
   "metadata": {},
   "source": [
    "20 Hz"
   ]
  },
  {
   "cell_type": "code",
   "execution_count": 43,
   "metadata": {
    "collapsed": false
   },
   "outputs": [
    {
     "name": "stdout",
     "output_type": "stream",
     "text": [
      "0.0077387113417\n"
     ]
    }
   ],
   "source": [
    "deltas = np.array(deltas_not_headless_yes_gui_20hz)\n",
    "mse = np.mean(deltas**2)\n",
    "print(mse) # 0.0077387113417"
   ]
  },
  {
   "cell_type": "markdown",
   "metadata": {},
   "source": [
    "1 Hz"
   ]
  },
  {
   "cell_type": "code",
   "execution_count": 44,
   "metadata": {
    "collapsed": false
   },
   "outputs": [
    {
     "name": "stdout",
     "output_type": "stream",
     "text": [
      "0.000102031526745\n"
     ]
    }
   ],
   "source": [
    "deltas = np.array(deltas_not_headless_yes_gui_1hz)\n",
    "mse = np.mean(deltas**2)\n",
    "print(mse) # 0.000102031526745"
   ]
  },
  {
   "cell_type": "markdown",
   "metadata": {},
   "source": [
    "# Headless, Yes GUI\n",
    "Seems to have the same performance as Not Headless, Yes GUI"
   ]
  },
  {
   "cell_type": "markdown",
   "metadata": {},
   "source": [
    "## 20 Hz"
   ]
  },
  {
   "cell_type": "code",
   "execution_count": 21,
   "metadata": {
    "collapsed": false
   },
   "outputs": [
    {
     "name": "stdout",
     "output_type": "stream",
     "text": [
      "0.00710714859569\n"
     ]
    }
   ],
   "source": [
    "deltas = np.array(deltas_headless_yes_gui_20hz)\n",
    "mse = np.mean(deltas**2)\n",
    "print(mse) # 0.00710714859569"
   ]
  },
  {
   "cell_type": "markdown",
   "metadata": {},
   "source": [
    "## 1 Hz"
   ]
  },
  {
   "cell_type": "code",
   "execution_count": 24,
   "metadata": {
    "collapsed": false,
    "scrolled": true
   },
   "outputs": [
    {
     "name": "stdout",
     "output_type": "stream",
     "text": [
      "0.000223272669049\n"
     ]
    }
   ],
   "source": [
    "deltas = np.array(deltas_headless_yes_gui_1hz)\n",
    "mse = np.mean(deltas**2)\n",
    "print(mse) # 0.000223272669049"
   ]
  }
 ],
 "metadata": {
  "kernelspec": {
   "display_name": "Python 3",
   "language": "python",
   "name": "python3"
  },
  "language_info": {
   "codemirror_mode": {
    "name": "ipython",
    "version": 3
   },
   "file_extension": ".py",
   "mimetype": "text/x-python",
   "name": "python",
   "nbconvert_exporter": "python",
   "pygments_lexer": "ipython3",
   "version": "3.5.2"
  },
  "widgets": {
   "state": {},
   "version": "1.1.2"
  }
 },
 "nbformat": 4,
 "nbformat_minor": 0
}
